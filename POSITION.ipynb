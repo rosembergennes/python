{
  "nbformat": 4,
  "nbformat_minor": 0,
  "metadata": {
    "colab": {
      "name": "POSITION.ipynb",
      "provenance": [],
      "collapsed_sections": [
        "2w8_kdqbU2qg",
        "yZY_Z3LHWRQO"
      ],
      "include_colab_link": true
    },
    "kernelspec": {
      "name": "python3",
      "display_name": "Python 3"
    }
  },
  "cells": [
    {
      "cell_type": "markdown",
      "metadata": {
        "id": "view-in-github",
        "colab_type": "text"
      },
      "source": [
        "<a href=\"https://colab.research.google.com/github/rosembergennes/python/blob/master/POSITION.ipynb\" target=\"_parent\"><img src=\"https://colab.research.google.com/assets/colab-badge.svg\" alt=\"Open In Colab\"/></a>"
      ]
    },
    {
      "cell_type": "markdown",
      "metadata": {
        "id": "2w8_kdqbU2qg"
      },
      "source": [
        "## Carregando as BIBLIOTECAS "
      ]
    },
    {
      "cell_type": "code",
      "metadata": {
        "id": "YILuVDvLz-73",
        "outputId": "e34a332e-c8e1-4502-f091-6b4c2bcfaba4",
        "colab": {
          "base_uri": "https://localhost:8080/"
        }
      },
      "source": [
        "!apt update\n",
        "!apt install chromium-chromedriver\n",
        "!pip install dnspython\n",
        "\n",
        "import time\n",
        "from datetime import datetime, timedelta\n",
        "import requests\n",
        "import pandas as pd\n",
        "from google.colab import files\n",
        "import os\n",
        "import numpy as np\n",
        "from pandas import DataFrame\n",
        "import pandas as pd\n",
        "from datetime import timedelta, date ,datetime\n",
        "from decimal import Decimal\n",
        "import matplotlib.pyplot as plt\n",
        "from matplotlib.dates import DateFormatter\n",
        "import datetime\n",
        "from pymongo import MongoClient\n",
        "import pprint\n",
        "import datetime\n",
        "import json\n",
        "# Importando numpy\n",
        "import numpy as np\n",
        "import matplotlib.pyplot as plt\n",
        "from datetime import timedelta, date ,datetime\n",
        "pd.options.display.max_columns = None\n",
        "pd.options.display.max_rows = None\n"
      ],
      "execution_count": null,
      "outputs": [
        {
          "output_type": "stream",
          "text": [
            "\u001b[33m\r0% [Working]\u001b[0m\r            \rIgn:1 https://developer.download.nvidia.com/compute/cuda/repos/ubuntu1804/x86_64  InRelease\n",
            "\u001b[33m\r0% [Connecting to archive.ubuntu.com (91.189.88.152)] [Waiting for headers] [Co\u001b[0m\r                                                                               \rGet:2 https://cloud.r-project.org/bin/linux/ubuntu bionic-cran35/ InRelease [3,626 B]\n",
            "\u001b[33m\r0% [Waiting for headers] [Waiting for headers] [2 InRelease 0 B/3,626 B 0%] [Wa\u001b[0m\u001b[33m\r0% [Waiting for headers] [Waiting for headers] [Waiting for headers] [Waiting f\u001b[0m\u001b[33m\r0% [2 InRelease gpgv 3,626 B] [Waiting for headers] [Waiting for headers] [Wait\u001b[0m\r                                                                               \rHit:3 http://ppa.launchpad.net/graphics-drivers/ppa/ubuntu bionic InRelease\n",
            "\u001b[33m\r0% [2 InRelease gpgv 3,626 B] [Waiting for headers] [Waiting for headers] [Wait\u001b[0m\r                                                                               \rIgn:4 https://developer.download.nvidia.com/compute/machine-learning/repos/ubuntu1804/x86_64  InRelease\n",
            "\u001b[33m\r0% [2 InRelease gpgv 3,626 B] [Waiting for headers] [Waiting for headers] [Conn\u001b[0m\r                                                                               \rGet:5 http://security.ubuntu.com/ubuntu bionic-security InRelease [88.7 kB]\n",
            "\u001b[33m\r0% [2 InRelease gpgv 3,626 B] [Waiting for headers] [5 InRelease 14.2 kB/88.7 k\u001b[0m\r                                                                               \rGet:6 https://developer.download.nvidia.com/compute/cuda/repos/ubuntu1804/x86_64  Release [697 B]\n",
            "\u001b[33m\r0% [2 InRelease gpgv 3,626 B] [Waiting for headers] [5 InRelease 14.2 kB/88.7 k\u001b[0m\u001b[33m\r0% [2 InRelease gpgv 3,626 B] [Waiting for headers] [5 InRelease 14.2 kB/88.7 k\u001b[0m\r                                                                               \rHit:7 https://developer.download.nvidia.com/compute/machine-learning/repos/ubuntu1804/x86_64  Release\n",
            "Get:8 https://developer.download.nvidia.com/compute/cuda/repos/ubuntu1804/x86_64  Release.gpg [836 B]\n",
            "Hit:9 http://archive.ubuntu.com/ubuntu bionic InRelease\n",
            "Get:10 http://ppa.launchpad.net/marutter/c2d4u3.5/ubuntu bionic InRelease [15.4 kB]\n",
            "Get:11 http://archive.ubuntu.com/ubuntu bionic-updates InRelease [88.7 kB]\n",
            "Get:12 http://archive.ubuntu.com/ubuntu bionic-backports InRelease [74.6 kB]\n",
            "Ign:14 https://developer.download.nvidia.com/compute/cuda/repos/ubuntu1804/x86_64  Packages\n",
            "Get:14 https://developer.download.nvidia.com/compute/cuda/repos/ubuntu1804/x86_64  Packages [306 kB]\n",
            "Get:15 http://security.ubuntu.com/ubuntu bionic-security/restricted amd64 Packages [126 kB]\n",
            "Get:16 http://security.ubuntu.com/ubuntu bionic-security/main amd64 Packages [1,115 kB]\n",
            "Get:17 http://security.ubuntu.com/ubuntu bionic-security/universe amd64 Packages [907 kB]\n",
            "Get:18 http://ppa.launchpad.net/marutter/c2d4u3.5/ubuntu bionic/main Sources [1,876 kB]\n",
            "Get:19 http://archive.ubuntu.com/ubuntu bionic-updates/universe amd64 Packages [1,434 kB]\n",
            "Get:20 http://archive.ubuntu.com/ubuntu bionic-updates/restricted amd64 Packages [146 kB]\n",
            "Get:21 http://archive.ubuntu.com/ubuntu bionic-updates/main amd64 Packages [1,406 kB]\n",
            "Get:22 http://archive.ubuntu.com/ubuntu bionic-updates/multiverse amd64 Packages [33.9 kB]\n",
            "Get:23 http://ppa.launchpad.net/marutter/c2d4u3.5/ubuntu bionic/main amd64 Packages [906 kB]\n",
            "Fetched 8,529 kB in 3s (2,591 kB/s)\n",
            "Reading package lists... Done\n",
            "Building dependency tree       \n",
            "Reading state information... Done\n",
            "53 packages can be upgraded. Run 'apt list --upgradable' to see them.\n",
            "Reading package lists... Done\n",
            "Building dependency tree       \n",
            "Reading state information... Done\n",
            "The following additional packages will be installed:\n",
            "  chromium-browser chromium-browser-l10n chromium-codecs-ffmpeg-extra\n",
            "Suggested packages:\n",
            "  webaccounts-chromium-extension unity-chromium-extension adobe-flashplugin\n",
            "The following NEW packages will be installed:\n",
            "  chromium-browser chromium-browser-l10n chromium-chromedriver\n",
            "  chromium-codecs-ffmpeg-extra\n",
            "0 upgraded, 4 newly installed, 0 to remove and 53 not upgraded.\n",
            "Need to get 79.2 MB of archives.\n",
            "After this operation, 268 MB of additional disk space will be used.\n",
            "Get:1 http://archive.ubuntu.com/ubuntu bionic-updates/universe amd64 chromium-codecs-ffmpeg-extra amd64 85.0.4183.83-0ubuntu0.18.04.2 [1,118 kB]\n",
            "Get:2 http://archive.ubuntu.com/ubuntu bionic-updates/universe amd64 chromium-browser amd64 85.0.4183.83-0ubuntu0.18.04.2 [70.3 MB]\n",
            "Get:3 http://archive.ubuntu.com/ubuntu bionic-updates/universe amd64 chromium-browser-l10n all 85.0.4183.83-0ubuntu0.18.04.2 [3,431 kB]\n",
            "Get:4 http://archive.ubuntu.com/ubuntu bionic-updates/universe amd64 chromium-chromedriver amd64 85.0.4183.83-0ubuntu0.18.04.2 [4,412 kB]\n",
            "Fetched 79.2 MB in 3s (23.7 MB/s)\n",
            "Selecting previously unselected package chromium-codecs-ffmpeg-extra.\n",
            "(Reading database ... 144676 files and directories currently installed.)\n",
            "Preparing to unpack .../chromium-codecs-ffmpeg-extra_85.0.4183.83-0ubuntu0.18.04.2_amd64.deb ...\n",
            "Unpacking chromium-codecs-ffmpeg-extra (85.0.4183.83-0ubuntu0.18.04.2) ...\n",
            "Selecting previously unselected package chromium-browser.\n",
            "Preparing to unpack .../chromium-browser_85.0.4183.83-0ubuntu0.18.04.2_amd64.deb ...\n",
            "Unpacking chromium-browser (85.0.4183.83-0ubuntu0.18.04.2) ...\n",
            "Selecting previously unselected package chromium-browser-l10n.\n",
            "Preparing to unpack .../chromium-browser-l10n_85.0.4183.83-0ubuntu0.18.04.2_all.deb ...\n",
            "Unpacking chromium-browser-l10n (85.0.4183.83-0ubuntu0.18.04.2) ...\n",
            "Selecting previously unselected package chromium-chromedriver.\n",
            "Preparing to unpack .../chromium-chromedriver_85.0.4183.83-0ubuntu0.18.04.2_amd64.deb ...\n",
            "Unpacking chromium-chromedriver (85.0.4183.83-0ubuntu0.18.04.2) ...\n",
            "Setting up chromium-codecs-ffmpeg-extra (85.0.4183.83-0ubuntu0.18.04.2) ...\n",
            "Setting up chromium-browser (85.0.4183.83-0ubuntu0.18.04.2) ...\n",
            "update-alternatives: using /usr/bin/chromium-browser to provide /usr/bin/x-www-browser (x-www-browser) in auto mode\n",
            "update-alternatives: using /usr/bin/chromium-browser to provide /usr/bin/gnome-www-browser (gnome-www-browser) in auto mode\n",
            "Setting up chromium-chromedriver (85.0.4183.83-0ubuntu0.18.04.2) ...\n",
            "Setting up chromium-browser-l10n (85.0.4183.83-0ubuntu0.18.04.2) ...\n",
            "Processing triggers for hicolor-icon-theme (0.17-2) ...\n",
            "Processing triggers for mime-support (3.60ubuntu1) ...\n",
            "Processing triggers for man-db (2.8.3-2ubuntu0.1) ...\n",
            "Collecting dnspython\n",
            "\u001b[?25l  Downloading https://files.pythonhosted.org/packages/90/49/cb426577c28ca3e35332815b795a99e467523843fc83cc85ca0d6be2515a/dnspython-2.0.0-py3-none-any.whl (208kB)\n",
            "\u001b[K     |████████████████████████████████| 215kB 3.0MB/s \n",
            "\u001b[?25hInstalling collected packages: dnspython\n",
            "Successfully installed dnspython-2.0.0\n"
          ],
          "name": "stdout"
        }
      ]
    },
    {
      "cell_type": "markdown",
      "metadata": {
        "id": "Q0ksk9vnVFX7"
      },
      "source": [
        "## OBTENDO DADOS DO ATLAS MONGODB"
      ]
    },
    {
      "cell_type": "code",
      "metadata": {
        "id": "7SqOSXc60wNw"
      },
      "source": [
        "# obtendo dados do atlas mongodb\n",
        "client = MongoClient(\"mongodb+srv:\")\n",
        "db = client.acoes\n",
        "collection = db.TCCBIGDATA\n",
        "data = pd.DataFrame(list(collection.find()))\n"
      ],
      "execution_count": null,
      "outputs": []
    },
    {
      "cell_type": "code",
      "metadata": {
        "id": "BoYfgX9PsfXV"
      },
      "source": [
        "# limpeza dos dados em Branco \n",
        "data = data.dropna(subset=['SETOR'])\n",
        "data = data.loc[(data['SETOR'] != \"\")]"
      ],
      "execution_count": null,
      "outputs": []
    },
    {
      "cell_type": "markdown",
      "metadata": {
        "id": "-J6nku5gu_06"
      },
      "source": [
        "## ANALISANDO MELHORES EMPRESAS PARA INVESTIMENTO A LONGO PRAZO"
      ]
    },
    {
      "cell_type": "code",
      "metadata": {
        "id": "Yl6s5W2FYMf5"
      },
      "source": [
        "# OBSERVAÇÃO METODO ESCOLHIDO.\n",
        "#\n",
        "# Após analisar resultados e compara-los com os graficos, observou-se que a utilização da MEDIANA\n",
        "# representa a melhor tomada de decisão.   \n",
        "#\n",
        "# O Periodo diferente do swingtrade não será filtrado, analisando todo periodo disponivel na base\n",
        "# contemplado o perfil de investidor de position.\n",
        "\n",
        "# Analisando por oportunidade de ganho a longo prazo. \n",
        "# Os investimentos poderão ser focados em acoes dos setores que estão em baixa,\n",
        "# que devido a natureza do mercado financeiro futuramente poderão se recupera fornecendo assim maior margem de lucro.\n",
        "# Cabendo ao investidor se deseja optar por tal estrategia. \n",
        "# <<< Como não possuimos uma base de longo prazo tal tecnica não pode ser confirmada >>>\n",
        "#\n",
        "#\n",
        "# Nota ==> para que a afirmações acima sejam verdadeira temos que analisar o perfil das ações disponibilizadas pelas empresas,\n",
        "#          assim temos que levar em consideração os seguintes intes.\n",
        "\n",
        "# 1.) Filtra por => Ações PREFERENCIAIS, são todas as ações com o campo ESPECI contendo a String PN  \n",
        "#                  (este tipo de ação alem do rendimento paga dividendos e se os dividendos não forem recuperados converten-se em mais ações).\n",
        "\n",
        "# 2.) A mediana também se mostrou eficaz na modalidade Position.\n",
        "# Agrupamos por ação a ser negociada, aplicando em seguida a mediana nos campos PREULT, VPA e GIROATIVO;\n",
        "\n",
        "# \n",
        "# 3.) Ordeno do maior para o menor Giro  <<< LENVAMOS EM CONTA A EFICIENCIA DA EMPRESA >>>\n",
        "# GIROATIVO >0 em caso de desejar maior regibilidade aumenta-se o GIROATIVO ex : GIROATIVO >0.20\n",
        "# Empresa como Petrobras PETR4 possuem na presente data GIROATIVO == 0,27\n",
        "#\n",
        "# 4.) Geramos o campo pós-crescimento (POS_CRESC), que é a diferença entre o último preço (PREULT) e o valor patrimonial por ação (VPA);\n",
        "#\n",
        "# 5.) Calcular o possivel crescimento ( POS_CRESC ),  levando-se em consideração a mediana:\n",
        "#     POS_CRESC = PREULT-VPA\n"
      ],
      "execution_count": null,
      "outputs": []
    },
    {
      "cell_type": "code",
      "metadata": {
        "id": "soZjdgvmm8Yb",
        "outputId": "24fe4226-2a3f-4d2e-de20-16b3e961b1b5",
        "colab": {
          "base_uri": "https://localhost:8080/",
          "height": 195
        }
      },
      "source": [
        "# seleciona linhas que contêm a palavra PN\n",
        "# OBS :\n",
        "# Qualquer coisa que não seja uma string não pode ter métodos de string aplicados, \n",
        "# então o resultado é NaN (naturalmente).\n",
        "# Só colocamos na=False para esclarecer pois já realizamos esta limpeza em processos anteriores.\n",
        "\n",
        "# 1.)\n",
        "df_pn =data[data['ESPECI'].str.contains(\"PN\", na=False )]\n",
        "\n",
        "# 2.)\n",
        "# df_pn.head()\n",
        "df_pn=df_pn.groupby(['CODNEG','NOMRES','SETOR'])[['PREULT','VPA','GIROATIVO']].median().reset_index()\n",
        "\n",
        "# 3.)\n",
        "df_empresas_saudaves=df_pn.query('GIROATIVO >0.20 & VPA >0 & VPA <PREULT')\n",
        "df_empresas_saudaves.head()"
      ],
      "execution_count": null,
      "outputs": [
        {
          "output_type": "execute_result",
          "data": {
            "text/html": [
              "<div>\n",
              "<style scoped>\n",
              "    .dataframe tbody tr th:only-of-type {\n",
              "        vertical-align: middle;\n",
              "    }\n",
              "\n",
              "    .dataframe tbody tr th {\n",
              "        vertical-align: top;\n",
              "    }\n",
              "\n",
              "    .dataframe thead th {\n",
              "        text-align: right;\n",
              "    }\n",
              "</style>\n",
              "<table border=\"1\" class=\"dataframe\">\n",
              "  <thead>\n",
              "    <tr style=\"text-align: right;\">\n",
              "      <th></th>\n",
              "      <th>CODNEG</th>\n",
              "      <th>NOMRES</th>\n",
              "      <th>SETOR</th>\n",
              "      <th>PREULT</th>\n",
              "      <th>VPA</th>\n",
              "      <th>GIROATIVO</th>\n",
              "    </tr>\n",
              "  </thead>\n",
              "  <tbody>\n",
              "    <tr>\n",
              "      <th>1</th>\n",
              "      <td>AHEB5</td>\n",
              "      <td>SPTURIS</td>\n",
              "      <td>Exploração de Imóveis</td>\n",
              "      <td>24.890</td>\n",
              "      <td>1.070</td>\n",
              "      <td>0.390</td>\n",
              "    </tr>\n",
              "    <tr>\n",
              "      <th>2</th>\n",
              "      <td>AHEB6</td>\n",
              "      <td>SPTURIS</td>\n",
              "      <td>Exploração de Imóveis</td>\n",
              "      <td>24.915</td>\n",
              "      <td>1.805</td>\n",
              "      <td>0.365</td>\n",
              "    </tr>\n",
              "    <tr>\n",
              "      <th>3</th>\n",
              "      <td>ALPA4</td>\n",
              "      <td>ALPARGATAS</td>\n",
              "      <td>Tecidos, Vestuário e Calçados</td>\n",
              "      <td>35.925</td>\n",
              "      <td>4.850</td>\n",
              "      <td>0.480</td>\n",
              "    </tr>\n",
              "    <tr>\n",
              "      <th>4</th>\n",
              "      <td>ALUP4</td>\n",
              "      <td>ALUPAR</td>\n",
              "      <td>Energia Elétrica</td>\n",
              "      <td>7.045</td>\n",
              "      <td>6.040</td>\n",
              "      <td>0.240</td>\n",
              "    </tr>\n",
              "    <tr>\n",
              "      <th>7</th>\n",
              "      <td>BALM4</td>\n",
              "      <td>BAUMER</td>\n",
              "      <td>Máquinas e Equipamentos</td>\n",
              "      <td>12.390</td>\n",
              "      <td>10.760</td>\n",
              "      <td>0.720</td>\n",
              "    </tr>\n",
              "  </tbody>\n",
              "</table>\n",
              "</div>"
            ],
            "text/plain": [
              "  CODNEG      NOMRES                          SETOR  PREULT     VPA  GIROATIVO\n",
              "1  AHEB5     SPTURIS          Exploração de Imóveis  24.890   1.070      0.390\n",
              "2  AHEB6     SPTURIS          Exploração de Imóveis  24.915   1.805      0.365\n",
              "3  ALPA4  ALPARGATAS  Tecidos, Vestuário e Calçados  35.925   4.850      0.480\n",
              "4  ALUP4      ALUPAR               Energia Elétrica   7.045   6.040      0.240\n",
              "7  BALM4      BAUMER        Máquinas e Equipamentos  12.390  10.760      0.720"
            ]
          },
          "metadata": {
            "tags": []
          },
          "execution_count": 5
        }
      ]
    },
    {
      "cell_type": "code",
      "metadata": {
        "id": "oniOamSawucf"
      },
      "source": [
        "# OBSERVAÇÃO TECNICA I\n",
        "# a DataFrame é que você está tentando fazer uma operação chamada chained indexing, \n",
        "# Adotamos refazer o indice\n",
        "df_pos_cres = df_empresas_saudaves.reset_index(drop=True) \n",
        "# df_pos_cres.head()\n"
      ],
      "execution_count": null,
      "outputs": []
    },
    {
      "cell_type": "code",
      "metadata": {
        "id": "58Y3aRfuvO6z",
        "outputId": "94e76b36-3669-4f72-969e-6ed859498d9b",
        "colab": {
          "base_uri": "https://localhost:8080/",
          "height": 750
        }
      },
      "source": [
        "\n",
        "# 4.)\n",
        "df_pos_cres['POS_CRESC']=df_pos_cres['PREULT']-df_pos_cres['VPA']\n",
        "# df_pos_cres.head()\n",
        "\n",
        "# 5.) \n",
        "df_pos_cres_ordenado= df_pos_cres.sort_values(\"POS_CRESC\",ascending=True)\n",
        "# df_pos_cres_ordenado.head()\n",
        "\n",
        "df_pos_cres_ordenado_top10=df_pos_cres_ordenado.head(10).reset_index(drop=True)\n",
        "df_pos_cres_ordenado_top10['NOMRES_CODNEG']=df_pos_cres_ordenado_top10.apply(lambda x:'%s (%s %s)' % (x['NOMRES'],x['CODNEG'],x['SETOR']),axis=1)\n",
        "df_pos_cres_ordenado_top10[\"PREULT\"]=round(df_pos_cres_ordenado_top10[\"PREULT\"],2)\n",
        "df_pos_cres_ordenado_top10[\"VPA\"]=round(df_pos_cres_ordenado_top10[\"VPA\"],2)\n",
        "df_pos_cres_ordenado_top10[\"GIROATIVO\"]=round(df_pos_cres_ordenado_top10[\"GIROATIVO\"],2)\n",
        "df_pos_cres_ordenado_top10[\"POS_CRESC\"]=round(df_pos_cres_ordenado_top10[\"POS_CRESC\"],2)\n",
        "df_pos_cres_ordenado_top10.head(15)"
      ],
      "execution_count": null,
      "outputs": [
        {
          "output_type": "execute_result",
          "data": {
            "text/html": [
              "<div>\n",
              "<style scoped>\n",
              "    .dataframe tbody tr th:only-of-type {\n",
              "        vertical-align: middle;\n",
              "    }\n",
              "\n",
              "    .dataframe tbody tr th {\n",
              "        vertical-align: top;\n",
              "    }\n",
              "\n",
              "    .dataframe thead th {\n",
              "        text-align: right;\n",
              "    }\n",
              "</style>\n",
              "<table border=\"1\" class=\"dataframe\">\n",
              "  <thead>\n",
              "    <tr style=\"text-align: right;\">\n",
              "      <th></th>\n",
              "      <th>CODNEG</th>\n",
              "      <th>NOMRES</th>\n",
              "      <th>SETOR</th>\n",
              "      <th>PREULT</th>\n",
              "      <th>VPA</th>\n",
              "      <th>GIROATIVO</th>\n",
              "      <th>POS_CRESC</th>\n",
              "      <th>NOMRES_CODNEG</th>\n",
              "    </tr>\n",
              "  </thead>\n",
              "  <tbody>\n",
              "    <tr>\n",
              "      <th>0</th>\n",
              "      <td>CRPG6</td>\n",
              "      <td>CRISTAL</td>\n",
              "      <td>Químicos</td>\n",
              "      <td>20.95</td>\n",
              "      <td>20.86</td>\n",
              "      <td>0.61</td>\n",
              "      <td>0.09</td>\n",
              "      <td>CRISTAL (CRPG6 Químicos)</td>\n",
              "    </tr>\n",
              "    <tr>\n",
              "      <th>1</th>\n",
              "      <td>PATI4</td>\n",
              "      <td>PANATLANTICA</td>\n",
              "      <td>Siderurgia e Metalurgia</td>\n",
              "      <td>28.96</td>\n",
              "      <td>28.76</td>\n",
              "      <td>0.88</td>\n",
              "      <td>0.20</td>\n",
              "      <td>PANATLANTICA (PATI4 Siderurgia e Metalurgia)</td>\n",
              "    </tr>\n",
              "    <tr>\n",
              "      <th>2</th>\n",
              "      <td>POMO4</td>\n",
              "      <td>MARCOPOLO</td>\n",
              "      <td>Material de Transporte</td>\n",
              "      <td>2.84</td>\n",
              "      <td>2.61</td>\n",
              "      <td>0.69</td>\n",
              "      <td>0.23</td>\n",
              "      <td>MARCOPOLO (POMO4 Material de Transporte)</td>\n",
              "    </tr>\n",
              "    <tr>\n",
              "      <th>3</th>\n",
              "      <td>ALUP4</td>\n",
              "      <td>ALUPAR</td>\n",
              "      <td>Energia Elétrica</td>\n",
              "      <td>7.04</td>\n",
              "      <td>6.04</td>\n",
              "      <td>0.24</td>\n",
              "      <td>1.00</td>\n",
              "      <td>ALUPAR (ALUP4 Energia Elétrica)</td>\n",
              "    </tr>\n",
              "    <tr>\n",
              "      <th>4</th>\n",
              "      <td>OIBR4</td>\n",
              "      <td>OI</td>\n",
              "      <td>Telefonia Fixa</td>\n",
              "      <td>2.46</td>\n",
              "      <td>1.36</td>\n",
              "      <td>0.26</td>\n",
              "      <td>1.10</td>\n",
              "      <td>OI (OIBR4 Telefonia Fixa)</td>\n",
              "    </tr>\n",
              "    <tr>\n",
              "      <th>5</th>\n",
              "      <td>SAPR4</td>\n",
              "      <td>SANEPAR</td>\n",
              "      <td>Água e Saneamento</td>\n",
              "      <td>5.44</td>\n",
              "      <td>4.29</td>\n",
              "      <td>0.38</td>\n",
              "      <td>1.15</td>\n",
              "      <td>SANEPAR (SAPR4 Água e Saneamento)</td>\n",
              "    </tr>\n",
              "    <tr>\n",
              "      <th>6</th>\n",
              "      <td>BALM4</td>\n",
              "      <td>BAUMER</td>\n",
              "      <td>Máquinas e Equipamentos</td>\n",
              "      <td>12.39</td>\n",
              "      <td>10.76</td>\n",
              "      <td>0.72</td>\n",
              "      <td>1.63</td>\n",
              "      <td>BAUMER (BALM4 Máquinas e Equipamentos)</td>\n",
              "    </tr>\n",
              "    <tr>\n",
              "      <th>7</th>\n",
              "      <td>GGBR4</td>\n",
              "      <td>GERDAU</td>\n",
              "      <td>Siderurgia e Metalurgia</td>\n",
              "      <td>19.64</td>\n",
              "      <td>17.48</td>\n",
              "      <td>0.60</td>\n",
              "      <td>2.16</td>\n",
              "      <td>GERDAU (GGBR4 Siderurgia e Metalurgia)</td>\n",
              "    </tr>\n",
              "    <tr>\n",
              "      <th>8</th>\n",
              "      <td>TIET4</td>\n",
              "      <td>AES TIETE E</td>\n",
              "      <td>Energia Elétrica</td>\n",
              "      <td>2.96</td>\n",
              "      <td>0.78</td>\n",
              "      <td>0.24</td>\n",
              "      <td>2.18</td>\n",
              "      <td>AES TIETE E (TIET4 Energia Elétrica)</td>\n",
              "    </tr>\n",
              "    <tr>\n",
              "      <th>9</th>\n",
              "      <td>EMAE4</td>\n",
              "      <td>EMAE</td>\n",
              "      <td>Energia Elétrica</td>\n",
              "      <td>29.94</td>\n",
              "      <td>27.57</td>\n",
              "      <td>0.28</td>\n",
              "      <td>2.37</td>\n",
              "      <td>EMAE (EMAE4 Energia Elétrica)</td>\n",
              "    </tr>\n",
              "  </tbody>\n",
              "</table>\n",
              "</div>"
            ],
            "text/plain": [
              "  CODNEG        NOMRES                    SETOR  PREULT    VPA  GIROATIVO  \\\n",
              "0  CRPG6       CRISTAL                 Químicos   20.95  20.86       0.61   \n",
              "1  PATI4  PANATLANTICA  Siderurgia e Metalurgia   28.96  28.76       0.88   \n",
              "2  POMO4     MARCOPOLO   Material de Transporte    2.84   2.61       0.69   \n",
              "3  ALUP4        ALUPAR         Energia Elétrica    7.04   6.04       0.24   \n",
              "4  OIBR4            OI           Telefonia Fixa    2.46   1.36       0.26   \n",
              "5  SAPR4       SANEPAR        Água e Saneamento    5.44   4.29       0.38   \n",
              "6  BALM4        BAUMER  Máquinas e Equipamentos   12.39  10.76       0.72   \n",
              "7  GGBR4        GERDAU  Siderurgia e Metalurgia   19.64  17.48       0.60   \n",
              "8  TIET4   AES TIETE E         Energia Elétrica    2.96   0.78       0.24   \n",
              "9  EMAE4          EMAE         Energia Elétrica   29.94  27.57       0.28   \n",
              "\n",
              "   POS_CRESC                                 NOMRES_CODNEG  \n",
              "0       0.09                      CRISTAL (CRPG6 Químicos)  \n",
              "1       0.20  PANATLANTICA (PATI4 Siderurgia e Metalurgia)  \n",
              "2       0.23      MARCOPOLO (POMO4 Material de Transporte)  \n",
              "3       1.00               ALUPAR (ALUP4 Energia Elétrica)  \n",
              "4       1.10                     OI (OIBR4 Telefonia Fixa)  \n",
              "5       1.15             SANEPAR (SAPR4 Água e Saneamento)  \n",
              "6       1.63        BAUMER (BALM4 Máquinas e Equipamentos)  \n",
              "7       2.16        GERDAU (GGBR4 Siderurgia e Metalurgia)  \n",
              "8       2.18          AES TIETE E (TIET4 Energia Elétrica)  \n",
              "9       2.37                 EMAE (EMAE4 Energia Elétrica)  "
            ]
          },
          "metadata": {
            "tags": []
          },
          "execution_count": 7
        }
      ]
    },
    {
      "cell_type": "code",
      "metadata": {
        "id": "FtOCtMLQh5q8",
        "outputId": "bbfca46a-1cad-455e-fa12-cfe1f3b091ee",
        "colab": {
          "base_uri": "https://localhost:8080/",
          "height": 482
        }
      },
      "source": [
        "# Area de plotagem do Grafico definindo o tamanho figsize=(8,8)\n",
        "fig, ax = plt.subplots(figsize=(8,8), subplot_kw=dict(aspect=\"equal\"))\n",
        "\n",
        "# Matriz dos dados (valores,titulos)\n",
        "valores =  df_pos_cres_ordenado_top10[\"POS_CRESC\"].head(10)\n",
        "titulos =  df_pos_cres_ordenado_top10[\"NOMRES_CODNEG\"].head(10)\n",
        "\n",
        "# Calculo para porcentagem dentro do grafico\n",
        "def func(pct, allvals):\n",
        "    absolute = int(pct/100.*np.sum(allvals))\n",
        "    return \"{:.2f}%\".format(pct, absolute)\n",
        "\n",
        "# Criando o grafico e acertando as legendas\n",
        "wedges, texts, autotexts = ax.pie(valores, autopct=lambda pct: func(pct, valores),\n",
        "                                  textprops=dict(color=\"w\"))\n",
        "\n",
        "ax.legend(wedges, titulos,\n",
        "          title=\"AÇÕES\",\n",
        "          loc=\"center left\",\n",
        "          bbox_to_anchor=(1, 0, 0.5, 1))\n",
        "\n",
        "plt.setp(autotexts, size=8, weight=\"bold\")\n",
        "\n",
        "ax.set_title(\"MAIORES POSSIBILIDADES DE CRESCIMENTO\")\n",
        "\n",
        "plt.show()"
      ],
      "execution_count": null,
      "outputs": [
        {
          "output_type": "display_data",
          "data": {
            "image/png": "[encoded data removed]",
            "text/plain": [
              "<Figure size 576x576 with 1 Axes>"
            ]
          },
          "metadata": {
            "tags": []
          }
        }
      ]
    }
  ]
}
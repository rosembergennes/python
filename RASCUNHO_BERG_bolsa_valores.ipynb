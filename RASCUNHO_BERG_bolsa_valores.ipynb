{
  "nbformat": 4,
  "nbformat_minor": 0,
  "metadata": {
    "kernelspec": {
      "display_name": "Python 3",
      "language": "python",
      "name": "python3"
    },
    "language_info": {
      "codemirror_mode": {
        "name": "ipython",
        "version": 3
      },
      "file_extension": ".py",
      "mimetype": "text/x-python",
      "name": "python",
      "nbconvert_exporter": "python",
      "pygments_lexer": "ipython3",
      "version": "3.7.1"
    },
    "colab": {
      "name": "RASCUNHO BERG bolsa_valores.ipynb",
      "provenance": [],
      "collapsed_sections": [
        "a_7_dbsKPngv",
        "8JZhI5xXOgkB"
      ],
      "include_colab_link": true
    }
  },
  "cells": [
    {
      "cell_type": "markdown",
      "metadata": {
        "id": "view-in-github",
        "colab_type": "text"
      },
      "source": [
        "<a href=\"https://colab.research.google.com/github/rosembergennes/python/blob/master/RASCUNHO_BERG_bolsa_valores.ipynb\" target=\"_parent\"><img src=\"https://colab.research.google.com/assets/colab-badge.svg\" alt=\"Open In Colab\"/></a>"
      ]
    },
    {
      "cell_type": "markdown",
      "metadata": {
        "id": "Db-4XaQ2aAzY",
        "colab_type": "text"
      },
      "source": [
        "### OBTENDO O ARQUIVO PARA ANALISE\n"
      ]
    },
    {
      "cell_type": "code",
      "metadata": {
        "id": "PmxpKk-UDfDV",
        "colab_type": "code",
        "colab": {}
      },
      "source": [
        "NOMARQ = slice(2, 15)\n",
        "CODORI = slice(15, 23)\n",
        "DATGER = slice(23, 31)\n",
        "FILL00 = slice(31, 245)\n",
        "\n",
        "TOTREG = slice(31, 42)\n",
        "FILL99 = slice(42, 245)\n",
        "\n",
        "# REGISTRO - 01  - COTAÇÕES HISTÓRICAS POR PAPEL-MERCADO\n",
        "TIPREG = slice(0, 2)     # FIXO \"01\"              N(01) \n",
        "DATPRG = slice(2, 10)    # FORMATO “AAAAMMDD”     N(08)       \n",
        "CODBDI = slice(10, 12)   # VER TABELA ANEXA       X(02)       \n",
        "CODNEG = slice(12, 24)   #                        X(12)       \n",
        "TPMERC = slice(24, 27)   # VER TABELA ANEXA       N(03)      \n",
        "NOMRES = slice(27, 39)   #                        X(12) \n",
        "ESPECI = slice(39, 49)   # VER TABELA ANEXA       X(10)       \n",
        "PRAZOT = slice(49, 52)   #                        X(03)       \n",
        "MODREF = slice(52, 56)   #                        X(04)\n",
        "PREABE = slice(56, 69)   #                        N(11)V99    \n",
        "PREMAX = slice(69, 82)   #                        N(11)V99    \n",
        "PREMIN = slice(82, 95)   #                        N(11)V99    \n",
        "PREMED = slice(95, 108)  #                        N(11)V99    \n",
        "PREULT = slice(108, 121) #                        N(11)V99   \n",
        "PREOFC = slice(121, 134) #                        N(11)V99   \n",
        "PREOFV = slice(134, 147) #                        N(11)V99   \n",
        "TOTNEG = slice(147, 152) #                        N(05)      \n",
        "QUATOT = slice(152, 170) #                        N(18)      \n",
        "VOLTOT = slice(170, 188) #                        N(16)V99   \n",
        "PREEXE = slice(188, 201) #                        N(11)V99   \n",
        "INDOPC = slice(201, 202) # VER TABELA ANEXA       N(01)      \n",
        "DATVEN = slice(202, 210) # FORMATO “AAAAMMDD”     N(08)      \n",
        "FATCOT = slice(210, 217) #                        N(07)        ‘1’ = COTAÇÃO UNIT ‘1000’ = COTAÇÃO P/ LOTE DE MIL AÇÕES\n",
        "PTOEXE = slice(217, 230) #                        N(07)V06     1 PONTO = 1/100 US$\n",
        "CODISI = slice(230, 242) #                        X(12)      \n",
        "DISMES = slice(242, 245) #                        9(03)  \n",
        "\n",
        "tipo00 = [TIPREG, NOMARQ, CODORI, DATGER, FILL00]\n",
        "nmtp00 = ['TIPREG', 'NOMARQ', 'CODORI', 'DATGER', 'FILL00']\n",
        "widt00 = [2, 13, 8, 8, 214]\n",
        "\n",
        "tipo99 = [TIPREG, NOMARQ, CODORI, DATGER, TOTREG, FILL99]\n",
        "nmtp99 = ['TIPREG', 'NOMARQ', 'CODORI', 'DATGER', 'TOTREG', 'FILL99']\n",
        "widt99 = [2, 13, 8, 8, 214]\n",
        "\n",
        "tipo01 = [TIPREG, DATPRG, CODBDI, CODNEG, TPMERC, NOMRES, ESPECI, PRAZOT, MODREF, PREABE, \n",
        "          PREMAX, PREMIN, PREMED, PREULT, PREOFC, PREOFV, TOTNEG, QUATOT, VOLTOT, PREEXE, \n",
        "          INDOPC, DATVEN, FATCOT, PTOEXE, CODISI, DISMES]\n",
        "nmtp01 = ['TIPREG', 'DATPRG', 'CODBDI', 'CODNEG', 'TPMERC', 'NOMRES', 'ESPECI', 'PRAZOT', \n",
        "          'MODREF', 'PREABE', 'PREMAX', 'PREMIN', 'PREMED', 'PREULT', 'PREOFC', 'PREOFV', \n",
        "          'TOTNEG', 'QUATOT', 'VOLTOT', 'PREEXE', 'INDOPC', 'DATVEN', 'FATCOT', 'PTOEXE', \n",
        "          'CODISI', 'DISMES']\n",
        "widt01 = [2, 8, 2, 12, 3, 12, 10, 3, 4, 13, 13, 13, 13, 13, 13, 13, 5, 18, 18, 13, 1, 8, 7, 13, 12, 3]\n",
        "\n",
        "# para trabalhar com Pandas usamos widtxx e nmtpxx. tipoxx não precisou :-(\n",
        "\n",
        "import pandas as pd\n",
        "from google.colab import files\n",
        "#uploaded = files.upload()\n",
        "\n"
      ],
      "execution_count": 1,
      "outputs": []
    },
    {
      "cell_type": "code",
      "metadata": {
        "id": "zHYBFYVFYw_K",
        "colab_type": "code",
        "colab": {
          "base_uri": "https://localhost:8080/",
          "height": 34
        },
        "outputId": "9600e6da-3ce4-4033-d342-6637da69ca70"
      },
      "source": [
        "!head COTAHIST_M052020.TXT"
      ],
      "execution_count": 2,
      "outputs": [
        {
          "output_type": "stream",
          "text": [
            "head: cannot open 'COTAHIST_M052020.TXT' for reading: No such file or directory\n"
          ],
          "name": "stdout"
        }
      ]
    },
    {
      "cell_type": "code",
      "metadata": {
        "id": "VDV8JvRk4vEG",
        "colab_type": "code",
        "colab": {}
      },
      "source": [
        " import urllib\n",
        "\n",
        "# filename= urllib.request.urlopen(urllib.request.Request('http://rosembergennes.com.br/bigdata/COTAHIST_M052020.TXT')).read()\n",
        "# .get_filename()\n",
        "# bovespa = pd.read_fwf(filename, widths=widt01, names=nmtp01, header=None, skiprows=[0], skipfooter=1)\n",
        "# bovespa.shape\n",
        " \n",
        " # .info().get_filename()\n",
        " #!head filename\n",
        " #filename.show\n"
      ],
      "execution_count": 3,
      "outputs": []
    },
    {
      "cell_type": "code",
      "metadata": {
        "id": "KTC47LqRXIpx",
        "colab_type": "code",
        "colab": {
          "base_uri": "https://localhost:8080/",
          "height": 34
        },
        "outputId": "ff9f9c6b-ee44-4b85-edf9-6659aa5dcd0e"
      },
      "source": [
        " import os\n",
        " import numpy as np\n",
        "#para importar o arquivo do SO offline\n",
        "\n",
        "\n",
        "# ORIGEM DO ARQUIVO DE DADOS  http://www.b3.com.br/pt_br/market-data-e-indices/servicos-de-dados/market-data/historico/mercado-a-vista/series-historicas/\n",
        "\n",
        "\n",
        " # filename = urllib.urlopen('http://rosembergennes.com.br/tmp/COTAHIST_M052020.TXT').read()\n",
        "\n",
        "filename = os.path.join('COTAHIST_A2020.TXT')\n",
        "\n",
        "filename = os.path.join('COTAHIST_D31072020.TXT')\n",
        "\n",
        "bovespa = pd.read_fwf(filename, widths=widt01, names=nmtp01, header=None, skiprows=[0], skipfooter=1)\n",
        "bovespa.shape\n",
        "\n"
      ],
      "execution_count": 4,
      "outputs": [
        {
          "output_type": "execute_result",
          "data": {
            "text/plain": [
              "(5062, 26)"
            ]
          },
          "metadata": {
            "tags": []
          },
          "execution_count": 4
        }
      ]
    },
    {
      "cell_type": "code",
      "metadata": {
        "id": "amc-aZ2KOITF",
        "colab_type": "code",
        "colab": {}
      },
      "source": [
        ""
      ],
      "execution_count": 4,
      "outputs": []
    },
    {
      "cell_type": "code",
      "metadata": {
        "id": "443NxkF4hWjI",
        "colab_type": "code",
        "colab": {
          "base_uri": "https://localhost:8080/",
          "height": 255
        },
        "outputId": "a149d9a2-633d-4f73-8abc-d67a1cd77e99"
      },
      "source": [
        "print (bovespa)"
      ],
      "execution_count": 5,
      "outputs": [
        {
          "output_type": "stream",
          "text": [
            "      TIPREG    DATPRG  CODBDI  CODNEG  ...  FATCOT PTOEXE        CODISI  DISMES\n",
            "0          1  20200731       2  A1MD34  ...       1      0  BRA1MDBDR002     100\n",
            "1          1  20200731       2  A1PA34  ...       1      0  BRA1PABDR001     103\n",
            "2          1  20200731       2   AALR3  ...       1      0  BRAALRACNOR6     102\n",
            "3          1  20200731       2  AAPL34  ...       1      0  BRAAPLBDR004     133\n",
            "4          1  20200731       2  ABBV34  ...       1      0  BRABBVBDR001     118\n",
            "...      ...       ...     ...     ...  ...     ...    ...           ...     ...\n",
            "5057       1  20200731      62  VVAR3T  ...       1      0  BRVVARACNOR1     109\n",
            "5058       1  20200731      62  VVAR3T  ...       1      0  BRVVARACNOR1     109\n",
            "5059       1  20200731      62  VVAR3T  ...       1      0  BRVVARACNOR1     109\n",
            "5060       1  20200731      62  VVAR3T  ...       1      0  BRVVARACNOR1     109\n",
            "5061       1  20200731      62  TIET4T  ...       1      0  BRTIETACNPR7     123\n",
            "\n",
            "[5062 rows x 26 columns]\n"
          ],
          "name": "stdout"
        }
      ]
    },
    {
      "cell_type": "code",
      "metadata": {
        "id": "YHYqRD21szub",
        "colab_type": "code",
        "colab": {
          "base_uri": "https://localhost:8080/",
          "height": 34
        },
        "outputId": "5840544f-c597-4a51-fa63-78104f94e2b3"
      },
      "source": [
        "from pandas import DataFrame\n",
        "type (bovespa)"
      ],
      "execution_count": 6,
      "outputs": [
        {
          "output_type": "execute_result",
          "data": {
            "text/plain": [
              "pandas.core.frame.DataFrame"
            ]
          },
          "metadata": {
            "tags": []
          },
          "execution_count": 6
        }
      ]
    },
    {
      "cell_type": "code",
      "metadata": {
        "id": "1CbjxLdtrCfe",
        "colab_type": "code",
        "colab": {
          "base_uri": "https://localhost:8080/",
          "height": 578
        },
        "outputId": "8b5f9fa1-07d8-46e4-eb76-06ba1930d4e8"
      },
      "source": [
        "bovespa.info()"
      ],
      "execution_count": 7,
      "outputs": [
        {
          "output_type": "stream",
          "text": [
            "<class 'pandas.core.frame.DataFrame'>\n",
            "RangeIndex: 5062 entries, 0 to 5061\n",
            "Data columns (total 26 columns):\n",
            " #   Column  Non-Null Count  Dtype  \n",
            "---  ------  --------------  -----  \n",
            " 0   TIPREG  5062 non-null   int64  \n",
            " 1   DATPRG  5062 non-null   int64  \n",
            " 2   CODBDI  5062 non-null   int64  \n",
            " 3   CODNEG  5062 non-null   object \n",
            " 4   TPMERC  5062 non-null   int64  \n",
            " 5   NOMRES  5062 non-null   object \n",
            " 6   ESPECI  5062 non-null   object \n",
            " 7   PRAZOT  3903 non-null   float64\n",
            " 8   MODREF  5062 non-null   object \n",
            " 9   PREABE  5062 non-null   int64  \n",
            " 10  PREMAX  5062 non-null   int64  \n",
            " 11  PREMIN  5062 non-null   int64  \n",
            " 12  PREMED  5062 non-null   int64  \n",
            " 13  PREULT  5062 non-null   int64  \n",
            " 14  PREOFC  5062 non-null   int64  \n",
            " 15  PREOFV  5062 non-null   int64  \n",
            " 16  TOTNEG  5062 non-null   int64  \n",
            " 17  QUATOT  5062 non-null   int64  \n",
            " 18  VOLTOT  5062 non-null   int64  \n",
            " 19  PREEXE  5062 non-null   int64  \n",
            " 20  INDOPC  5062 non-null   int64  \n",
            " 21  DATVEN  5062 non-null   int64  \n",
            " 22  FATCOT  5062 non-null   int64  \n",
            " 23  PTOEXE  5062 non-null   int64  \n",
            " 24  CODISI  5062 non-null   object \n",
            " 25  DISMES  5062 non-null   int64  \n",
            "dtypes: float64(1), int64(20), object(5)\n",
            "memory usage: 1.0+ MB\n"
          ],
          "name": "stdout"
        }
      ]
    },
    {
      "cell_type": "code",
      "metadata": {
        "id": "ZqjjBLAvq84N",
        "colab_type": "code",
        "colab": {}
      },
      "source": [
        "## TRANSFORMANDO O CAMPOO DATPRG DE INT64 PARA DATETIME64  \n",
        "bovespa[\"DATPRG\"]=pd.to_datetime(bovespa['DATPRG'].astype(str), format='%Y%m%d')"
      ],
      "execution_count": 8,
      "outputs": []
    },
    {
      "cell_type": "markdown",
      "metadata": {
        "id": "a_7_dbsKPngv",
        "colab_type": "text"
      },
      "source": [
        "### Informações DataFrame bovespa"
      ]
    },
    {
      "cell_type": "code",
      "metadata": {
        "id": "qbo9QtGJNHXl",
        "colab_type": "code",
        "colab": {
          "base_uri": "https://localhost:8080/",
          "height": 0
        },
        "outputId": "8a3b74c0-4b9e-4284-9754-99dfa9225861"
      },
      "source": [
        "## Obtendo tipo bovespa (=> pandas.core.frame.DataFrame )\n",
        "type (bovespa)"
      ],
      "execution_count": 9,
      "outputs": [
        {
          "output_type": "execute_result",
          "data": {
            "text/plain": [
              "pandas.core.frame.DataFrame"
            ]
          },
          "metadata": {
            "tags": []
          },
          "execution_count": 9
        }
      ]
    },
    {
      "cell_type": "code",
      "metadata": {
        "id": "dcKbwh4lP_Ua",
        "colab_type": "code",
        "colab": {
          "base_uri": "https://localhost:8080/",
          "height": 0
        },
        "outputId": "d000a21d-75ee-40da-9603-360e57d53058"
      },
      "source": [
        "# Diplay Colunas Dataframe bovespa\n",
        "bovespa.columns"
      ],
      "execution_count": 10,
      "outputs": [
        {
          "output_type": "execute_result",
          "data": {
            "text/plain": [
              "Index(['TIPREG', 'DATPRG', 'CODBDI', 'CODNEG', 'TPMERC', 'NOMRES', 'ESPECI',\n",
              "       'PRAZOT', 'MODREF', 'PREABE', 'PREMAX', 'PREMIN', 'PREMED', 'PREULT',\n",
              "       'PREOFC', 'PREOFV', 'TOTNEG', 'QUATOT', 'VOLTOT', 'PREEXE', 'INDOPC',\n",
              "       'DATVEN', 'FATCOT', 'PTOEXE', 'CODISI', 'DISMES'],\n",
              "      dtype='object')"
            ]
          },
          "metadata": {
            "tags": []
          },
          "execution_count": 10
        }
      ]
    },
    {
      "cell_type": "code",
      "metadata": {
        "id": "RMMKTqRBQQ9g",
        "colab_type": "code",
        "colab": {
          "base_uri": "https://localhost:8080/",
          "height": 0
        },
        "outputId": "b607c42a-3a64-4157-d507-3a5d6e193984"
      },
      "source": [
        "# Obtendo Informacoes  Dataframe bovespa\n",
        "bovespa.info()"
      ],
      "execution_count": 11,
      "outputs": [
        {
          "output_type": "stream",
          "text": [
            "<class 'pandas.core.frame.DataFrame'>\n",
            "RangeIndex: 5062 entries, 0 to 5061\n",
            "Data columns (total 26 columns):\n",
            " #   Column  Non-Null Count  Dtype         \n",
            "---  ------  --------------  -----         \n",
            " 0   TIPREG  5062 non-null   int64         \n",
            " 1   DATPRG  5062 non-null   datetime64[ns]\n",
            " 2   CODBDI  5062 non-null   int64         \n",
            " 3   CODNEG  5062 non-null   object        \n",
            " 4   TPMERC  5062 non-null   int64         \n",
            " 5   NOMRES  5062 non-null   object        \n",
            " 6   ESPECI  5062 non-null   object        \n",
            " 7   PRAZOT  3903 non-null   float64       \n",
            " 8   MODREF  5062 non-null   object        \n",
            " 9   PREABE  5062 non-null   int64         \n",
            " 10  PREMAX  5062 non-null   int64         \n",
            " 11  PREMIN  5062 non-null   int64         \n",
            " 12  PREMED  5062 non-null   int64         \n",
            " 13  PREULT  5062 non-null   int64         \n",
            " 14  PREOFC  5062 non-null   int64         \n",
            " 15  PREOFV  5062 non-null   int64         \n",
            " 16  TOTNEG  5062 non-null   int64         \n",
            " 17  QUATOT  5062 non-null   int64         \n",
            " 18  VOLTOT  5062 non-null   int64         \n",
            " 19  PREEXE  5062 non-null   int64         \n",
            " 20  INDOPC  5062 non-null   int64         \n",
            " 21  DATVEN  5062 non-null   int64         \n",
            " 22  FATCOT  5062 non-null   int64         \n",
            " 23  PTOEXE  5062 non-null   int64         \n",
            " 24  CODISI  5062 non-null   object        \n",
            " 25  DISMES  5062 non-null   int64         \n",
            "dtypes: datetime64[ns](1), float64(1), int64(19), object(5)\n",
            "memory usage: 1.0+ MB\n"
          ],
          "name": "stdout"
        }
      ]
    },
    {
      "cell_type": "code",
      "metadata": {
        "id": "qVwykrLXQcBa",
        "colab_type": "code",
        "colab": {
          "base_uri": "https://localhost:8080/",
          "height": 0
        },
        "outputId": "3eeea24e-6837-4ed3-bcab-2e5364a3a104"
      },
      "source": [
        "# Vamos fazer um slice nas linhas e ao mesmo tempo selecionar algumas colunas.\n",
        "# Sendo 0  para desmonstra a criação do indice automatico criado no pandas\n",
        "bovespa.loc[0:10, ['TIPREG', 'DATPRG', 'CODBDI', 'CODNEG', 'TPMERC', 'NOMRES', 'ESPECI',]]"
      ],
      "execution_count": 12,
      "outputs": [
        {
          "output_type": "execute_result",
          "data": {
            "text/html": [
              "<div>\n",
              "<style scoped>\n",
              "    .dataframe tbody tr th:only-of-type {\n",
              "        vertical-align: middle;\n",
              "    }\n",
              "\n",
              "    .dataframe tbody tr th {\n",
              "        vertical-align: top;\n",
              "    }\n",
              "\n",
              "    .dataframe thead th {\n",
              "        text-align: right;\n",
              "    }\n",
              "</style>\n",
              "<table border=\"1\" class=\"dataframe\">\n",
              "  <thead>\n",
              "    <tr style=\"text-align: right;\">\n",
              "      <th></th>\n",
              "      <th>TIPREG</th>\n",
              "      <th>DATPRG</th>\n",
              "      <th>CODBDI</th>\n",
              "      <th>CODNEG</th>\n",
              "      <th>TPMERC</th>\n",
              "      <th>NOMRES</th>\n",
              "      <th>ESPECI</th>\n",
              "    </tr>\n",
              "  </thead>\n",
              "  <tbody>\n",
              "    <tr>\n",
              "      <th>0</th>\n",
              "      <td>1</td>\n",
              "      <td>2020-07-31</td>\n",
              "      <td>2</td>\n",
              "      <td>A1MD34</td>\n",
              "      <td>10</td>\n",
              "      <td>ADVANCED MIC</td>\n",
              "      <td>DRN</td>\n",
              "    </tr>\n",
              "    <tr>\n",
              "      <th>1</th>\n",
              "      <td>1</td>\n",
              "      <td>2020-07-31</td>\n",
              "      <td>2</td>\n",
              "      <td>A1PA34</td>\n",
              "      <td>10</td>\n",
              "      <td>APACHE CORP</td>\n",
              "      <td>DRN</td>\n",
              "    </tr>\n",
              "    <tr>\n",
              "      <th>2</th>\n",
              "      <td>1</td>\n",
              "      <td>2020-07-31</td>\n",
              "      <td>2</td>\n",
              "      <td>AALR3</td>\n",
              "      <td>10</td>\n",
              "      <td>ALLIAR</td>\n",
              "      <td>ON      NM</td>\n",
              "    </tr>\n",
              "    <tr>\n",
              "      <th>3</th>\n",
              "      <td>1</td>\n",
              "      <td>2020-07-31</td>\n",
              "      <td>2</td>\n",
              "      <td>AAPL34</td>\n",
              "      <td>10</td>\n",
              "      <td>APPLE</td>\n",
              "      <td>DRN</td>\n",
              "    </tr>\n",
              "    <tr>\n",
              "      <th>4</th>\n",
              "      <td>1</td>\n",
              "      <td>2020-07-31</td>\n",
              "      <td>2</td>\n",
              "      <td>ABBV34</td>\n",
              "      <td>10</td>\n",
              "      <td>ABBVIE</td>\n",
              "      <td>DRN</td>\n",
              "    </tr>\n",
              "    <tr>\n",
              "      <th>5</th>\n",
              "      <td>1</td>\n",
              "      <td>2020-07-31</td>\n",
              "      <td>2</td>\n",
              "      <td>ABCB4</td>\n",
              "      <td>10</td>\n",
              "      <td>ABC BRASIL</td>\n",
              "      <td>PN      N2</td>\n",
              "    </tr>\n",
              "    <tr>\n",
              "      <th>6</th>\n",
              "      <td>1</td>\n",
              "      <td>2020-07-31</td>\n",
              "      <td>2</td>\n",
              "      <td>ABEV3</td>\n",
              "      <td>10</td>\n",
              "      <td>AMBEV S/A</td>\n",
              "      <td>ON</td>\n",
              "    </tr>\n",
              "    <tr>\n",
              "      <th>7</th>\n",
              "      <td>1</td>\n",
              "      <td>2020-07-31</td>\n",
              "      <td>2</td>\n",
              "      <td>ADBE34</td>\n",
              "      <td>10</td>\n",
              "      <td>ADOBE INC</td>\n",
              "      <td>DRN</td>\n",
              "    </tr>\n",
              "    <tr>\n",
              "      <th>8</th>\n",
              "      <td>1</td>\n",
              "      <td>2020-07-31</td>\n",
              "      <td>2</td>\n",
              "      <td>ADHM3</td>\n",
              "      <td>10</td>\n",
              "      <td>ADVANCED-DH</td>\n",
              "      <td>ON</td>\n",
              "    </tr>\n",
              "    <tr>\n",
              "      <th>9</th>\n",
              "      <td>1</td>\n",
              "      <td>2020-07-31</td>\n",
              "      <td>2</td>\n",
              "      <td>AFLT3</td>\n",
              "      <td>10</td>\n",
              "      <td>AFLUENTE T</td>\n",
              "      <td>ON  ED</td>\n",
              "    </tr>\n",
              "    <tr>\n",
              "      <th>10</th>\n",
              "      <td>1</td>\n",
              "      <td>2020-07-31</td>\n",
              "      <td>2</td>\n",
              "      <td>AGRO3</td>\n",
              "      <td>10</td>\n",
              "      <td>BRASILAGRO</td>\n",
              "      <td>ON      NM</td>\n",
              "    </tr>\n",
              "  </tbody>\n",
              "</table>\n",
              "</div>"
            ],
            "text/plain": [
              "    TIPREG     DATPRG  CODBDI  CODNEG  TPMERC        NOMRES      ESPECI\n",
              "0        1 2020-07-31       2  A1MD34      10  ADVANCED MIC         DRN\n",
              "1        1 2020-07-31       2  A1PA34      10   APACHE CORP         DRN\n",
              "2        1 2020-07-31       2   AALR3      10        ALLIAR  ON      NM\n",
              "3        1 2020-07-31       2  AAPL34      10         APPLE         DRN\n",
              "4        1 2020-07-31       2  ABBV34      10        ABBVIE         DRN\n",
              "5        1 2020-07-31       2   ABCB4      10    ABC BRASIL  PN      N2\n",
              "6        1 2020-07-31       2   ABEV3      10     AMBEV S/A          ON\n",
              "7        1 2020-07-31       2  ADBE34      10     ADOBE INC         DRN\n",
              "8        1 2020-07-31       2   ADHM3      10   ADVANCED-DH          ON\n",
              "9        1 2020-07-31       2   AFLT3      10    AFLUENTE T      ON  ED\n",
              "10       1 2020-07-31       2   AGRO3      10    BRASILAGRO  ON      NM"
            ]
          },
          "metadata": {
            "tags": []
          },
          "execution_count": 12
        }
      ]
    },
    {
      "cell_type": "markdown",
      "metadata": {
        "id": "hP4ez0EyP0wb",
        "colab_type": "text"
      },
      "source": [
        "### Executando Query no Dataframe Bovespa"
      ]
    },
    {
      "cell_type": "code",
      "metadata": {
        "id": "vr2dyGqlWfGy",
        "colab_type": "code",
        "colab": {
          "base_uri": "https://localhost:8080/",
          "height": 193
        },
        "outputId": "fee4a6d5-243c-41bd-f0db-93a9c22318b0"
      },
      "source": [
        "bovespa.query('CODBDI == 10').head(3)"
      ],
      "execution_count": 13,
      "outputs": [
        {
          "output_type": "execute_result",
          "data": {
            "text/html": [
              "<div>\n",
              "<style scoped>\n",
              "    .dataframe tbody tr th:only-of-type {\n",
              "        vertical-align: middle;\n",
              "    }\n",
              "\n",
              "    .dataframe tbody tr th {\n",
              "        vertical-align: top;\n",
              "    }\n",
              "\n",
              "    .dataframe thead th {\n",
              "        text-align: right;\n",
              "    }\n",
              "</style>\n",
              "<table border=\"1\" class=\"dataframe\">\n",
              "  <thead>\n",
              "    <tr style=\"text-align: right;\">\n",
              "      <th></th>\n",
              "      <th>TIPREG</th>\n",
              "      <th>DATPRG</th>\n",
              "      <th>CODBDI</th>\n",
              "      <th>CODNEG</th>\n",
              "      <th>TPMERC</th>\n",
              "      <th>NOMRES</th>\n",
              "      <th>ESPECI</th>\n",
              "      <th>PRAZOT</th>\n",
              "      <th>MODREF</th>\n",
              "      <th>PREABE</th>\n",
              "      <th>PREMAX</th>\n",
              "      <th>PREMIN</th>\n",
              "      <th>PREMED</th>\n",
              "      <th>PREULT</th>\n",
              "      <th>PREOFC</th>\n",
              "      <th>PREOFV</th>\n",
              "      <th>TOTNEG</th>\n",
              "      <th>QUATOT</th>\n",
              "      <th>VOLTOT</th>\n",
              "      <th>PREEXE</th>\n",
              "      <th>INDOPC</th>\n",
              "      <th>DATVEN</th>\n",
              "      <th>FATCOT</th>\n",
              "      <th>PTOEXE</th>\n",
              "      <th>CODISI</th>\n",
              "      <th>DISMES</th>\n",
              "    </tr>\n",
              "  </thead>\n",
              "  <tbody>\n",
              "    <tr>\n",
              "      <th>466</th>\n",
              "      <td>1</td>\n",
              "      <td>2020-07-31</td>\n",
              "      <td>10</td>\n",
              "      <td>BIDI2</td>\n",
              "      <td>10</td>\n",
              "      <td>BANCO INTER</td>\n",
              "      <td>DIR PRE N2</td>\n",
              "      <td>NaN</td>\n",
              "      <td>R$</td>\n",
              "      <td>1232</td>\n",
              "      <td>1232</td>\n",
              "      <td>1232</td>\n",
              "      <td>1232</td>\n",
              "      <td>1232</td>\n",
              "      <td>1232</td>\n",
              "      <td>0</td>\n",
              "      <td>1</td>\n",
              "      <td>100</td>\n",
              "      <td>123200</td>\n",
              "      <td>0</td>\n",
              "      <td>0</td>\n",
              "      <td>99991231</td>\n",
              "      <td>1</td>\n",
              "      <td>0</td>\n",
              "      <td>BRBIDID02PR3</td>\n",
              "      <td>109</td>\n",
              "    </tr>\n",
              "    <tr>\n",
              "      <th>467</th>\n",
              "      <td>1</td>\n",
              "      <td>2020-07-31</td>\n",
              "      <td>10</td>\n",
              "      <td>BTOW1</td>\n",
              "      <td>10</td>\n",
              "      <td>B2W DIGITAL</td>\n",
              "      <td>DIR ORD NM</td>\n",
              "      <td>NaN</td>\n",
              "      <td>R$</td>\n",
              "      <td>695</td>\n",
              "      <td>1000</td>\n",
              "      <td>660</td>\n",
              "      <td>860</td>\n",
              "      <td>700</td>\n",
              "      <td>698</td>\n",
              "      <td>705</td>\n",
              "      <td>1542</td>\n",
              "      <td>448400</td>\n",
              "      <td>386045000</td>\n",
              "      <td>0</td>\n",
              "      <td>0</td>\n",
              "      <td>99991231</td>\n",
              "      <td>1</td>\n",
              "      <td>0</td>\n",
              "      <td>BRBTOWD06OR2</td>\n",
              "      <td>110</td>\n",
              "    </tr>\n",
              "    <tr>\n",
              "      <th>468</th>\n",
              "      <td>1</td>\n",
              "      <td>2020-07-31</td>\n",
              "      <td>10</td>\n",
              "      <td>CVCB1</td>\n",
              "      <td>10</td>\n",
              "      <td>CVC BRASIL</td>\n",
              "      <td>DIR ORD NM</td>\n",
              "      <td>NaN</td>\n",
              "      <td>R$</td>\n",
              "      <td>1700</td>\n",
              "      <td>1718</td>\n",
              "      <td>1620</td>\n",
              "      <td>1652</td>\n",
              "      <td>1620</td>\n",
              "      <td>1616</td>\n",
              "      <td>1620</td>\n",
              "      <td>1416</td>\n",
              "      <td>279300</td>\n",
              "      <td>461434900</td>\n",
              "      <td>0</td>\n",
              "      <td>0</td>\n",
              "      <td>99991231</td>\n",
              "      <td>1</td>\n",
              "      <td>0</td>\n",
              "      <td>BRCVCBD01OR6</td>\n",
              "      <td>112</td>\n",
              "    </tr>\n",
              "  </tbody>\n",
              "</table>\n",
              "</div>"
            ],
            "text/plain": [
              "     TIPREG     DATPRG  CODBDI CODNEG  ...  FATCOT PTOEXE        CODISI  DISMES\n",
              "466       1 2020-07-31      10  BIDI2  ...       1      0  BRBIDID02PR3     109\n",
              "467       1 2020-07-31      10  BTOW1  ...       1      0  BRBTOWD06OR2     110\n",
              "468       1 2020-07-31      10  CVCB1  ...       1      0  BRCVCBD01OR6     112\n",
              "\n",
              "[3 rows x 26 columns]"
            ]
          },
          "metadata": {
            "tags": []
          },
          "execution_count": 13
        }
      ]
    },
    {
      "cell_type": "code",
      "metadata": {
        "id": "soJ0Jv0TXmB7",
        "colab_type": "code",
        "colab": {
          "base_uri": "https://localhost:8080/",
          "height": 80
        },
        "outputId": "b69d357a-03e0-4d87-ad63-cffe2f8b3c34"
      },
      "source": [
        "bovespa.query('CODNEG\t == \"AAPL34\"').head(3)"
      ],
      "execution_count": 14,
      "outputs": [
        {
          "output_type": "execute_result",
          "data": {
            "text/html": [
              "<div>\n",
              "<style scoped>\n",
              "    .dataframe tbody tr th:only-of-type {\n",
              "        vertical-align: middle;\n",
              "    }\n",
              "\n",
              "    .dataframe tbody tr th {\n",
              "        vertical-align: top;\n",
              "    }\n",
              "\n",
              "    .dataframe thead th {\n",
              "        text-align: right;\n",
              "    }\n",
              "</style>\n",
              "<table border=\"1\" class=\"dataframe\">\n",
              "  <thead>\n",
              "    <tr style=\"text-align: right;\">\n",
              "      <th></th>\n",
              "      <th>TIPREG</th>\n",
              "      <th>DATPRG</th>\n",
              "      <th>CODBDI</th>\n",
              "      <th>CODNEG</th>\n",
              "      <th>TPMERC</th>\n",
              "      <th>NOMRES</th>\n",
              "      <th>ESPECI</th>\n",
              "      <th>PRAZOT</th>\n",
              "      <th>MODREF</th>\n",
              "      <th>PREABE</th>\n",
              "      <th>PREMAX</th>\n",
              "      <th>PREMIN</th>\n",
              "      <th>PREMED</th>\n",
              "      <th>PREULT</th>\n",
              "      <th>PREOFC</th>\n",
              "      <th>PREOFV</th>\n",
              "      <th>TOTNEG</th>\n",
              "      <th>QUATOT</th>\n",
              "      <th>VOLTOT</th>\n",
              "      <th>PREEXE</th>\n",
              "      <th>INDOPC</th>\n",
              "      <th>DATVEN</th>\n",
              "      <th>FATCOT</th>\n",
              "      <th>PTOEXE</th>\n",
              "      <th>CODISI</th>\n",
              "      <th>DISMES</th>\n",
              "    </tr>\n",
              "  </thead>\n",
              "  <tbody>\n",
              "    <tr>\n",
              "      <th>3</th>\n",
              "      <td>1</td>\n",
              "      <td>2020-07-31</td>\n",
              "      <td>2</td>\n",
              "      <td>AAPL34</td>\n",
              "      <td>10</td>\n",
              "      <td>APPLE</td>\n",
              "      <td>DRN</td>\n",
              "      <td>NaN</td>\n",
              "      <td>R$</td>\n",
              "      <td>21036</td>\n",
              "      <td>22218</td>\n",
              "      <td>21036</td>\n",
              "      <td>21806</td>\n",
              "      <td>22218</td>\n",
              "      <td>22000</td>\n",
              "      <td>22218</td>\n",
              "      <td>154</td>\n",
              "      <td>51950</td>\n",
              "      <td>1132853920</td>\n",
              "      <td>0</td>\n",
              "      <td>0</td>\n",
              "      <td>99991231</td>\n",
              "      <td>1</td>\n",
              "      <td>0</td>\n",
              "      <td>BRAAPLBDR004</td>\n",
              "      <td>133</td>\n",
              "    </tr>\n",
              "  </tbody>\n",
              "</table>\n",
              "</div>"
            ],
            "text/plain": [
              "   TIPREG     DATPRG  CODBDI  CODNEG  ...  FATCOT PTOEXE        CODISI  DISMES\n",
              "3       1 2020-07-31       2  AAPL34  ...       1      0  BRAAPLBDR004     133\n",
              "\n",
              "[1 rows x 26 columns]"
            ]
          },
          "metadata": {
            "tags": []
          },
          "execution_count": 14
        }
      ]
    },
    {
      "cell_type": "code",
      "metadata": {
        "id": "BOrLHeaCXMmX",
        "colab_type": "code",
        "colab": {
          "base_uri": "https://localhost:8080/",
          "height": 476
        },
        "outputId": "556b9c3d-56a8-4243-d493-5b4dd9a0db53"
      },
      "source": [
        "# Contando o total de registros onde CODNEG\t == \"PETR4\"\n",
        "bovespa.query('CODNEG\t == \"PETR4\"').count()"
      ],
      "execution_count": 15,
      "outputs": [
        {
          "output_type": "execute_result",
          "data": {
            "text/plain": [
              "TIPREG    1\n",
              "DATPRG    1\n",
              "CODBDI    1\n",
              "CODNEG    1\n",
              "TPMERC    1\n",
              "NOMRES    1\n",
              "ESPECI    1\n",
              "PRAZOT    0\n",
              "MODREF    1\n",
              "PREABE    1\n",
              "PREMAX    1\n",
              "PREMIN    1\n",
              "PREMED    1\n",
              "PREULT    1\n",
              "PREOFC    1\n",
              "PREOFV    1\n",
              "TOTNEG    1\n",
              "QUATOT    1\n",
              "VOLTOT    1\n",
              "PREEXE    1\n",
              "INDOPC    1\n",
              "DATVEN    1\n",
              "FATCOT    1\n",
              "PTOEXE    1\n",
              "CODISI    1\n",
              "DISMES    1\n",
              "dtype: int64"
            ]
          },
          "metadata": {
            "tags": []
          },
          "execution_count": 15
        }
      ]
    },
    {
      "cell_type": "code",
      "metadata": {
        "id": "Vvlv5_0PX5OJ",
        "colab_type": "code",
        "colab": {
          "base_uri": "https://localhost:8080/",
          "height": 97
        },
        "outputId": "eed45695-e4c8-4b60-c633-2a76ff1cdb96"
      },
      "source": [
        "# Listando os 3 primeiros registros onde CODNEG\t == \"PETR4\"\n",
        "bovespa.query('CODNEG\t == \"PETR4\"').head(3)"
      ],
      "execution_count": 16,
      "outputs": [
        {
          "output_type": "execute_result",
          "data": {
            "text/html": [
              "<div>\n",
              "<style scoped>\n",
              "    .dataframe tbody tr th:only-of-type {\n",
              "        vertical-align: middle;\n",
              "    }\n",
              "\n",
              "    .dataframe tbody tr th {\n",
              "        vertical-align: top;\n",
              "    }\n",
              "\n",
              "    .dataframe thead th {\n",
              "        text-align: right;\n",
              "    }\n",
              "</style>\n",
              "<table border=\"1\" class=\"dataframe\">\n",
              "  <thead>\n",
              "    <tr style=\"text-align: right;\">\n",
              "      <th></th>\n",
              "      <th>TIPREG</th>\n",
              "      <th>DATPRG</th>\n",
              "      <th>CODBDI</th>\n",
              "      <th>CODNEG</th>\n",
              "      <th>TPMERC</th>\n",
              "      <th>NOMRES</th>\n",
              "      <th>ESPECI</th>\n",
              "      <th>PRAZOT</th>\n",
              "      <th>MODREF</th>\n",
              "      <th>PREABE</th>\n",
              "      <th>PREMAX</th>\n",
              "      <th>PREMIN</th>\n",
              "      <th>PREMED</th>\n",
              "      <th>PREULT</th>\n",
              "      <th>PREOFC</th>\n",
              "      <th>PREOFV</th>\n",
              "      <th>TOTNEG</th>\n",
              "      <th>QUATOT</th>\n",
              "      <th>VOLTOT</th>\n",
              "      <th>PREEXE</th>\n",
              "      <th>INDOPC</th>\n",
              "      <th>DATVEN</th>\n",
              "      <th>FATCOT</th>\n",
              "      <th>PTOEXE</th>\n",
              "      <th>CODISI</th>\n",
              "      <th>DISMES</th>\n",
              "    </tr>\n",
              "  </thead>\n",
              "  <tbody>\n",
              "    <tr>\n",
              "      <th>303</th>\n",
              "      <td>1</td>\n",
              "      <td>2020-07-31</td>\n",
              "      <td>2</td>\n",
              "      <td>PETR4</td>\n",
              "      <td>10</td>\n",
              "      <td>PETROBRAS</td>\n",
              "      <td>PN  EDR N2</td>\n",
              "      <td>NaN</td>\n",
              "      <td>R$</td>\n",
              "      <td>2292</td>\n",
              "      <td>2314</td>\n",
              "      <td>2216</td>\n",
              "      <td>2252</td>\n",
              "      <td>2220</td>\n",
              "      <td>2220</td>\n",
              "      <td>2221</td>\n",
              "      <td>74020</td>\n",
              "      <td>75397300</td>\n",
              "      <td>169854513600</td>\n",
              "      <td>0</td>\n",
              "      <td>0</td>\n",
              "      <td>99991231</td>\n",
              "      <td>1</td>\n",
              "      <td>0</td>\n",
              "      <td>BRPETRACNPR6</td>\n",
              "      <td>197</td>\n",
              "    </tr>\n",
              "  </tbody>\n",
              "</table>\n",
              "</div>"
            ],
            "text/plain": [
              "     TIPREG     DATPRG  CODBDI CODNEG  ...  FATCOT PTOEXE        CODISI  DISMES\n",
              "303       1 2020-07-31       2  PETR4  ...       1      0  BRPETRACNPR6     197\n",
              "\n",
              "[1 rows x 26 columns]"
            ]
          },
          "metadata": {
            "tags": []
          },
          "execution_count": 16
        }
      ]
    },
    {
      "cell_type": "code",
      "metadata": {
        "id": "KaQdD8FxlKmb",
        "colab_type": "code",
        "colab": {
          "base_uri": "https://localhost:8080/",
          "height": 49
        },
        "outputId": "e0fc379a-8efc-439a-a29f-b9d4ae1ee1fc"
      },
      "source": [
        "# Listando os 3 primeiros registros onde DATPRG\t == \"20200505\"\n",
        "bovespa.query('DATPRG\t == \"2020-05-05\"  ').head(3)"
      ],
      "execution_count": 17,
      "outputs": [
        {
          "output_type": "execute_result",
          "data": {
            "text/html": [
              "<div>\n",
              "<style scoped>\n",
              "    .dataframe tbody tr th:only-of-type {\n",
              "        vertical-align: middle;\n",
              "    }\n",
              "\n",
              "    .dataframe tbody tr th {\n",
              "        vertical-align: top;\n",
              "    }\n",
              "\n",
              "    .dataframe thead th {\n",
              "        text-align: right;\n",
              "    }\n",
              "</style>\n",
              "<table border=\"1\" class=\"dataframe\">\n",
              "  <thead>\n",
              "    <tr style=\"text-align: right;\">\n",
              "      <th></th>\n",
              "      <th>TIPREG</th>\n",
              "      <th>DATPRG</th>\n",
              "      <th>CODBDI</th>\n",
              "      <th>CODNEG</th>\n",
              "      <th>TPMERC</th>\n",
              "      <th>NOMRES</th>\n",
              "      <th>ESPECI</th>\n",
              "      <th>PRAZOT</th>\n",
              "      <th>MODREF</th>\n",
              "      <th>PREABE</th>\n",
              "      <th>PREMAX</th>\n",
              "      <th>PREMIN</th>\n",
              "      <th>PREMED</th>\n",
              "      <th>PREULT</th>\n",
              "      <th>PREOFC</th>\n",
              "      <th>PREOFV</th>\n",
              "      <th>TOTNEG</th>\n",
              "      <th>QUATOT</th>\n",
              "      <th>VOLTOT</th>\n",
              "      <th>PREEXE</th>\n",
              "      <th>INDOPC</th>\n",
              "      <th>DATVEN</th>\n",
              "      <th>FATCOT</th>\n",
              "      <th>PTOEXE</th>\n",
              "      <th>CODISI</th>\n",
              "      <th>DISMES</th>\n",
              "    </tr>\n",
              "  </thead>\n",
              "  <tbody>\n",
              "  </tbody>\n",
              "</table>\n",
              "</div>"
            ],
            "text/plain": [
              "Empty DataFrame\n",
              "Columns: [TIPREG, DATPRG, CODBDI, CODNEG, TPMERC, NOMRES, ESPECI, PRAZOT, MODREF, PREABE, PREMAX, PREMIN, PREMED, PREULT, PREOFC, PREOFV, TOTNEG, QUATOT, VOLTOT, PREEXE, INDOPC, DATVEN, FATCOT, PTOEXE, CODISI, DISMES]\n",
              "Index: []"
            ]
          },
          "metadata": {
            "tags": []
          },
          "execution_count": 17
        }
      ]
    },
    {
      "cell_type": "code",
      "metadata": {
        "id": "x8QejXq7lqJG",
        "colab_type": "code",
        "colab": {
          "base_uri": "https://localhost:8080/",
          "height": 49
        },
        "outputId": "b628a373-94b5-4f6b-e94f-7551b6636f7e"
      },
      "source": [
        "# Listando os 3 primeiros registros onde CODNEG\t == \"PETR4\" e DATPRG\t == \"20200505\"\n",
        "bovespa.query('CODNEG\t == \"PETR4\"  and DATPRG\t == \"20200505\"  ').head(3)"
      ],
      "execution_count": 18,
      "outputs": [
        {
          "output_type": "execute_result",
          "data": {
            "text/html": [
              "<div>\n",
              "<style scoped>\n",
              "    .dataframe tbody tr th:only-of-type {\n",
              "        vertical-align: middle;\n",
              "    }\n",
              "\n",
              "    .dataframe tbody tr th {\n",
              "        vertical-align: top;\n",
              "    }\n",
              "\n",
              "    .dataframe thead th {\n",
              "        text-align: right;\n",
              "    }\n",
              "</style>\n",
              "<table border=\"1\" class=\"dataframe\">\n",
              "  <thead>\n",
              "    <tr style=\"text-align: right;\">\n",
              "      <th></th>\n",
              "      <th>TIPREG</th>\n",
              "      <th>DATPRG</th>\n",
              "      <th>CODBDI</th>\n",
              "      <th>CODNEG</th>\n",
              "      <th>TPMERC</th>\n",
              "      <th>NOMRES</th>\n",
              "      <th>ESPECI</th>\n",
              "      <th>PRAZOT</th>\n",
              "      <th>MODREF</th>\n",
              "      <th>PREABE</th>\n",
              "      <th>PREMAX</th>\n",
              "      <th>PREMIN</th>\n",
              "      <th>PREMED</th>\n",
              "      <th>PREULT</th>\n",
              "      <th>PREOFC</th>\n",
              "      <th>PREOFV</th>\n",
              "      <th>TOTNEG</th>\n",
              "      <th>QUATOT</th>\n",
              "      <th>VOLTOT</th>\n",
              "      <th>PREEXE</th>\n",
              "      <th>INDOPC</th>\n",
              "      <th>DATVEN</th>\n",
              "      <th>FATCOT</th>\n",
              "      <th>PTOEXE</th>\n",
              "      <th>CODISI</th>\n",
              "      <th>DISMES</th>\n",
              "    </tr>\n",
              "  </thead>\n",
              "  <tbody>\n",
              "  </tbody>\n",
              "</table>\n",
              "</div>"
            ],
            "text/plain": [
              "Empty DataFrame\n",
              "Columns: [TIPREG, DATPRG, CODBDI, CODNEG, TPMERC, NOMRES, ESPECI, PRAZOT, MODREF, PREABE, PREMAX, PREMIN, PREMED, PREULT, PREOFC, PREOFV, TOTNEG, QUATOT, VOLTOT, PREEXE, INDOPC, DATVEN, FATCOT, PTOEXE, CODISI, DISMES]\n",
              "Index: []"
            ]
          },
          "metadata": {
            "tags": []
          },
          "execution_count": 18
        }
      ]
    },
    {
      "cell_type": "code",
      "metadata": {
        "id": "q0pFMp0ui8pY",
        "colab_type": "code",
        "colab": {
          "base_uri": "https://localhost:8080/",
          "height": 49
        },
        "outputId": "43d17aa5-050e-4bc1-980f-85b6d4bb9a76"
      },
      "source": [
        "# bovespa.query(\"select 'CODNEG' from bovespa where 'CODNEG' like 'PETR4%';\")\n",
        "\n",
        "# bovespa[bovespa['CODNEG'].str.contains('TR4')]\n",
        "bovespa[bovespa['CODNEG'].str.contains('%%%%3')]\n"
      ],
      "execution_count": 19,
      "outputs": [
        {
          "output_type": "execute_result",
          "data": {
            "text/html": [
              "<div>\n",
              "<style scoped>\n",
              "    .dataframe tbody tr th:only-of-type {\n",
              "        vertical-align: middle;\n",
              "    }\n",
              "\n",
              "    .dataframe tbody tr th {\n",
              "        vertical-align: top;\n",
              "    }\n",
              "\n",
              "    .dataframe thead th {\n",
              "        text-align: right;\n",
              "    }\n",
              "</style>\n",
              "<table border=\"1\" class=\"dataframe\">\n",
              "  <thead>\n",
              "    <tr style=\"text-align: right;\">\n",
              "      <th></th>\n",
              "      <th>TIPREG</th>\n",
              "      <th>DATPRG</th>\n",
              "      <th>CODBDI</th>\n",
              "      <th>CODNEG</th>\n",
              "      <th>TPMERC</th>\n",
              "      <th>NOMRES</th>\n",
              "      <th>ESPECI</th>\n",
              "      <th>PRAZOT</th>\n",
              "      <th>MODREF</th>\n",
              "      <th>PREABE</th>\n",
              "      <th>PREMAX</th>\n",
              "      <th>PREMIN</th>\n",
              "      <th>PREMED</th>\n",
              "      <th>PREULT</th>\n",
              "      <th>PREOFC</th>\n",
              "      <th>PREOFV</th>\n",
              "      <th>TOTNEG</th>\n",
              "      <th>QUATOT</th>\n",
              "      <th>VOLTOT</th>\n",
              "      <th>PREEXE</th>\n",
              "      <th>INDOPC</th>\n",
              "      <th>DATVEN</th>\n",
              "      <th>FATCOT</th>\n",
              "      <th>PTOEXE</th>\n",
              "      <th>CODISI</th>\n",
              "      <th>DISMES</th>\n",
              "    </tr>\n",
              "  </thead>\n",
              "  <tbody>\n",
              "  </tbody>\n",
              "</table>\n",
              "</div>"
            ],
            "text/plain": [
              "Empty DataFrame\n",
              "Columns: [TIPREG, DATPRG, CODBDI, CODNEG, TPMERC, NOMRES, ESPECI, PRAZOT, MODREF, PREABE, PREMAX, PREMIN, PREMED, PREULT, PREOFC, PREOFV, TOTNEG, QUATOT, VOLTOT, PREEXE, INDOPC, DATVEN, FATCOT, PTOEXE, CODISI, DISMES]\n",
              "Index: []"
            ]
          },
          "metadata": {
            "tags": []
          },
          "execution_count": 19
        }
      ]
    },
    {
      "cell_type": "code",
      "metadata": {
        "id": "vfUiyOWrE79m",
        "colab_type": "code",
        "colab": {
          "base_uri": "https://localhost:8080/",
          "height": 289
        },
        "outputId": "996aa981-bcc9-49d5-caae-42a1ca21bf6e"
      },
      "source": [
        "bovespa.head()"
      ],
      "execution_count": 20,
      "outputs": [
        {
          "output_type": "execute_result",
          "data": {
            "text/html": [
              "<div>\n",
              "<style scoped>\n",
              "    .dataframe tbody tr th:only-of-type {\n",
              "        vertical-align: middle;\n",
              "    }\n",
              "\n",
              "    .dataframe tbody tr th {\n",
              "        vertical-align: top;\n",
              "    }\n",
              "\n",
              "    .dataframe thead th {\n",
              "        text-align: right;\n",
              "    }\n",
              "</style>\n",
              "<table border=\"1\" class=\"dataframe\">\n",
              "  <thead>\n",
              "    <tr style=\"text-align: right;\">\n",
              "      <th></th>\n",
              "      <th>TIPREG</th>\n",
              "      <th>DATPRG</th>\n",
              "      <th>CODBDI</th>\n",
              "      <th>CODNEG</th>\n",
              "      <th>TPMERC</th>\n",
              "      <th>NOMRES</th>\n",
              "      <th>ESPECI</th>\n",
              "      <th>PRAZOT</th>\n",
              "      <th>MODREF</th>\n",
              "      <th>PREABE</th>\n",
              "      <th>PREMAX</th>\n",
              "      <th>PREMIN</th>\n",
              "      <th>PREMED</th>\n",
              "      <th>PREULT</th>\n",
              "      <th>PREOFC</th>\n",
              "      <th>PREOFV</th>\n",
              "      <th>TOTNEG</th>\n",
              "      <th>QUATOT</th>\n",
              "      <th>VOLTOT</th>\n",
              "      <th>PREEXE</th>\n",
              "      <th>INDOPC</th>\n",
              "      <th>DATVEN</th>\n",
              "      <th>FATCOT</th>\n",
              "      <th>PTOEXE</th>\n",
              "      <th>CODISI</th>\n",
              "      <th>DISMES</th>\n",
              "    </tr>\n",
              "  </thead>\n",
              "  <tbody>\n",
              "    <tr>\n",
              "      <th>0</th>\n",
              "      <td>1</td>\n",
              "      <td>2020-07-31</td>\n",
              "      <td>2</td>\n",
              "      <td>A1MD34</td>\n",
              "      <td>10</td>\n",
              "      <td>ADVANCED MIC</td>\n",
              "      <td>DRN</td>\n",
              "      <td>NaN</td>\n",
              "      <td>R$</td>\n",
              "      <td>40300</td>\n",
              "      <td>40300</td>\n",
              "      <td>39960</td>\n",
              "      <td>40057</td>\n",
              "      <td>39960</td>\n",
              "      <td>0</td>\n",
              "      <td>0</td>\n",
              "      <td>2</td>\n",
              "      <td>70</td>\n",
              "      <td>2804000</td>\n",
              "      <td>0</td>\n",
              "      <td>0</td>\n",
              "      <td>99991231</td>\n",
              "      <td>1</td>\n",
              "      <td>0</td>\n",
              "      <td>BRA1MDBDR002</td>\n",
              "      <td>100</td>\n",
              "    </tr>\n",
              "    <tr>\n",
              "      <th>1</th>\n",
              "      <td>1</td>\n",
              "      <td>2020-07-31</td>\n",
              "      <td>2</td>\n",
              "      <td>A1PA34</td>\n",
              "      <td>10</td>\n",
              "      <td>APACHE CORP</td>\n",
              "      <td>DRN</td>\n",
              "      <td>NaN</td>\n",
              "      <td>R$</td>\n",
              "      <td>8016</td>\n",
              "      <td>8016</td>\n",
              "      <td>8012</td>\n",
              "      <td>8014</td>\n",
              "      <td>8012</td>\n",
              "      <td>0</td>\n",
              "      <td>0</td>\n",
              "      <td>5</td>\n",
              "      <td>290</td>\n",
              "      <td>2324140</td>\n",
              "      <td>0</td>\n",
              "      <td>0</td>\n",
              "      <td>99991231</td>\n",
              "      <td>1</td>\n",
              "      <td>0</td>\n",
              "      <td>BRA1PABDR001</td>\n",
              "      <td>103</td>\n",
              "    </tr>\n",
              "    <tr>\n",
              "      <th>2</th>\n",
              "      <td>1</td>\n",
              "      <td>2020-07-31</td>\n",
              "      <td>2</td>\n",
              "      <td>AALR3</td>\n",
              "      <td>10</td>\n",
              "      <td>ALLIAR</td>\n",
              "      <td>ON      NM</td>\n",
              "      <td>NaN</td>\n",
              "      <td>R$</td>\n",
              "      <td>1177</td>\n",
              "      <td>1186</td>\n",
              "      <td>1124</td>\n",
              "      <td>1146</td>\n",
              "      <td>1136</td>\n",
              "      <td>1136</td>\n",
              "      <td>1138</td>\n",
              "      <td>2622</td>\n",
              "      <td>933100</td>\n",
              "      <td>1069964100</td>\n",
              "      <td>0</td>\n",
              "      <td>0</td>\n",
              "      <td>99991231</td>\n",
              "      <td>1</td>\n",
              "      <td>0</td>\n",
              "      <td>BRAALRACNOR6</td>\n",
              "      <td>102</td>\n",
              "    </tr>\n",
              "    <tr>\n",
              "      <th>3</th>\n",
              "      <td>1</td>\n",
              "      <td>2020-07-31</td>\n",
              "      <td>2</td>\n",
              "      <td>AAPL34</td>\n",
              "      <td>10</td>\n",
              "      <td>APPLE</td>\n",
              "      <td>DRN</td>\n",
              "      <td>NaN</td>\n",
              "      <td>R$</td>\n",
              "      <td>21036</td>\n",
              "      <td>22218</td>\n",
              "      <td>21036</td>\n",
              "      <td>21806</td>\n",
              "      <td>22218</td>\n",
              "      <td>22000</td>\n",
              "      <td>22218</td>\n",
              "      <td>154</td>\n",
              "      <td>51950</td>\n",
              "      <td>1132853920</td>\n",
              "      <td>0</td>\n",
              "      <td>0</td>\n",
              "      <td>99991231</td>\n",
              "      <td>1</td>\n",
              "      <td>0</td>\n",
              "      <td>BRAAPLBDR004</td>\n",
              "      <td>133</td>\n",
              "    </tr>\n",
              "    <tr>\n",
              "      <th>4</th>\n",
              "      <td>1</td>\n",
              "      <td>2020-07-31</td>\n",
              "      <td>2</td>\n",
              "      <td>ABBV34</td>\n",
              "      <td>10</td>\n",
              "      <td>ABBVIE</td>\n",
              "      <td>DRN</td>\n",
              "      <td>NaN</td>\n",
              "      <td>R$</td>\n",
              "      <td>49410</td>\n",
              "      <td>49410</td>\n",
              "      <td>49030</td>\n",
              "      <td>49391</td>\n",
              "      <td>49030</td>\n",
              "      <td>0</td>\n",
              "      <td>0</td>\n",
              "      <td>3</td>\n",
              "      <td>210</td>\n",
              "      <td>10372300</td>\n",
              "      <td>0</td>\n",
              "      <td>0</td>\n",
              "      <td>99991231</td>\n",
              "      <td>1</td>\n",
              "      <td>0</td>\n",
              "      <td>BRABBVBDR001</td>\n",
              "      <td>118</td>\n",
              "    </tr>\n",
              "  </tbody>\n",
              "</table>\n",
              "</div>"
            ],
            "text/plain": [
              "   TIPREG     DATPRG  CODBDI  CODNEG  ...  FATCOT PTOEXE        CODISI  DISMES\n",
              "0       1 2020-07-31       2  A1MD34  ...       1      0  BRA1MDBDR002     100\n",
              "1       1 2020-07-31       2  A1PA34  ...       1      0  BRA1PABDR001     103\n",
              "2       1 2020-07-31       2   AALR3  ...       1      0  BRAALRACNOR6     102\n",
              "3       1 2020-07-31       2  AAPL34  ...       1      0  BRAAPLBDR004     133\n",
              "4       1 2020-07-31       2  ABBV34  ...       1      0  BRABBVBDR001     118\n",
              "\n",
              "[5 rows x 26 columns]"
            ]
          },
          "metadata": {
            "tags": []
          },
          "execution_count": 20
        }
      ]
    },
    {
      "cell_type": "code",
      "metadata": {
        "id": "WtsDJPlXFWLb",
        "colab_type": "code",
        "colab": {
          "base_uri": "https://localhost:8080/",
          "height": 578
        },
        "outputId": "bd533991-479d-4897-f3ca-eee58486cfcc"
      },
      "source": [
        "bovespa.info()"
      ],
      "execution_count": 21,
      "outputs": [
        {
          "output_type": "stream",
          "text": [
            "<class 'pandas.core.frame.DataFrame'>\n",
            "RangeIndex: 5062 entries, 0 to 5061\n",
            "Data columns (total 26 columns):\n",
            " #   Column  Non-Null Count  Dtype         \n",
            "---  ------  --------------  -----         \n",
            " 0   TIPREG  5062 non-null   int64         \n",
            " 1   DATPRG  5062 non-null   datetime64[ns]\n",
            " 2   CODBDI  5062 non-null   int64         \n",
            " 3   CODNEG  5062 non-null   object        \n",
            " 4   TPMERC  5062 non-null   int64         \n",
            " 5   NOMRES  5062 non-null   object        \n",
            " 6   ESPECI  5062 non-null   object        \n",
            " 7   PRAZOT  3903 non-null   float64       \n",
            " 8   MODREF  5062 non-null   object        \n",
            " 9   PREABE  5062 non-null   int64         \n",
            " 10  PREMAX  5062 non-null   int64         \n",
            " 11  PREMIN  5062 non-null   int64         \n",
            " 12  PREMED  5062 non-null   int64         \n",
            " 13  PREULT  5062 non-null   int64         \n",
            " 14  PREOFC  5062 non-null   int64         \n",
            " 15  PREOFV  5062 non-null   int64         \n",
            " 16  TOTNEG  5062 non-null   int64         \n",
            " 17  QUATOT  5062 non-null   int64         \n",
            " 18  VOLTOT  5062 non-null   int64         \n",
            " 19  PREEXE  5062 non-null   int64         \n",
            " 20  INDOPC  5062 non-null   int64         \n",
            " 21  DATVEN  5062 non-null   int64         \n",
            " 22  FATCOT  5062 non-null   int64         \n",
            " 23  PTOEXE  5062 non-null   int64         \n",
            " 24  CODISI  5062 non-null   object        \n",
            " 25  DISMES  5062 non-null   int64         \n",
            "dtypes: datetime64[ns](1), float64(1), int64(19), object(5)\n",
            "memory usage: 1.0+ MB\n"
          ],
          "name": "stdout"
        }
      ]
    },
    {
      "cell_type": "markdown",
      "metadata": {
        "id": "b_GmFeSuVZdy",
        "colab_type": "text"
      },
      "source": [
        "### CRIANDO NOVO DF BOVESPA (new_bovespa) baseado no df bovespa"
      ]
    },
    {
      "cell_type": "code",
      "metadata": {
        "id": "jDUBguwNVtqj",
        "colab_type": "code",
        "colab": {}
      },
      "source": [
        "new_bovespa= bovespa.drop(columns=[ 'CODBDI', 'TPMERC', 'PRAZOT', 'MODREF', 'PREMED', 'PREOFC', 'PREOFV',  'PREEXE', 'INDOPC', 'DATVEN', 'FATCOT', 'PTOEXE', 'CODISI', 'DISMES']) \n"
      ],
      "execution_count": 22,
      "outputs": []
    },
    {
      "cell_type": "code",
      "metadata": {
        "id": "9ULqZzXkYq76",
        "colab_type": "code",
        "colab": {
          "base_uri": "https://localhost:8080/",
          "height": 80
        },
        "outputId": "e6cda540-301c-4f55-8d49-d482f23b5453"
      },
      "source": [
        "new_bovespa.query('CODNEG == \"AAPL34\"').head(7)"
      ],
      "execution_count": 23,
      "outputs": [
        {
          "output_type": "execute_result",
          "data": {
            "text/html": [
              "<div>\n",
              "<style scoped>\n",
              "    .dataframe tbody tr th:only-of-type {\n",
              "        vertical-align: middle;\n",
              "    }\n",
              "\n",
              "    .dataframe tbody tr th {\n",
              "        vertical-align: top;\n",
              "    }\n",
              "\n",
              "    .dataframe thead th {\n",
              "        text-align: right;\n",
              "    }\n",
              "</style>\n",
              "<table border=\"1\" class=\"dataframe\">\n",
              "  <thead>\n",
              "    <tr style=\"text-align: right;\">\n",
              "      <th></th>\n",
              "      <th>TIPREG</th>\n",
              "      <th>DATPRG</th>\n",
              "      <th>CODNEG</th>\n",
              "      <th>NOMRES</th>\n",
              "      <th>ESPECI</th>\n",
              "      <th>PREABE</th>\n",
              "      <th>PREMAX</th>\n",
              "      <th>PREMIN</th>\n",
              "      <th>PREULT</th>\n",
              "      <th>TOTNEG</th>\n",
              "      <th>QUATOT</th>\n",
              "      <th>VOLTOT</th>\n",
              "    </tr>\n",
              "  </thead>\n",
              "  <tbody>\n",
              "    <tr>\n",
              "      <th>3</th>\n",
              "      <td>1</td>\n",
              "      <td>2020-07-31</td>\n",
              "      <td>AAPL34</td>\n",
              "      <td>APPLE</td>\n",
              "      <td>DRN</td>\n",
              "      <td>21036</td>\n",
              "      <td>22218</td>\n",
              "      <td>21036</td>\n",
              "      <td>22218</td>\n",
              "      <td>154</td>\n",
              "      <td>51950</td>\n",
              "      <td>1132853920</td>\n",
              "    </tr>\n",
              "  </tbody>\n",
              "</table>\n",
              "</div>"
            ],
            "text/plain": [
              "   TIPREG     DATPRG  CODNEG NOMRES  ... PREULT  TOTNEG  QUATOT      VOLTOT\n",
              "3       1 2020-07-31  AAPL34  APPLE  ...  22218     154   51950  1132853920\n",
              "\n",
              "[1 rows x 12 columns]"
            ]
          },
          "metadata": {
            "tags": []
          },
          "execution_count": 23
        }
      ]
    },
    {
      "cell_type": "code",
      "metadata": {
        "id": "s7_xzJPtY51T",
        "colab_type": "code",
        "colab": {}
      },
      "source": [
        "# COLOCANDO DECIMAL NOS CAMPOS PREABE, PREMAX, PREMIN  e PREULT\n",
        "from decimal import Decimal\n",
        "new_bovespa[\"PREABE\"] = new_bovespa[\"PREABE\"].apply(lambda x: int(x*10)/1000)\n",
        "new_bovespa[\"PREMAX\"] = new_bovespa[\"PREMAX\"].apply(lambda x: int(x*10)/1000)\n",
        "new_bovespa[\"PREMIN\"] = new_bovespa[\"PREMIN\"].apply(lambda x: int(x*10)/1000)\n",
        "new_bovespa[\"PREULT\"] = new_bovespa[\"PREULT\"].apply(lambda x: int(x*10)/1000)\n"
      ],
      "execution_count": 24,
      "outputs": []
    },
    {
      "cell_type": "code",
      "metadata": {
        "id": "kVL7F2eAiDM4",
        "colab_type": "code",
        "colab": {
          "base_uri": "https://localhost:8080/",
          "height": 80
        },
        "outputId": "58e7638a-69d2-437c-dca0-a632c41e7905"
      },
      "source": [
        "new_bovespa.query('CODNEG == \"AALR3\"').head(80)"
      ],
      "execution_count": 25,
      "outputs": [
        {
          "output_type": "execute_result",
          "data": {
            "text/html": [
              "<div>\n",
              "<style scoped>\n",
              "    .dataframe tbody tr th:only-of-type {\n",
              "        vertical-align: middle;\n",
              "    }\n",
              "\n",
              "    .dataframe tbody tr th {\n",
              "        vertical-align: top;\n",
              "    }\n",
              "\n",
              "    .dataframe thead th {\n",
              "        text-align: right;\n",
              "    }\n",
              "</style>\n",
              "<table border=\"1\" class=\"dataframe\">\n",
              "  <thead>\n",
              "    <tr style=\"text-align: right;\">\n",
              "      <th></th>\n",
              "      <th>TIPREG</th>\n",
              "      <th>DATPRG</th>\n",
              "      <th>CODNEG</th>\n",
              "      <th>NOMRES</th>\n",
              "      <th>ESPECI</th>\n",
              "      <th>PREABE</th>\n",
              "      <th>PREMAX</th>\n",
              "      <th>PREMIN</th>\n",
              "      <th>PREULT</th>\n",
              "      <th>TOTNEG</th>\n",
              "      <th>QUATOT</th>\n",
              "      <th>VOLTOT</th>\n",
              "    </tr>\n",
              "  </thead>\n",
              "  <tbody>\n",
              "    <tr>\n",
              "      <th>2</th>\n",
              "      <td>1</td>\n",
              "      <td>2020-07-31</td>\n",
              "      <td>AALR3</td>\n",
              "      <td>ALLIAR</td>\n",
              "      <td>ON      NM</td>\n",
              "      <td>11.77</td>\n",
              "      <td>11.86</td>\n",
              "      <td>11.24</td>\n",
              "      <td>11.36</td>\n",
              "      <td>2622</td>\n",
              "      <td>933100</td>\n",
              "      <td>1069964100</td>\n",
              "    </tr>\n",
              "  </tbody>\n",
              "</table>\n",
              "</div>"
            ],
            "text/plain": [
              "   TIPREG     DATPRG CODNEG  NOMRES  ... PREULT  TOTNEG  QUATOT      VOLTOT\n",
              "2       1 2020-07-31  AALR3  ALLIAR  ...  11.36    2622  933100  1069964100\n",
              "\n",
              "[1 rows x 12 columns]"
            ]
          },
          "metadata": {
            "tags": []
          },
          "execution_count": 25
        }
      ]
    },
    {
      "cell_type": "code",
      "metadata": {
        "id": "mnJ15Bs7nSas",
        "colab_type": "code",
        "colab": {
          "base_uri": "https://localhost:8080/",
          "height": 193
        },
        "outputId": "4e7ce25e-9f37-46a3-e574-2197cafd92af"
      },
      "source": [
        "# Verificando valores PREABE <99\n",
        "bovespa.query('PREABE <99').head(3)"
      ],
      "execution_count": 26,
      "outputs": [
        {
          "output_type": "execute_result",
          "data": {
            "text/html": [
              "<div>\n",
              "<style scoped>\n",
              "    .dataframe tbody tr th:only-of-type {\n",
              "        vertical-align: middle;\n",
              "    }\n",
              "\n",
              "    .dataframe tbody tr th {\n",
              "        vertical-align: top;\n",
              "    }\n",
              "\n",
              "    .dataframe thead th {\n",
              "        text-align: right;\n",
              "    }\n",
              "</style>\n",
              "<table border=\"1\" class=\"dataframe\">\n",
              "  <thead>\n",
              "    <tr style=\"text-align: right;\">\n",
              "      <th></th>\n",
              "      <th>TIPREG</th>\n",
              "      <th>DATPRG</th>\n",
              "      <th>CODBDI</th>\n",
              "      <th>CODNEG</th>\n",
              "      <th>TPMERC</th>\n",
              "      <th>NOMRES</th>\n",
              "      <th>ESPECI</th>\n",
              "      <th>PRAZOT</th>\n",
              "      <th>MODREF</th>\n",
              "      <th>PREABE</th>\n",
              "      <th>PREMAX</th>\n",
              "      <th>PREMIN</th>\n",
              "      <th>PREMED</th>\n",
              "      <th>PREULT</th>\n",
              "      <th>PREOFC</th>\n",
              "      <th>PREOFV</th>\n",
              "      <th>TOTNEG</th>\n",
              "      <th>QUATOT</th>\n",
              "      <th>VOLTOT</th>\n",
              "      <th>PREEXE</th>\n",
              "      <th>INDOPC</th>\n",
              "      <th>DATVEN</th>\n",
              "      <th>FATCOT</th>\n",
              "      <th>PTOEXE</th>\n",
              "      <th>CODISI</th>\n",
              "      <th>DISMES</th>\n",
              "    </tr>\n",
              "  </thead>\n",
              "  <tbody>\n",
              "    <tr>\n",
              "      <th>448</th>\n",
              "      <td>1</td>\n",
              "      <td>2020-07-31</td>\n",
              "      <td>8</td>\n",
              "      <td>MMXM11</td>\n",
              "      <td>10</td>\n",
              "      <td>MMX MINER</td>\n",
              "      <td>TPR     NM</td>\n",
              "      <td>NaN</td>\n",
              "      <td>R$</td>\n",
              "      <td>78</td>\n",
              "      <td>83</td>\n",
              "      <td>75</td>\n",
              "      <td>79</td>\n",
              "      <td>79</td>\n",
              "      <td>78</td>\n",
              "      <td>79</td>\n",
              "      <td>152</td>\n",
              "      <td>122600</td>\n",
              "      <td>9777700</td>\n",
              "      <td>0</td>\n",
              "      <td>0</td>\n",
              "      <td>99991231</td>\n",
              "      <td>1</td>\n",
              "      <td>0</td>\n",
              "      <td>BRMMXMTRV000</td>\n",
              "      <td>100</td>\n",
              "    </tr>\n",
              "    <tr>\n",
              "      <th>460</th>\n",
              "      <td>1</td>\n",
              "      <td>2020-07-31</td>\n",
              "      <td>8</td>\n",
              "      <td>SLED4</td>\n",
              "      <td>10</td>\n",
              "      <td>SARAIVA LIVR</td>\n",
              "      <td>PN      N2</td>\n",
              "      <td>NaN</td>\n",
              "      <td>R$</td>\n",
              "      <td>83</td>\n",
              "      <td>84</td>\n",
              "      <td>80</td>\n",
              "      <td>82</td>\n",
              "      <td>80</td>\n",
              "      <td>80</td>\n",
              "      <td>81</td>\n",
              "      <td>502</td>\n",
              "      <td>577800</td>\n",
              "      <td>47510800</td>\n",
              "      <td>0</td>\n",
              "      <td>0</td>\n",
              "      <td>99991231</td>\n",
              "      <td>1</td>\n",
              "      <td>0</td>\n",
              "      <td>BRSLEDACNPR7</td>\n",
              "      <td>156</td>\n",
              "    </tr>\n",
              "    <tr>\n",
              "      <th>497</th>\n",
              "      <td>1</td>\n",
              "      <td>2020-07-31</td>\n",
              "      <td>12</td>\n",
              "      <td>CARE11</td>\n",
              "      <td>10</td>\n",
              "      <td>FII DEA CARE</td>\n",
              "      <td>CI</td>\n",
              "      <td>NaN</td>\n",
              "      <td>R$</td>\n",
              "      <td>95</td>\n",
              "      <td>99</td>\n",
              "      <td>93</td>\n",
              "      <td>95</td>\n",
              "      <td>95</td>\n",
              "      <td>94</td>\n",
              "      <td>95</td>\n",
              "      <td>1117</td>\n",
              "      <td>438555</td>\n",
              "      <td>41663296</td>\n",
              "      <td>0</td>\n",
              "      <td>0</td>\n",
              "      <td>99991231</td>\n",
              "      <td>1</td>\n",
              "      <td>0</td>\n",
              "      <td>BRCARECTF000</td>\n",
              "      <td>103</td>\n",
              "    </tr>\n",
              "  </tbody>\n",
              "</table>\n",
              "</div>"
            ],
            "text/plain": [
              "     TIPREG     DATPRG  CODBDI  CODNEG  ...  FATCOT PTOEXE        CODISI  DISMES\n",
              "448       1 2020-07-31       8  MMXM11  ...       1      0  BRMMXMTRV000     100\n",
              "460       1 2020-07-31       8   SLED4  ...       1      0  BRSLEDACNPR7     156\n",
              "497       1 2020-07-31      12  CARE11  ...       1      0  BRCARECTF000     103\n",
              "\n",
              "[3 rows x 26 columns]"
            ]
          },
          "metadata": {
            "tags": []
          },
          "execution_count": 26
        }
      ]
    },
    {
      "cell_type": "code",
      "metadata": {
        "id": "cCAZeiygnWgq",
        "colab_type": "code",
        "colab": {
          "base_uri": "https://localhost:8080/",
          "height": 80
        },
        "outputId": "ef89cc57-ab0f-4ef4-d4e7-30896650c730"
      },
      "source": [
        "new_bovespa.query('CODNEG\t == \"FNAM11\"').head(3)"
      ],
      "execution_count": 27,
      "outputs": [
        {
          "output_type": "execute_result",
          "data": {
            "text/html": [
              "<div>\n",
              "<style scoped>\n",
              "    .dataframe tbody tr th:only-of-type {\n",
              "        vertical-align: middle;\n",
              "    }\n",
              "\n",
              "    .dataframe tbody tr th {\n",
              "        vertical-align: top;\n",
              "    }\n",
              "\n",
              "    .dataframe thead th {\n",
              "        text-align: right;\n",
              "    }\n",
              "</style>\n",
              "<table border=\"1\" class=\"dataframe\">\n",
              "  <thead>\n",
              "    <tr style=\"text-align: right;\">\n",
              "      <th></th>\n",
              "      <th>TIPREG</th>\n",
              "      <th>DATPRG</th>\n",
              "      <th>CODNEG</th>\n",
              "      <th>NOMRES</th>\n",
              "      <th>ESPECI</th>\n",
              "      <th>PREABE</th>\n",
              "      <th>PREMAX</th>\n",
              "      <th>PREMIN</th>\n",
              "      <th>PREULT</th>\n",
              "      <th>TOTNEG</th>\n",
              "      <th>QUATOT</th>\n",
              "      <th>VOLTOT</th>\n",
              "    </tr>\n",
              "  </thead>\n",
              "  <tbody>\n",
              "    <tr>\n",
              "      <th>673</th>\n",
              "      <td>1</td>\n",
              "      <td>2020-07-31</td>\n",
              "      <td>FNAM11</td>\n",
              "      <td>FINAM</td>\n",
              "      <td>CI *</td>\n",
              "      <td>0.16</td>\n",
              "      <td>0.17</td>\n",
              "      <td>0.15</td>\n",
              "      <td>0.16</td>\n",
              "      <td>161</td>\n",
              "      <td>200467000</td>\n",
              "      <td>3177217</td>\n",
              "    </tr>\n",
              "  </tbody>\n",
              "</table>\n",
              "</div>"
            ],
            "text/plain": [
              "     TIPREG     DATPRG  CODNEG NOMRES  ... PREULT  TOTNEG     QUATOT   VOLTOT\n",
              "673       1 2020-07-31  FNAM11  FINAM  ...   0.16     161  200467000  3177217\n",
              "\n",
              "[1 rows x 12 columns]"
            ]
          },
          "metadata": {
            "tags": []
          },
          "execution_count": 27
        }
      ]
    },
    {
      "cell_type": "code",
      "metadata": {
        "id": "_aBd1DGGdjUU",
        "colab_type": "code",
        "colab": {
          "base_uri": "https://localhost:8080/",
          "height": 306
        },
        "outputId": "ef92b2d7-ec38-48d6-d39b-f967989c583c"
      },
      "source": [
        "# Entendendo melhor os tipos de campos ==> https://pbpython.com/pandas_dtypes.html\n",
        "new_bovespa.dtypes"
      ],
      "execution_count": 31,
      "outputs": [
        {
          "output_type": "execute_result",
          "data": {
            "text/plain": [
              "TIPREG             int64\n",
              "DATPRG    datetime64[ns]\n",
              "CODNEG            object\n",
              "NOMRES            object\n",
              "ESPECI            object\n",
              "PREABE           float64\n",
              "PREMAX           float64\n",
              "PREMIN           float64\n",
              "PREULT           float64\n",
              "TOTNEG             int64\n",
              "QUATOT             int64\n",
              "VOLTOT             int64\n",
              "VALAF            float64\n",
              "VALMM            float64\n",
              "PERCAF           float64\n",
              "PERCMM           float64\n",
              "dtype: object"
            ]
          },
          "metadata": {
            "tags": []
          },
          "execution_count": 31
        }
      ]
    },
    {
      "cell_type": "code",
      "metadata": {
        "id": "_zlNdS6-oWSu",
        "colab_type": "code",
        "colab": {
          "base_uri": "https://localhost:8080/",
          "height": 80
        },
        "outputId": "4e81147f-985a-40a4-e5e0-329dbc0e1cef"
      },
      "source": [
        "## Criação de colunas com valores de variação e percentual\n",
        "\n",
        "new_bovespa['VALAF'] = new_bovespa['PREULT']-new_bovespa['PREABE']  # (VALOR/DIFERENCA ABERTURA FECHAMENTO ) ULTIMO PRECO MENOS PRECO ABERTURA  (DIARIO)\n",
        "new_bovespa['VALMM'] = new_bovespa['PREMAX']-new_bovespa['PREMIN']  # (VALOR PRECO MAXIMO MENOS PRECO MINIMO) PRECO MAXIMO MENOS PRECO MINIMO  (DIARIO)\n",
        "new_bovespa['PERCAF'] = round((new_bovespa['VALAF']/new_bovespa['PREULT'])*100,2)  # (PRECENTUAL ENTRE ABERTURA E FECHAMENTO) PORCENTAGEM CALCULADA ENTRE (DIFERENCA ENTRE ABERTURA E FECHAMENTO) SOBRE ULTIMO PRECO\n",
        "new_bovespa['PERCMM'] = round((new_bovespa['VALMM']/new_bovespa['PREMAX'])*100,2)  # (PRECENTUAL ENTRE MAXIMO MENOS PRECO MINIMO) CALCULADO ENTRE (DIFERENCA MAXIMO MENOS PRECO MINIMO) SOBRE PRECO MAXIMO\n",
        "\n",
        "\n",
        "\n",
        "new_bovespa.query('CODNEG == \"AAPL34\"').head(180)"
      ],
      "execution_count": 32,
      "outputs": [
        {
          "output_type": "execute_result",
          "data": {
            "text/html": [
              "<div>\n",
              "<style scoped>\n",
              "    .dataframe tbody tr th:only-of-type {\n",
              "        vertical-align: middle;\n",
              "    }\n",
              "\n",
              "    .dataframe tbody tr th {\n",
              "        vertical-align: top;\n",
              "    }\n",
              "\n",
              "    .dataframe thead th {\n",
              "        text-align: right;\n",
              "    }\n",
              "</style>\n",
              "<table border=\"1\" class=\"dataframe\">\n",
              "  <thead>\n",
              "    <tr style=\"text-align: right;\">\n",
              "      <th></th>\n",
              "      <th>TIPREG</th>\n",
              "      <th>DATPRG</th>\n",
              "      <th>CODNEG</th>\n",
              "      <th>NOMRES</th>\n",
              "      <th>ESPECI</th>\n",
              "      <th>PREABE</th>\n",
              "      <th>PREMAX</th>\n",
              "      <th>PREMIN</th>\n",
              "      <th>PREULT</th>\n",
              "      <th>TOTNEG</th>\n",
              "      <th>QUATOT</th>\n",
              "      <th>VOLTOT</th>\n",
              "      <th>VALAF</th>\n",
              "      <th>VALMM</th>\n",
              "      <th>PERCAF</th>\n",
              "      <th>PERCMM</th>\n",
              "    </tr>\n",
              "  </thead>\n",
              "  <tbody>\n",
              "    <tr>\n",
              "      <th>3</th>\n",
              "      <td>1</td>\n",
              "      <td>2020-07-31</td>\n",
              "      <td>AAPL34</td>\n",
              "      <td>APPLE</td>\n",
              "      <td>DRN</td>\n",
              "      <td>210.36</td>\n",
              "      <td>222.18</td>\n",
              "      <td>210.36</td>\n",
              "      <td>222.18</td>\n",
              "      <td>154</td>\n",
              "      <td>51950</td>\n",
              "      <td>1132853920</td>\n",
              "      <td>11.82</td>\n",
              "      <td>11.82</td>\n",
              "      <td>5.32</td>\n",
              "      <td>5.32</td>\n",
              "    </tr>\n",
              "  </tbody>\n",
              "</table>\n",
              "</div>"
            ],
            "text/plain": [
              "   TIPREG     DATPRG  CODNEG NOMRES  ...  VALAF  VALMM  PERCAF  PERCMM\n",
              "3       1 2020-07-31  AAPL34  APPLE  ...  11.82  11.82    5.32    5.32\n",
              "\n",
              "[1 rows x 16 columns]"
            ]
          },
          "metadata": {
            "tags": []
          },
          "execution_count": 32
        }
      ]
    },
    {
      "cell_type": "code",
      "metadata": {
        "id": "eIp7WlXgAWiJ",
        "colab_type": "code",
        "colab": {}
      },
      "source": [
        "(new_bovespa.query('CODNEG == \"VALE3\"').head(2)"
      ],
      "execution_count": null,
      "outputs": []
    },
    {
      "cell_type": "code",
      "metadata": {
        "id": "8Tf85jEuMmpm",
        "colab_type": "code",
        "colab": {
          "base_uri": "https://localhost:8080/",
          "height": 511
        },
        "outputId": "ec899d0e-3505-47d4-d93e-9f09999b6848"
      },
      "source": [
        "## Criando a tabela principal com empresas de codigo 02 e 08 das ações na base principal\n",
        "\n",
        "saida_teste1 = new_bovespa.query('CODBDI\t == \"02\" ')\n",
        "saida_teste2 = new_bovespa.query('CODBDI\t == \"08\" ')\n",
        "saida_teste = pd.concat([saida_teste1, saida_teste2])\n",
        "\n",
        "## Removendo empresas da tabela \n",
        "\n",
        "df_remove = saida_teste.loc[(saida_teste['ESPECI'] == \"DRN\")]\n",
        "\n",
        "ultimo_df = saida_teste.drop(df_remove.index)\n",
        "\n",
        "print (ultimo_df)"
      ],
      "execution_count": 35,
      "outputs": [
        {
          "output_type": "error",
          "ename": "UndefinedVariableError",
          "evalue": "ignored",
          "traceback": [
            "\u001b[0;31m---------------------------------------------------------------------------\u001b[0m",
            "\u001b[0;31mKeyError\u001b[0m                                  Traceback (most recent call last)",
            "\u001b[0;32m/usr/local/lib/python3.6/dist-packages/pandas/core/computation/scope.py\u001b[0m in \u001b[0;36mresolve\u001b[0;34m(self, key, is_local)\u001b[0m\n\u001b[1;32m    186\u001b[0m             \u001b[0;32mif\u001b[0m \u001b[0mself\u001b[0m\u001b[0;34m.\u001b[0m\u001b[0mhas_resolvers\u001b[0m\u001b[0;34m:\u001b[0m\u001b[0;34m\u001b[0m\u001b[0;34m\u001b[0m\u001b[0m\n\u001b[0;32m--> 187\u001b[0;31m                 \u001b[0;32mreturn\u001b[0m \u001b[0mself\u001b[0m\u001b[0;34m.\u001b[0m\u001b[0mresolvers\u001b[0m\u001b[0;34m[\u001b[0m\u001b[0mkey\u001b[0m\u001b[0;34m]\u001b[0m\u001b[0;34m\u001b[0m\u001b[0;34m\u001b[0m\u001b[0m\n\u001b[0m\u001b[1;32m    188\u001b[0m \u001b[0;34m\u001b[0m\u001b[0m\n",
            "\u001b[0;32m/usr/lib/python3.6/collections/__init__.py\u001b[0m in \u001b[0;36m__getitem__\u001b[0;34m(self, key)\u001b[0m\n\u001b[1;32m    882\u001b[0m                 \u001b[0;32mpass\u001b[0m\u001b[0;34m\u001b[0m\u001b[0;34m\u001b[0m\u001b[0m\n\u001b[0;32m--> 883\u001b[0;31m         \u001b[0;32mreturn\u001b[0m \u001b[0mself\u001b[0m\u001b[0;34m.\u001b[0m\u001b[0m__missing__\u001b[0m\u001b[0;34m(\u001b[0m\u001b[0mkey\u001b[0m\u001b[0;34m)\u001b[0m            \u001b[0;31m# support subclasses that define __missing__\u001b[0m\u001b[0;34m\u001b[0m\u001b[0;34m\u001b[0m\u001b[0m\n\u001b[0m\u001b[1;32m    884\u001b[0m \u001b[0;34m\u001b[0m\u001b[0m\n",
            "\u001b[0;32m/usr/lib/python3.6/collections/__init__.py\u001b[0m in \u001b[0;36m__missing__\u001b[0;34m(self, key)\u001b[0m\n\u001b[1;32m    874\u001b[0m     \u001b[0;32mdef\u001b[0m \u001b[0m__missing__\u001b[0m\u001b[0;34m(\u001b[0m\u001b[0mself\u001b[0m\u001b[0;34m,\u001b[0m \u001b[0mkey\u001b[0m\u001b[0;34m)\u001b[0m\u001b[0;34m:\u001b[0m\u001b[0;34m\u001b[0m\u001b[0;34m\u001b[0m\u001b[0m\n\u001b[0;32m--> 875\u001b[0;31m         \u001b[0;32mraise\u001b[0m \u001b[0mKeyError\u001b[0m\u001b[0;34m(\u001b[0m\u001b[0mkey\u001b[0m\u001b[0;34m)\u001b[0m\u001b[0;34m\u001b[0m\u001b[0;34m\u001b[0m\u001b[0m\n\u001b[0m\u001b[1;32m    876\u001b[0m \u001b[0;34m\u001b[0m\u001b[0m\n",
            "\u001b[0;31mKeyError\u001b[0m: 'CODBDI'",
            "\nDuring handling of the above exception, another exception occurred:\n",
            "\u001b[0;31mKeyError\u001b[0m                                  Traceback (most recent call last)",
            "\u001b[0;32m/usr/local/lib/python3.6/dist-packages/pandas/core/computation/scope.py\u001b[0m in \u001b[0;36mresolve\u001b[0;34m(self, key, is_local)\u001b[0m\n\u001b[1;32m    197\u001b[0m                 \u001b[0;31m# e.g., df[df > 0]\u001b[0m\u001b[0;34m\u001b[0m\u001b[0;34m\u001b[0m\u001b[0;34m\u001b[0m\u001b[0m\n\u001b[0;32m--> 198\u001b[0;31m                 \u001b[0;32mreturn\u001b[0m \u001b[0mself\u001b[0m\u001b[0;34m.\u001b[0m\u001b[0mtemps\u001b[0m\u001b[0;34m[\u001b[0m\u001b[0mkey\u001b[0m\u001b[0;34m]\u001b[0m\u001b[0;34m\u001b[0m\u001b[0;34m\u001b[0m\u001b[0m\n\u001b[0m\u001b[1;32m    199\u001b[0m             \u001b[0;32mexcept\u001b[0m \u001b[0mKeyError\u001b[0m\u001b[0;34m:\u001b[0m\u001b[0;34m\u001b[0m\u001b[0;34m\u001b[0m\u001b[0m\n",
            "\u001b[0;31mKeyError\u001b[0m: 'CODBDI'",
            "\nDuring handling of the above exception, another exception occurred:\n",
            "\u001b[0;31mUndefinedVariableError\u001b[0m                    Traceback (most recent call last)",
            "\u001b[0;32m<ipython-input-35-c3e5e3349d3d>\u001b[0m in \u001b[0;36m<module>\u001b[0;34m()\u001b[0m\n\u001b[1;32m      1\u001b[0m \u001b[0;31m## Criando a tabela principal com empresas de codigo 02 e 08 das ações na base principal\u001b[0m\u001b[0;34m\u001b[0m\u001b[0;34m\u001b[0m\u001b[0;34m\u001b[0m\u001b[0m\n\u001b[1;32m      2\u001b[0m \u001b[0;34m\u001b[0m\u001b[0m\n\u001b[0;32m----> 3\u001b[0;31m \u001b[0msaida_teste1\u001b[0m \u001b[0;34m=\u001b[0m \u001b[0mnew_bovespa\u001b[0m\u001b[0;34m.\u001b[0m\u001b[0mquery\u001b[0m\u001b[0;34m(\u001b[0m\u001b[0;34m'CODBDI         == \"02\" '\u001b[0m\u001b[0;34m)\u001b[0m\u001b[0;34m\u001b[0m\u001b[0;34m\u001b[0m\u001b[0m\n\u001b[0m\u001b[1;32m      4\u001b[0m \u001b[0msaida_teste2\u001b[0m \u001b[0;34m=\u001b[0m \u001b[0mnew_bovespa\u001b[0m\u001b[0;34m.\u001b[0m\u001b[0mquery\u001b[0m\u001b[0;34m(\u001b[0m\u001b[0;34m'CODBDI         == \"08\" '\u001b[0m\u001b[0;34m)\u001b[0m\u001b[0;34m\u001b[0m\u001b[0;34m\u001b[0m\u001b[0m\n\u001b[1;32m      5\u001b[0m \u001b[0msaida_teste\u001b[0m \u001b[0;34m=\u001b[0m \u001b[0mpd\u001b[0m\u001b[0;34m.\u001b[0m\u001b[0mconcat\u001b[0m\u001b[0;34m(\u001b[0m\u001b[0;34m[\u001b[0m\u001b[0msaida_teste1\u001b[0m\u001b[0;34m,\u001b[0m \u001b[0msaida_teste2\u001b[0m\u001b[0;34m]\u001b[0m\u001b[0;34m)\u001b[0m\u001b[0;34m\u001b[0m\u001b[0;34m\u001b[0m\u001b[0m\n",
            "\u001b[0;32m/usr/local/lib/python3.6/dist-packages/pandas/core/frame.py\u001b[0m in \u001b[0;36mquery\u001b[0;34m(self, expr, inplace, **kwargs)\u001b[0m\n\u001b[1;32m   3229\u001b[0m         \u001b[0mkwargs\u001b[0m\u001b[0;34m[\u001b[0m\u001b[0;34m\"level\"\u001b[0m\u001b[0;34m]\u001b[0m \u001b[0;34m=\u001b[0m \u001b[0mkwargs\u001b[0m\u001b[0;34m.\u001b[0m\u001b[0mpop\u001b[0m\u001b[0;34m(\u001b[0m\u001b[0;34m\"level\"\u001b[0m\u001b[0;34m,\u001b[0m \u001b[0;36m0\u001b[0m\u001b[0;34m)\u001b[0m \u001b[0;34m+\u001b[0m \u001b[0;36m1\u001b[0m\u001b[0;34m\u001b[0m\u001b[0;34m\u001b[0m\u001b[0m\n\u001b[1;32m   3230\u001b[0m         \u001b[0mkwargs\u001b[0m\u001b[0;34m[\u001b[0m\u001b[0;34m\"target\"\u001b[0m\u001b[0;34m]\u001b[0m \u001b[0;34m=\u001b[0m \u001b[0;32mNone\u001b[0m\u001b[0;34m\u001b[0m\u001b[0;34m\u001b[0m\u001b[0m\n\u001b[0;32m-> 3231\u001b[0;31m         \u001b[0mres\u001b[0m \u001b[0;34m=\u001b[0m \u001b[0mself\u001b[0m\u001b[0;34m.\u001b[0m\u001b[0meval\u001b[0m\u001b[0;34m(\u001b[0m\u001b[0mexpr\u001b[0m\u001b[0;34m,\u001b[0m \u001b[0;34m**\u001b[0m\u001b[0mkwargs\u001b[0m\u001b[0;34m)\u001b[0m\u001b[0;34m\u001b[0m\u001b[0;34m\u001b[0m\u001b[0m\n\u001b[0m\u001b[1;32m   3232\u001b[0m \u001b[0;34m\u001b[0m\u001b[0m\n\u001b[1;32m   3233\u001b[0m         \u001b[0;32mtry\u001b[0m\u001b[0;34m:\u001b[0m\u001b[0;34m\u001b[0m\u001b[0;34m\u001b[0m\u001b[0m\n",
            "\u001b[0;32m/usr/local/lib/python3.6/dist-packages/pandas/core/frame.py\u001b[0m in \u001b[0;36meval\u001b[0;34m(self, expr, inplace, **kwargs)\u001b[0m\n\u001b[1;32m   3344\u001b[0m         \u001b[0mkwargs\u001b[0m\u001b[0;34m[\u001b[0m\u001b[0;34m\"resolvers\"\u001b[0m\u001b[0;34m]\u001b[0m \u001b[0;34m=\u001b[0m \u001b[0mkwargs\u001b[0m\u001b[0;34m.\u001b[0m\u001b[0mget\u001b[0m\u001b[0;34m(\u001b[0m\u001b[0;34m\"resolvers\"\u001b[0m\u001b[0;34m,\u001b[0m \u001b[0;34m(\u001b[0m\u001b[0;34m)\u001b[0m\u001b[0;34m)\u001b[0m \u001b[0;34m+\u001b[0m \u001b[0mtuple\u001b[0m\u001b[0;34m(\u001b[0m\u001b[0mresolvers\u001b[0m\u001b[0;34m)\u001b[0m\u001b[0;34m\u001b[0m\u001b[0;34m\u001b[0m\u001b[0m\n\u001b[1;32m   3345\u001b[0m \u001b[0;34m\u001b[0m\u001b[0m\n\u001b[0;32m-> 3346\u001b[0;31m         \u001b[0;32mreturn\u001b[0m \u001b[0m_eval\u001b[0m\u001b[0;34m(\u001b[0m\u001b[0mexpr\u001b[0m\u001b[0;34m,\u001b[0m \u001b[0minplace\u001b[0m\u001b[0;34m=\u001b[0m\u001b[0minplace\u001b[0m\u001b[0;34m,\u001b[0m \u001b[0;34m**\u001b[0m\u001b[0mkwargs\u001b[0m\u001b[0;34m)\u001b[0m\u001b[0;34m\u001b[0m\u001b[0;34m\u001b[0m\u001b[0m\n\u001b[0m\u001b[1;32m   3347\u001b[0m \u001b[0;34m\u001b[0m\u001b[0m\n\u001b[1;32m   3348\u001b[0m     \u001b[0;32mdef\u001b[0m \u001b[0mselect_dtypes\u001b[0m\u001b[0;34m(\u001b[0m\u001b[0mself\u001b[0m\u001b[0;34m,\u001b[0m \u001b[0minclude\u001b[0m\u001b[0;34m=\u001b[0m\u001b[0;32mNone\u001b[0m\u001b[0;34m,\u001b[0m \u001b[0mexclude\u001b[0m\u001b[0;34m=\u001b[0m\u001b[0;32mNone\u001b[0m\u001b[0;34m)\u001b[0m \u001b[0;34m->\u001b[0m \u001b[0;34m\"DataFrame\"\u001b[0m\u001b[0;34m:\u001b[0m\u001b[0;34m\u001b[0m\u001b[0;34m\u001b[0m\u001b[0m\n",
            "\u001b[0;32m/usr/local/lib/python3.6/dist-packages/pandas/core/computation/eval.py\u001b[0m in \u001b[0;36meval\u001b[0;34m(expr, parser, engine, truediv, local_dict, global_dict, resolvers, level, target, inplace)\u001b[0m\n\u001b[1;32m    330\u001b[0m         )\n\u001b[1;32m    331\u001b[0m \u001b[0;34m\u001b[0m\u001b[0m\n\u001b[0;32m--> 332\u001b[0;31m         \u001b[0mparsed_expr\u001b[0m \u001b[0;34m=\u001b[0m \u001b[0mExpr\u001b[0m\u001b[0;34m(\u001b[0m\u001b[0mexpr\u001b[0m\u001b[0;34m,\u001b[0m \u001b[0mengine\u001b[0m\u001b[0;34m=\u001b[0m\u001b[0mengine\u001b[0m\u001b[0;34m,\u001b[0m \u001b[0mparser\u001b[0m\u001b[0;34m=\u001b[0m\u001b[0mparser\u001b[0m\u001b[0;34m,\u001b[0m \u001b[0menv\u001b[0m\u001b[0;34m=\u001b[0m\u001b[0menv\u001b[0m\u001b[0;34m)\u001b[0m\u001b[0;34m\u001b[0m\u001b[0;34m\u001b[0m\u001b[0m\n\u001b[0m\u001b[1;32m    333\u001b[0m \u001b[0;34m\u001b[0m\u001b[0m\n\u001b[1;32m    334\u001b[0m         \u001b[0;31m# construct the engine and evaluate the parsed expression\u001b[0m\u001b[0;34m\u001b[0m\u001b[0;34m\u001b[0m\u001b[0;34m\u001b[0m\u001b[0m\n",
            "\u001b[0;32m/usr/local/lib/python3.6/dist-packages/pandas/core/computation/expr.py\u001b[0m in \u001b[0;36m__init__\u001b[0;34m(self, expr, engine, parser, env, level)\u001b[0m\n\u001b[1;32m    762\u001b[0m         \u001b[0mself\u001b[0m\u001b[0;34m.\u001b[0m\u001b[0mparser\u001b[0m \u001b[0;34m=\u001b[0m \u001b[0mparser\u001b[0m\u001b[0;34m\u001b[0m\u001b[0;34m\u001b[0m\u001b[0m\n\u001b[1;32m    763\u001b[0m         \u001b[0mself\u001b[0m\u001b[0;34m.\u001b[0m\u001b[0m_visitor\u001b[0m \u001b[0;34m=\u001b[0m \u001b[0m_parsers\u001b[0m\u001b[0;34m[\u001b[0m\u001b[0mparser\u001b[0m\u001b[0;34m]\u001b[0m\u001b[0;34m(\u001b[0m\u001b[0mself\u001b[0m\u001b[0;34m.\u001b[0m\u001b[0menv\u001b[0m\u001b[0;34m,\u001b[0m \u001b[0mself\u001b[0m\u001b[0;34m.\u001b[0m\u001b[0mengine\u001b[0m\u001b[0;34m,\u001b[0m \u001b[0mself\u001b[0m\u001b[0;34m.\u001b[0m\u001b[0mparser\u001b[0m\u001b[0;34m)\u001b[0m\u001b[0;34m\u001b[0m\u001b[0;34m\u001b[0m\u001b[0m\n\u001b[0;32m--> 764\u001b[0;31m         \u001b[0mself\u001b[0m\u001b[0;34m.\u001b[0m\u001b[0mterms\u001b[0m \u001b[0;34m=\u001b[0m \u001b[0mself\u001b[0m\u001b[0;34m.\u001b[0m\u001b[0mparse\u001b[0m\u001b[0;34m(\u001b[0m\u001b[0;34m)\u001b[0m\u001b[0;34m\u001b[0m\u001b[0;34m\u001b[0m\u001b[0m\n\u001b[0m\u001b[1;32m    765\u001b[0m \u001b[0;34m\u001b[0m\u001b[0m\n\u001b[1;32m    766\u001b[0m     \u001b[0;34m@\u001b[0m\u001b[0mproperty\u001b[0m\u001b[0;34m\u001b[0m\u001b[0;34m\u001b[0m\u001b[0m\n",
            "\u001b[0;32m/usr/local/lib/python3.6/dist-packages/pandas/core/computation/expr.py\u001b[0m in \u001b[0;36mparse\u001b[0;34m(self)\u001b[0m\n\u001b[1;32m    779\u001b[0m     \u001b[0;32mdef\u001b[0m \u001b[0mparse\u001b[0m\u001b[0;34m(\u001b[0m\u001b[0mself\u001b[0m\u001b[0;34m)\u001b[0m\u001b[0;34m:\u001b[0m\u001b[0;34m\u001b[0m\u001b[0;34m\u001b[0m\u001b[0m\n\u001b[1;32m    780\u001b[0m         \u001b[0;34m\"\"\"Parse an expression\"\"\"\u001b[0m\u001b[0;34m\u001b[0m\u001b[0;34m\u001b[0m\u001b[0m\n\u001b[0;32m--> 781\u001b[0;31m         \u001b[0;32mreturn\u001b[0m \u001b[0mself\u001b[0m\u001b[0;34m.\u001b[0m\u001b[0m_visitor\u001b[0m\u001b[0;34m.\u001b[0m\u001b[0mvisit\u001b[0m\u001b[0;34m(\u001b[0m\u001b[0mself\u001b[0m\u001b[0;34m.\u001b[0m\u001b[0mexpr\u001b[0m\u001b[0;34m)\u001b[0m\u001b[0;34m\u001b[0m\u001b[0;34m\u001b[0m\u001b[0m\n\u001b[0m\u001b[1;32m    782\u001b[0m \u001b[0;34m\u001b[0m\u001b[0m\n\u001b[1;32m    783\u001b[0m     \u001b[0;34m@\u001b[0m\u001b[0mproperty\u001b[0m\u001b[0;34m\u001b[0m\u001b[0;34m\u001b[0m\u001b[0m\n",
            "\u001b[0;32m/usr/local/lib/python3.6/dist-packages/pandas/core/computation/expr.py\u001b[0m in \u001b[0;36mvisit\u001b[0;34m(self, node, **kwargs)\u001b[0m\n\u001b[1;32m    373\u001b[0m         \u001b[0mmethod\u001b[0m \u001b[0;34m=\u001b[0m \u001b[0;34m\"visit_\"\u001b[0m \u001b[0;34m+\u001b[0m \u001b[0mtype\u001b[0m\u001b[0;34m(\u001b[0m\u001b[0mnode\u001b[0m\u001b[0;34m)\u001b[0m\u001b[0;34m.\u001b[0m\u001b[0m__name__\u001b[0m\u001b[0;34m\u001b[0m\u001b[0;34m\u001b[0m\u001b[0m\n\u001b[1;32m    374\u001b[0m         \u001b[0mvisitor\u001b[0m \u001b[0;34m=\u001b[0m \u001b[0mgetattr\u001b[0m\u001b[0;34m(\u001b[0m\u001b[0mself\u001b[0m\u001b[0;34m,\u001b[0m \u001b[0mmethod\u001b[0m\u001b[0;34m)\u001b[0m\u001b[0;34m\u001b[0m\u001b[0;34m\u001b[0m\u001b[0m\n\u001b[0;32m--> 375\u001b[0;31m         \u001b[0;32mreturn\u001b[0m \u001b[0mvisitor\u001b[0m\u001b[0;34m(\u001b[0m\u001b[0mnode\u001b[0m\u001b[0;34m,\u001b[0m \u001b[0;34m**\u001b[0m\u001b[0mkwargs\u001b[0m\u001b[0;34m)\u001b[0m\u001b[0;34m\u001b[0m\u001b[0;34m\u001b[0m\u001b[0m\n\u001b[0m\u001b[1;32m    376\u001b[0m \u001b[0;34m\u001b[0m\u001b[0m\n\u001b[1;32m    377\u001b[0m     \u001b[0;32mdef\u001b[0m \u001b[0mvisit_Module\u001b[0m\u001b[0;34m(\u001b[0m\u001b[0mself\u001b[0m\u001b[0;34m,\u001b[0m \u001b[0mnode\u001b[0m\u001b[0;34m,\u001b[0m \u001b[0;34m**\u001b[0m\u001b[0mkwargs\u001b[0m\u001b[0;34m)\u001b[0m\u001b[0;34m:\u001b[0m\u001b[0;34m\u001b[0m\u001b[0;34m\u001b[0m\u001b[0m\n",
            "\u001b[0;32m/usr/local/lib/python3.6/dist-packages/pandas/core/computation/expr.py\u001b[0m in \u001b[0;36mvisit_Module\u001b[0;34m(self, node, **kwargs)\u001b[0m\n\u001b[1;32m    379\u001b[0m             \u001b[0;32mraise\u001b[0m \u001b[0mSyntaxError\u001b[0m\u001b[0;34m(\u001b[0m\u001b[0;34m\"only a single expression is allowed\"\u001b[0m\u001b[0;34m)\u001b[0m\u001b[0;34m\u001b[0m\u001b[0;34m\u001b[0m\u001b[0m\n\u001b[1;32m    380\u001b[0m         \u001b[0mexpr\u001b[0m \u001b[0;34m=\u001b[0m \u001b[0mnode\u001b[0m\u001b[0;34m.\u001b[0m\u001b[0mbody\u001b[0m\u001b[0;34m[\u001b[0m\u001b[0;36m0\u001b[0m\u001b[0;34m]\u001b[0m\u001b[0;34m\u001b[0m\u001b[0;34m\u001b[0m\u001b[0m\n\u001b[0;32m--> 381\u001b[0;31m         \u001b[0;32mreturn\u001b[0m \u001b[0mself\u001b[0m\u001b[0;34m.\u001b[0m\u001b[0mvisit\u001b[0m\u001b[0;34m(\u001b[0m\u001b[0mexpr\u001b[0m\u001b[0;34m,\u001b[0m \u001b[0;34m**\u001b[0m\u001b[0mkwargs\u001b[0m\u001b[0;34m)\u001b[0m\u001b[0;34m\u001b[0m\u001b[0;34m\u001b[0m\u001b[0m\n\u001b[0m\u001b[1;32m    382\u001b[0m \u001b[0;34m\u001b[0m\u001b[0m\n\u001b[1;32m    383\u001b[0m     \u001b[0;32mdef\u001b[0m \u001b[0mvisit_Expr\u001b[0m\u001b[0;34m(\u001b[0m\u001b[0mself\u001b[0m\u001b[0;34m,\u001b[0m \u001b[0mnode\u001b[0m\u001b[0;34m,\u001b[0m \u001b[0;34m**\u001b[0m\u001b[0mkwargs\u001b[0m\u001b[0;34m)\u001b[0m\u001b[0;34m:\u001b[0m\u001b[0;34m\u001b[0m\u001b[0;34m\u001b[0m\u001b[0m\n",
            "\u001b[0;32m/usr/local/lib/python3.6/dist-packages/pandas/core/computation/expr.py\u001b[0m in \u001b[0;36mvisit\u001b[0;34m(self, node, **kwargs)\u001b[0m\n\u001b[1;32m    373\u001b[0m         \u001b[0mmethod\u001b[0m \u001b[0;34m=\u001b[0m \u001b[0;34m\"visit_\"\u001b[0m \u001b[0;34m+\u001b[0m \u001b[0mtype\u001b[0m\u001b[0;34m(\u001b[0m\u001b[0mnode\u001b[0m\u001b[0;34m)\u001b[0m\u001b[0;34m.\u001b[0m\u001b[0m__name__\u001b[0m\u001b[0;34m\u001b[0m\u001b[0;34m\u001b[0m\u001b[0m\n\u001b[1;32m    374\u001b[0m         \u001b[0mvisitor\u001b[0m \u001b[0;34m=\u001b[0m \u001b[0mgetattr\u001b[0m\u001b[0;34m(\u001b[0m\u001b[0mself\u001b[0m\u001b[0;34m,\u001b[0m \u001b[0mmethod\u001b[0m\u001b[0;34m)\u001b[0m\u001b[0;34m\u001b[0m\u001b[0;34m\u001b[0m\u001b[0m\n\u001b[0;32m--> 375\u001b[0;31m         \u001b[0;32mreturn\u001b[0m \u001b[0mvisitor\u001b[0m\u001b[0;34m(\u001b[0m\u001b[0mnode\u001b[0m\u001b[0;34m,\u001b[0m \u001b[0;34m**\u001b[0m\u001b[0mkwargs\u001b[0m\u001b[0;34m)\u001b[0m\u001b[0;34m\u001b[0m\u001b[0;34m\u001b[0m\u001b[0m\n\u001b[0m\u001b[1;32m    376\u001b[0m \u001b[0;34m\u001b[0m\u001b[0m\n\u001b[1;32m    377\u001b[0m     \u001b[0;32mdef\u001b[0m \u001b[0mvisit_Module\u001b[0m\u001b[0;34m(\u001b[0m\u001b[0mself\u001b[0m\u001b[0;34m,\u001b[0m \u001b[0mnode\u001b[0m\u001b[0;34m,\u001b[0m \u001b[0;34m**\u001b[0m\u001b[0mkwargs\u001b[0m\u001b[0;34m)\u001b[0m\u001b[0;34m:\u001b[0m\u001b[0;34m\u001b[0m\u001b[0;34m\u001b[0m\u001b[0m\n",
            "\u001b[0;32m/usr/local/lib/python3.6/dist-packages/pandas/core/computation/expr.py\u001b[0m in \u001b[0;36mvisit_Expr\u001b[0;34m(self, node, **kwargs)\u001b[0m\n\u001b[1;32m    382\u001b[0m \u001b[0;34m\u001b[0m\u001b[0m\n\u001b[1;32m    383\u001b[0m     \u001b[0;32mdef\u001b[0m \u001b[0mvisit_Expr\u001b[0m\u001b[0;34m(\u001b[0m\u001b[0mself\u001b[0m\u001b[0;34m,\u001b[0m \u001b[0mnode\u001b[0m\u001b[0;34m,\u001b[0m \u001b[0;34m**\u001b[0m\u001b[0mkwargs\u001b[0m\u001b[0;34m)\u001b[0m\u001b[0;34m:\u001b[0m\u001b[0;34m\u001b[0m\u001b[0;34m\u001b[0m\u001b[0m\n\u001b[0;32m--> 384\u001b[0;31m         \u001b[0;32mreturn\u001b[0m \u001b[0mself\u001b[0m\u001b[0;34m.\u001b[0m\u001b[0mvisit\u001b[0m\u001b[0;34m(\u001b[0m\u001b[0mnode\u001b[0m\u001b[0;34m.\u001b[0m\u001b[0mvalue\u001b[0m\u001b[0;34m,\u001b[0m \u001b[0;34m**\u001b[0m\u001b[0mkwargs\u001b[0m\u001b[0;34m)\u001b[0m\u001b[0;34m\u001b[0m\u001b[0;34m\u001b[0m\u001b[0m\n\u001b[0m\u001b[1;32m    385\u001b[0m \u001b[0;34m\u001b[0m\u001b[0m\n\u001b[1;32m    386\u001b[0m     \u001b[0;32mdef\u001b[0m \u001b[0m_rewrite_membership_op\u001b[0m\u001b[0;34m(\u001b[0m\u001b[0mself\u001b[0m\u001b[0;34m,\u001b[0m \u001b[0mnode\u001b[0m\u001b[0;34m,\u001b[0m \u001b[0mleft\u001b[0m\u001b[0;34m,\u001b[0m \u001b[0mright\u001b[0m\u001b[0;34m)\u001b[0m\u001b[0;34m:\u001b[0m\u001b[0;34m\u001b[0m\u001b[0;34m\u001b[0m\u001b[0m\n",
            "\u001b[0;32m/usr/local/lib/python3.6/dist-packages/pandas/core/computation/expr.py\u001b[0m in \u001b[0;36mvisit\u001b[0;34m(self, node, **kwargs)\u001b[0m\n\u001b[1;32m    373\u001b[0m         \u001b[0mmethod\u001b[0m \u001b[0;34m=\u001b[0m \u001b[0;34m\"visit_\"\u001b[0m \u001b[0;34m+\u001b[0m \u001b[0mtype\u001b[0m\u001b[0;34m(\u001b[0m\u001b[0mnode\u001b[0m\u001b[0;34m)\u001b[0m\u001b[0;34m.\u001b[0m\u001b[0m__name__\u001b[0m\u001b[0;34m\u001b[0m\u001b[0;34m\u001b[0m\u001b[0m\n\u001b[1;32m    374\u001b[0m         \u001b[0mvisitor\u001b[0m \u001b[0;34m=\u001b[0m \u001b[0mgetattr\u001b[0m\u001b[0;34m(\u001b[0m\u001b[0mself\u001b[0m\u001b[0;34m,\u001b[0m \u001b[0mmethod\u001b[0m\u001b[0;34m)\u001b[0m\u001b[0;34m\u001b[0m\u001b[0;34m\u001b[0m\u001b[0m\n\u001b[0;32m--> 375\u001b[0;31m         \u001b[0;32mreturn\u001b[0m \u001b[0mvisitor\u001b[0m\u001b[0;34m(\u001b[0m\u001b[0mnode\u001b[0m\u001b[0;34m,\u001b[0m \u001b[0;34m**\u001b[0m\u001b[0mkwargs\u001b[0m\u001b[0;34m)\u001b[0m\u001b[0;34m\u001b[0m\u001b[0;34m\u001b[0m\u001b[0m\n\u001b[0m\u001b[1;32m    376\u001b[0m \u001b[0;34m\u001b[0m\u001b[0m\n\u001b[1;32m    377\u001b[0m     \u001b[0;32mdef\u001b[0m \u001b[0mvisit_Module\u001b[0m\u001b[0;34m(\u001b[0m\u001b[0mself\u001b[0m\u001b[0;34m,\u001b[0m \u001b[0mnode\u001b[0m\u001b[0;34m,\u001b[0m \u001b[0;34m**\u001b[0m\u001b[0mkwargs\u001b[0m\u001b[0;34m)\u001b[0m\u001b[0;34m:\u001b[0m\u001b[0;34m\u001b[0m\u001b[0;34m\u001b[0m\u001b[0m\n",
            "\u001b[0;32m/usr/local/lib/python3.6/dist-packages/pandas/core/computation/expr.py\u001b[0m in \u001b[0;36mvisit_Compare\u001b[0;34m(self, node, **kwargs)\u001b[0m\n\u001b[1;32m    674\u001b[0m             \u001b[0mop\u001b[0m \u001b[0;34m=\u001b[0m \u001b[0mself\u001b[0m\u001b[0;34m.\u001b[0m\u001b[0mtranslate_In\u001b[0m\u001b[0;34m(\u001b[0m\u001b[0mops\u001b[0m\u001b[0;34m[\u001b[0m\u001b[0;36m0\u001b[0m\u001b[0;34m]\u001b[0m\u001b[0;34m)\u001b[0m\u001b[0;34m\u001b[0m\u001b[0;34m\u001b[0m\u001b[0m\n\u001b[1;32m    675\u001b[0m             \u001b[0mbinop\u001b[0m \u001b[0;34m=\u001b[0m \u001b[0mast\u001b[0m\u001b[0;34m.\u001b[0m\u001b[0mBinOp\u001b[0m\u001b[0;34m(\u001b[0m\u001b[0mop\u001b[0m\u001b[0;34m=\u001b[0m\u001b[0mop\u001b[0m\u001b[0;34m,\u001b[0m \u001b[0mleft\u001b[0m\u001b[0;34m=\u001b[0m\u001b[0mnode\u001b[0m\u001b[0;34m.\u001b[0m\u001b[0mleft\u001b[0m\u001b[0;34m,\u001b[0m \u001b[0mright\u001b[0m\u001b[0;34m=\u001b[0m\u001b[0mcomps\u001b[0m\u001b[0;34m[\u001b[0m\u001b[0;36m0\u001b[0m\u001b[0;34m]\u001b[0m\u001b[0;34m)\u001b[0m\u001b[0;34m\u001b[0m\u001b[0;34m\u001b[0m\u001b[0m\n\u001b[0;32m--> 676\u001b[0;31m             \u001b[0;32mreturn\u001b[0m \u001b[0mself\u001b[0m\u001b[0;34m.\u001b[0m\u001b[0mvisit\u001b[0m\u001b[0;34m(\u001b[0m\u001b[0mbinop\u001b[0m\u001b[0;34m)\u001b[0m\u001b[0;34m\u001b[0m\u001b[0;34m\u001b[0m\u001b[0m\n\u001b[0m\u001b[1;32m    677\u001b[0m \u001b[0;34m\u001b[0m\u001b[0m\n\u001b[1;32m    678\u001b[0m         \u001b[0;31m# recursive case: we have a chained comparison, a CMP b CMP c, etc.\u001b[0m\u001b[0;34m\u001b[0m\u001b[0;34m\u001b[0m\u001b[0;34m\u001b[0m\u001b[0m\n",
            "\u001b[0;32m/usr/local/lib/python3.6/dist-packages/pandas/core/computation/expr.py\u001b[0m in \u001b[0;36mvisit\u001b[0;34m(self, node, **kwargs)\u001b[0m\n\u001b[1;32m    373\u001b[0m         \u001b[0mmethod\u001b[0m \u001b[0;34m=\u001b[0m \u001b[0;34m\"visit_\"\u001b[0m \u001b[0;34m+\u001b[0m \u001b[0mtype\u001b[0m\u001b[0;34m(\u001b[0m\u001b[0mnode\u001b[0m\u001b[0;34m)\u001b[0m\u001b[0;34m.\u001b[0m\u001b[0m__name__\u001b[0m\u001b[0;34m\u001b[0m\u001b[0;34m\u001b[0m\u001b[0m\n\u001b[1;32m    374\u001b[0m         \u001b[0mvisitor\u001b[0m \u001b[0;34m=\u001b[0m \u001b[0mgetattr\u001b[0m\u001b[0;34m(\u001b[0m\u001b[0mself\u001b[0m\u001b[0;34m,\u001b[0m \u001b[0mmethod\u001b[0m\u001b[0;34m)\u001b[0m\u001b[0;34m\u001b[0m\u001b[0;34m\u001b[0m\u001b[0m\n\u001b[0;32m--> 375\u001b[0;31m         \u001b[0;32mreturn\u001b[0m \u001b[0mvisitor\u001b[0m\u001b[0;34m(\u001b[0m\u001b[0mnode\u001b[0m\u001b[0;34m,\u001b[0m \u001b[0;34m**\u001b[0m\u001b[0mkwargs\u001b[0m\u001b[0;34m)\u001b[0m\u001b[0;34m\u001b[0m\u001b[0;34m\u001b[0m\u001b[0m\n\u001b[0m\u001b[1;32m    376\u001b[0m \u001b[0;34m\u001b[0m\u001b[0m\n\u001b[1;32m    377\u001b[0m     \u001b[0;32mdef\u001b[0m \u001b[0mvisit_Module\u001b[0m\u001b[0;34m(\u001b[0m\u001b[0mself\u001b[0m\u001b[0;34m,\u001b[0m \u001b[0mnode\u001b[0m\u001b[0;34m,\u001b[0m \u001b[0;34m**\u001b[0m\u001b[0mkwargs\u001b[0m\u001b[0;34m)\u001b[0m\u001b[0;34m:\u001b[0m\u001b[0;34m\u001b[0m\u001b[0;34m\u001b[0m\u001b[0m\n",
            "\u001b[0;32m/usr/local/lib/python3.6/dist-packages/pandas/core/computation/expr.py\u001b[0m in \u001b[0;36mvisit_BinOp\u001b[0;34m(self, node, **kwargs)\u001b[0m\n\u001b[1;32m    495\u001b[0m \u001b[0;34m\u001b[0m\u001b[0m\n\u001b[1;32m    496\u001b[0m     \u001b[0;32mdef\u001b[0m \u001b[0mvisit_BinOp\u001b[0m\u001b[0;34m(\u001b[0m\u001b[0mself\u001b[0m\u001b[0;34m,\u001b[0m \u001b[0mnode\u001b[0m\u001b[0;34m,\u001b[0m \u001b[0;34m**\u001b[0m\u001b[0mkwargs\u001b[0m\u001b[0;34m)\u001b[0m\u001b[0;34m:\u001b[0m\u001b[0;34m\u001b[0m\u001b[0;34m\u001b[0m\u001b[0m\n\u001b[0;32m--> 497\u001b[0;31m         \u001b[0mop\u001b[0m\u001b[0;34m,\u001b[0m \u001b[0mop_class\u001b[0m\u001b[0;34m,\u001b[0m \u001b[0mleft\u001b[0m\u001b[0;34m,\u001b[0m \u001b[0mright\u001b[0m \u001b[0;34m=\u001b[0m \u001b[0mself\u001b[0m\u001b[0;34m.\u001b[0m\u001b[0m_maybe_transform_eq_ne\u001b[0m\u001b[0;34m(\u001b[0m\u001b[0mnode\u001b[0m\u001b[0;34m)\u001b[0m\u001b[0;34m\u001b[0m\u001b[0;34m\u001b[0m\u001b[0m\n\u001b[0m\u001b[1;32m    498\u001b[0m         \u001b[0mleft\u001b[0m\u001b[0;34m,\u001b[0m \u001b[0mright\u001b[0m \u001b[0;34m=\u001b[0m \u001b[0mself\u001b[0m\u001b[0;34m.\u001b[0m\u001b[0m_maybe_downcast_constants\u001b[0m\u001b[0;34m(\u001b[0m\u001b[0mleft\u001b[0m\u001b[0;34m,\u001b[0m \u001b[0mright\u001b[0m\u001b[0;34m)\u001b[0m\u001b[0;34m\u001b[0m\u001b[0;34m\u001b[0m\u001b[0m\n\u001b[1;32m    499\u001b[0m         \u001b[0;32mreturn\u001b[0m \u001b[0mself\u001b[0m\u001b[0;34m.\u001b[0m\u001b[0m_maybe_evaluate_binop\u001b[0m\u001b[0;34m(\u001b[0m\u001b[0mop\u001b[0m\u001b[0;34m,\u001b[0m \u001b[0mop_class\u001b[0m\u001b[0;34m,\u001b[0m \u001b[0mleft\u001b[0m\u001b[0;34m,\u001b[0m \u001b[0mright\u001b[0m\u001b[0;34m)\u001b[0m\u001b[0;34m\u001b[0m\u001b[0;34m\u001b[0m\u001b[0m\n",
            "\u001b[0;32m/usr/local/lib/python3.6/dist-packages/pandas/core/computation/expr.py\u001b[0m in \u001b[0;36m_maybe_transform_eq_ne\u001b[0;34m(self, node, left, right)\u001b[0m\n\u001b[1;32m    414\u001b[0m     \u001b[0;32mdef\u001b[0m \u001b[0m_maybe_transform_eq_ne\u001b[0m\u001b[0;34m(\u001b[0m\u001b[0mself\u001b[0m\u001b[0;34m,\u001b[0m \u001b[0mnode\u001b[0m\u001b[0;34m,\u001b[0m \u001b[0mleft\u001b[0m\u001b[0;34m=\u001b[0m\u001b[0;32mNone\u001b[0m\u001b[0;34m,\u001b[0m \u001b[0mright\u001b[0m\u001b[0;34m=\u001b[0m\u001b[0;32mNone\u001b[0m\u001b[0;34m)\u001b[0m\u001b[0;34m:\u001b[0m\u001b[0;34m\u001b[0m\u001b[0;34m\u001b[0m\u001b[0m\n\u001b[1;32m    415\u001b[0m         \u001b[0;32mif\u001b[0m \u001b[0mleft\u001b[0m \u001b[0;32mis\u001b[0m \u001b[0;32mNone\u001b[0m\u001b[0;34m:\u001b[0m\u001b[0;34m\u001b[0m\u001b[0;34m\u001b[0m\u001b[0m\n\u001b[0;32m--> 416\u001b[0;31m             \u001b[0mleft\u001b[0m \u001b[0;34m=\u001b[0m \u001b[0mself\u001b[0m\u001b[0;34m.\u001b[0m\u001b[0mvisit\u001b[0m\u001b[0;34m(\u001b[0m\u001b[0mnode\u001b[0m\u001b[0;34m.\u001b[0m\u001b[0mleft\u001b[0m\u001b[0;34m,\u001b[0m \u001b[0mside\u001b[0m\u001b[0;34m=\u001b[0m\u001b[0;34m\"left\"\u001b[0m\u001b[0;34m)\u001b[0m\u001b[0;34m\u001b[0m\u001b[0;34m\u001b[0m\u001b[0m\n\u001b[0m\u001b[1;32m    417\u001b[0m         \u001b[0;32mif\u001b[0m \u001b[0mright\u001b[0m \u001b[0;32mis\u001b[0m \u001b[0;32mNone\u001b[0m\u001b[0;34m:\u001b[0m\u001b[0;34m\u001b[0m\u001b[0;34m\u001b[0m\u001b[0m\n\u001b[1;32m    418\u001b[0m             \u001b[0mright\u001b[0m \u001b[0;34m=\u001b[0m \u001b[0mself\u001b[0m\u001b[0;34m.\u001b[0m\u001b[0mvisit\u001b[0m\u001b[0;34m(\u001b[0m\u001b[0mnode\u001b[0m\u001b[0;34m.\u001b[0m\u001b[0mright\u001b[0m\u001b[0;34m,\u001b[0m \u001b[0mside\u001b[0m\u001b[0;34m=\u001b[0m\u001b[0;34m\"right\"\u001b[0m\u001b[0;34m)\u001b[0m\u001b[0;34m\u001b[0m\u001b[0;34m\u001b[0m\u001b[0m\n",
            "\u001b[0;32m/usr/local/lib/python3.6/dist-packages/pandas/core/computation/expr.py\u001b[0m in \u001b[0;36mvisit\u001b[0;34m(self, node, **kwargs)\u001b[0m\n\u001b[1;32m    373\u001b[0m         \u001b[0mmethod\u001b[0m \u001b[0;34m=\u001b[0m \u001b[0;34m\"visit_\"\u001b[0m \u001b[0;34m+\u001b[0m \u001b[0mtype\u001b[0m\u001b[0;34m(\u001b[0m\u001b[0mnode\u001b[0m\u001b[0;34m)\u001b[0m\u001b[0;34m.\u001b[0m\u001b[0m__name__\u001b[0m\u001b[0;34m\u001b[0m\u001b[0;34m\u001b[0m\u001b[0m\n\u001b[1;32m    374\u001b[0m         \u001b[0mvisitor\u001b[0m \u001b[0;34m=\u001b[0m \u001b[0mgetattr\u001b[0m\u001b[0;34m(\u001b[0m\u001b[0mself\u001b[0m\u001b[0;34m,\u001b[0m \u001b[0mmethod\u001b[0m\u001b[0;34m)\u001b[0m\u001b[0;34m\u001b[0m\u001b[0;34m\u001b[0m\u001b[0m\n\u001b[0;32m--> 375\u001b[0;31m         \u001b[0;32mreturn\u001b[0m \u001b[0mvisitor\u001b[0m\u001b[0;34m(\u001b[0m\u001b[0mnode\u001b[0m\u001b[0;34m,\u001b[0m \u001b[0;34m**\u001b[0m\u001b[0mkwargs\u001b[0m\u001b[0;34m)\u001b[0m\u001b[0;34m\u001b[0m\u001b[0;34m\u001b[0m\u001b[0m\n\u001b[0m\u001b[1;32m    376\u001b[0m \u001b[0;34m\u001b[0m\u001b[0m\n\u001b[1;32m    377\u001b[0m     \u001b[0;32mdef\u001b[0m \u001b[0mvisit_Module\u001b[0m\u001b[0;34m(\u001b[0m\u001b[0mself\u001b[0m\u001b[0;34m,\u001b[0m \u001b[0mnode\u001b[0m\u001b[0;34m,\u001b[0m \u001b[0;34m**\u001b[0m\u001b[0mkwargs\u001b[0m\u001b[0;34m)\u001b[0m\u001b[0;34m:\u001b[0m\u001b[0;34m\u001b[0m\u001b[0;34m\u001b[0m\u001b[0m\n",
            "\u001b[0;32m/usr/local/lib/python3.6/dist-packages/pandas/core/computation/expr.py\u001b[0m in \u001b[0;36mvisit_Name\u001b[0;34m(self, node, **kwargs)\u001b[0m\n\u001b[1;32m    508\u001b[0m \u001b[0;34m\u001b[0m\u001b[0m\n\u001b[1;32m    509\u001b[0m     \u001b[0;32mdef\u001b[0m \u001b[0mvisit_Name\u001b[0m\u001b[0;34m(\u001b[0m\u001b[0mself\u001b[0m\u001b[0;34m,\u001b[0m \u001b[0mnode\u001b[0m\u001b[0;34m,\u001b[0m \u001b[0;34m**\u001b[0m\u001b[0mkwargs\u001b[0m\u001b[0;34m)\u001b[0m\u001b[0;34m:\u001b[0m\u001b[0;34m\u001b[0m\u001b[0;34m\u001b[0m\u001b[0m\n\u001b[0;32m--> 510\u001b[0;31m         \u001b[0;32mreturn\u001b[0m \u001b[0mself\u001b[0m\u001b[0;34m.\u001b[0m\u001b[0mterm_type\u001b[0m\u001b[0;34m(\u001b[0m\u001b[0mnode\u001b[0m\u001b[0;34m.\u001b[0m\u001b[0mid\u001b[0m\u001b[0;34m,\u001b[0m \u001b[0mself\u001b[0m\u001b[0;34m.\u001b[0m\u001b[0menv\u001b[0m\u001b[0;34m,\u001b[0m \u001b[0;34m**\u001b[0m\u001b[0mkwargs\u001b[0m\u001b[0;34m)\u001b[0m\u001b[0;34m\u001b[0m\u001b[0;34m\u001b[0m\u001b[0m\n\u001b[0m\u001b[1;32m    511\u001b[0m \u001b[0;34m\u001b[0m\u001b[0m\n\u001b[1;32m    512\u001b[0m     \u001b[0;32mdef\u001b[0m \u001b[0mvisit_NameConstant\u001b[0m\u001b[0;34m(\u001b[0m\u001b[0mself\u001b[0m\u001b[0;34m,\u001b[0m \u001b[0mnode\u001b[0m\u001b[0;34m,\u001b[0m \u001b[0;34m**\u001b[0m\u001b[0mkwargs\u001b[0m\u001b[0;34m)\u001b[0m\u001b[0;34m:\u001b[0m\u001b[0;34m\u001b[0m\u001b[0;34m\u001b[0m\u001b[0m\n",
            "\u001b[0;32m/usr/local/lib/python3.6/dist-packages/pandas/core/computation/ops.py\u001b[0m in \u001b[0;36m__init__\u001b[0;34m(self, name, env, side, encoding)\u001b[0m\n\u001b[1;32m     80\u001b[0m         \u001b[0mtname\u001b[0m \u001b[0;34m=\u001b[0m \u001b[0mstr\u001b[0m\u001b[0;34m(\u001b[0m\u001b[0mname\u001b[0m\u001b[0;34m)\u001b[0m\u001b[0;34m\u001b[0m\u001b[0;34m\u001b[0m\u001b[0m\n\u001b[1;32m     81\u001b[0m         \u001b[0mself\u001b[0m\u001b[0;34m.\u001b[0m\u001b[0mis_local\u001b[0m \u001b[0;34m=\u001b[0m \u001b[0mtname\u001b[0m\u001b[0;34m.\u001b[0m\u001b[0mstartswith\u001b[0m\u001b[0;34m(\u001b[0m\u001b[0m_LOCAL_TAG\u001b[0m\u001b[0;34m)\u001b[0m \u001b[0;32mor\u001b[0m \u001b[0mtname\u001b[0m \u001b[0;32min\u001b[0m \u001b[0m_DEFAULT_GLOBALS\u001b[0m\u001b[0;34m\u001b[0m\u001b[0;34m\u001b[0m\u001b[0m\n\u001b[0;32m---> 82\u001b[0;31m         \u001b[0mself\u001b[0m\u001b[0;34m.\u001b[0m\u001b[0m_value\u001b[0m \u001b[0;34m=\u001b[0m \u001b[0mself\u001b[0m\u001b[0;34m.\u001b[0m\u001b[0m_resolve_name\u001b[0m\u001b[0;34m(\u001b[0m\u001b[0;34m)\u001b[0m\u001b[0;34m\u001b[0m\u001b[0;34m\u001b[0m\u001b[0m\n\u001b[0m\u001b[1;32m     83\u001b[0m         \u001b[0mself\u001b[0m\u001b[0;34m.\u001b[0m\u001b[0mencoding\u001b[0m \u001b[0;34m=\u001b[0m \u001b[0mencoding\u001b[0m\u001b[0;34m\u001b[0m\u001b[0;34m\u001b[0m\u001b[0m\n\u001b[1;32m     84\u001b[0m \u001b[0;34m\u001b[0m\u001b[0m\n",
            "\u001b[0;32m/usr/local/lib/python3.6/dist-packages/pandas/core/computation/ops.py\u001b[0m in \u001b[0;36m_resolve_name\u001b[0;34m(self)\u001b[0m\n\u001b[1;32m     97\u001b[0m \u001b[0;34m\u001b[0m\u001b[0m\n\u001b[1;32m     98\u001b[0m     \u001b[0;32mdef\u001b[0m \u001b[0m_resolve_name\u001b[0m\u001b[0;34m(\u001b[0m\u001b[0mself\u001b[0m\u001b[0;34m)\u001b[0m\u001b[0;34m:\u001b[0m\u001b[0;34m\u001b[0m\u001b[0;34m\u001b[0m\u001b[0m\n\u001b[0;32m---> 99\u001b[0;31m         \u001b[0mres\u001b[0m \u001b[0;34m=\u001b[0m \u001b[0mself\u001b[0m\u001b[0;34m.\u001b[0m\u001b[0menv\u001b[0m\u001b[0;34m.\u001b[0m\u001b[0mresolve\u001b[0m\u001b[0;34m(\u001b[0m\u001b[0mself\u001b[0m\u001b[0;34m.\u001b[0m\u001b[0mlocal_name\u001b[0m\u001b[0;34m,\u001b[0m \u001b[0mis_local\u001b[0m\u001b[0;34m=\u001b[0m\u001b[0mself\u001b[0m\u001b[0;34m.\u001b[0m\u001b[0mis_local\u001b[0m\u001b[0;34m)\u001b[0m\u001b[0;34m\u001b[0m\u001b[0;34m\u001b[0m\u001b[0m\n\u001b[0m\u001b[1;32m    100\u001b[0m         \u001b[0mself\u001b[0m\u001b[0;34m.\u001b[0m\u001b[0mupdate\u001b[0m\u001b[0;34m(\u001b[0m\u001b[0mres\u001b[0m\u001b[0;34m)\u001b[0m\u001b[0;34m\u001b[0m\u001b[0;34m\u001b[0m\u001b[0m\n\u001b[1;32m    101\u001b[0m \u001b[0;34m\u001b[0m\u001b[0m\n",
            "\u001b[0;32m/usr/local/lib/python3.6/dist-packages/pandas/core/computation/scope.py\u001b[0m in \u001b[0;36mresolve\u001b[0;34m(self, key, is_local)\u001b[0m\n\u001b[1;32m    201\u001b[0m                 \u001b[0;32mfrom\u001b[0m \u001b[0mpandas\u001b[0m\u001b[0;34m.\u001b[0m\u001b[0mcore\u001b[0m\u001b[0;34m.\u001b[0m\u001b[0mcomputation\u001b[0m\u001b[0;34m.\u001b[0m\u001b[0mops\u001b[0m \u001b[0;32mimport\u001b[0m \u001b[0mUndefinedVariableError\u001b[0m\u001b[0;34m\u001b[0m\u001b[0;34m\u001b[0m\u001b[0m\n\u001b[1;32m    202\u001b[0m \u001b[0;34m\u001b[0m\u001b[0m\n\u001b[0;32m--> 203\u001b[0;31m                 \u001b[0;32mraise\u001b[0m \u001b[0mUndefinedVariableError\u001b[0m\u001b[0;34m(\u001b[0m\u001b[0mkey\u001b[0m\u001b[0;34m,\u001b[0m \u001b[0mis_local\u001b[0m\u001b[0;34m)\u001b[0m\u001b[0;34m\u001b[0m\u001b[0;34m\u001b[0m\u001b[0m\n\u001b[0m\u001b[1;32m    204\u001b[0m \u001b[0;34m\u001b[0m\u001b[0m\n\u001b[1;32m    205\u001b[0m     \u001b[0;32mdef\u001b[0m \u001b[0mswapkey\u001b[0m\u001b[0;34m(\u001b[0m\u001b[0mself\u001b[0m\u001b[0;34m,\u001b[0m \u001b[0mold_key\u001b[0m\u001b[0;34m:\u001b[0m \u001b[0mstr\u001b[0m\u001b[0;34m,\u001b[0m \u001b[0mnew_key\u001b[0m\u001b[0;34m:\u001b[0m \u001b[0mstr\u001b[0m\u001b[0;34m,\u001b[0m \u001b[0mnew_value\u001b[0m\u001b[0;34m=\u001b[0m\u001b[0;32mNone\u001b[0m\u001b[0;34m)\u001b[0m\u001b[0;34m:\u001b[0m\u001b[0;34m\u001b[0m\u001b[0;34m\u001b[0m\u001b[0m\n",
            "\u001b[0;31mUndefinedVariableError\u001b[0m: name 'CODBDI' is not defined"
          ]
        }
      ]
    },
    {
      "cell_type": "markdown",
      "metadata": {
        "id": "fCYL-5JDjLYd",
        "colab_type": "text"
      },
      "source": [
        "### WEB SCRAPING COM SELENIUM NO GOOGLE LABS ( ISSO É MUITO BOM )"
      ]
    },
    {
      "cell_type": "code",
      "metadata": {
        "id": "eTchJiz7dz_7",
        "colab_type": "code",
        "colab": {
          "base_uri": "https://localhost:8080/",
          "height": 34
        },
        "outputId": "c2642ca9-b9a5-4643-bd2c-e52de20d1efd"
      },
      "source": [
        "#confirmando o total de linhas no df.\n",
        "# Todos os dias serão 5062 (com pouca variação) ações negociadas na bolsa\n",
        "new_bovespa.shape[0]"
      ],
      "execution_count": 40,
      "outputs": [
        {
          "output_type": "execute_result",
          "data": {
            "text/plain": [
              "5062"
            ]
          },
          "metadata": {
            "tags": []
          },
          "execution_count": 40
        }
      ]
    },
    {
      "cell_type": "code",
      "metadata": {
        "id": "57KXFyi3ivJe",
        "colab_type": "code",
        "colab": {
          "base_uri": "https://localhost:8080/",
          "height": 204
        },
        "outputId": "c65caa96-921f-4350-82fd-e3221fb0d436"
      },
      "source": [
        "#confirmando estrutura do df new_bovespa\n",
        "new_bovespa.head()"
      ],
      "execution_count": 41,
      "outputs": [
        {
          "output_type": "execute_result",
          "data": {
            "text/html": [
              "<div>\n",
              "<style scoped>\n",
              "    .dataframe tbody tr th:only-of-type {\n",
              "        vertical-align: middle;\n",
              "    }\n",
              "\n",
              "    .dataframe tbody tr th {\n",
              "        vertical-align: top;\n",
              "    }\n",
              "\n",
              "    .dataframe thead th {\n",
              "        text-align: right;\n",
              "    }\n",
              "</style>\n",
              "<table border=\"1\" class=\"dataframe\">\n",
              "  <thead>\n",
              "    <tr style=\"text-align: right;\">\n",
              "      <th></th>\n",
              "      <th>TIPREG</th>\n",
              "      <th>DATPRG</th>\n",
              "      <th>CODNEG</th>\n",
              "      <th>NOMRES</th>\n",
              "      <th>ESPECI</th>\n",
              "      <th>PREABE</th>\n",
              "      <th>PREMAX</th>\n",
              "      <th>PREMIN</th>\n",
              "      <th>PREULT</th>\n",
              "      <th>TOTNEG</th>\n",
              "      <th>QUATOT</th>\n",
              "      <th>VOLTOT</th>\n",
              "      <th>VALAF</th>\n",
              "      <th>VALMM</th>\n",
              "      <th>PERCAF</th>\n",
              "      <th>PERCMM</th>\n",
              "    </tr>\n",
              "  </thead>\n",
              "  <tbody>\n",
              "    <tr>\n",
              "      <th>0</th>\n",
              "      <td>1</td>\n",
              "      <td>2020-07-31</td>\n",
              "      <td>A1MD34</td>\n",
              "      <td>ADVANCED MIC</td>\n",
              "      <td>DRN</td>\n",
              "      <td>403.00</td>\n",
              "      <td>403.00</td>\n",
              "      <td>399.60</td>\n",
              "      <td>399.60</td>\n",
              "      <td>2</td>\n",
              "      <td>70</td>\n",
              "      <td>2804000</td>\n",
              "      <td>-3.40</td>\n",
              "      <td>3.40</td>\n",
              "      <td>-0.85</td>\n",
              "      <td>0.84</td>\n",
              "    </tr>\n",
              "    <tr>\n",
              "      <th>1</th>\n",
              "      <td>1</td>\n",
              "      <td>2020-07-31</td>\n",
              "      <td>A1PA34</td>\n",
              "      <td>APACHE CORP</td>\n",
              "      <td>DRN</td>\n",
              "      <td>80.16</td>\n",
              "      <td>80.16</td>\n",
              "      <td>80.12</td>\n",
              "      <td>80.12</td>\n",
              "      <td>5</td>\n",
              "      <td>290</td>\n",
              "      <td>2324140</td>\n",
              "      <td>-0.04</td>\n",
              "      <td>0.04</td>\n",
              "      <td>-0.05</td>\n",
              "      <td>0.05</td>\n",
              "    </tr>\n",
              "    <tr>\n",
              "      <th>2</th>\n",
              "      <td>1</td>\n",
              "      <td>2020-07-31</td>\n",
              "      <td>AALR3</td>\n",
              "      <td>ALLIAR</td>\n",
              "      <td>ON      NM</td>\n",
              "      <td>11.77</td>\n",
              "      <td>11.86</td>\n",
              "      <td>11.24</td>\n",
              "      <td>11.36</td>\n",
              "      <td>2622</td>\n",
              "      <td>933100</td>\n",
              "      <td>1069964100</td>\n",
              "      <td>-0.41</td>\n",
              "      <td>0.62</td>\n",
              "      <td>-3.61</td>\n",
              "      <td>5.23</td>\n",
              "    </tr>\n",
              "    <tr>\n",
              "      <th>3</th>\n",
              "      <td>1</td>\n",
              "      <td>2020-07-31</td>\n",
              "      <td>AAPL34</td>\n",
              "      <td>APPLE</td>\n",
              "      <td>DRN</td>\n",
              "      <td>210.36</td>\n",
              "      <td>222.18</td>\n",
              "      <td>210.36</td>\n",
              "      <td>222.18</td>\n",
              "      <td>154</td>\n",
              "      <td>51950</td>\n",
              "      <td>1132853920</td>\n",
              "      <td>11.82</td>\n",
              "      <td>11.82</td>\n",
              "      <td>5.32</td>\n",
              "      <td>5.32</td>\n",
              "    </tr>\n",
              "    <tr>\n",
              "      <th>4</th>\n",
              "      <td>1</td>\n",
              "      <td>2020-07-31</td>\n",
              "      <td>ABBV34</td>\n",
              "      <td>ABBVIE</td>\n",
              "      <td>DRN</td>\n",
              "      <td>494.10</td>\n",
              "      <td>494.10</td>\n",
              "      <td>490.30</td>\n",
              "      <td>490.30</td>\n",
              "      <td>3</td>\n",
              "      <td>210</td>\n",
              "      <td>10372300</td>\n",
              "      <td>-3.80</td>\n",
              "      <td>3.80</td>\n",
              "      <td>-0.78</td>\n",
              "      <td>0.77</td>\n",
              "    </tr>\n",
              "  </tbody>\n",
              "</table>\n",
              "</div>"
            ],
            "text/plain": [
              "   TIPREG     DATPRG  CODNEG        NOMRES  ...  VALAF  VALMM  PERCAF  PERCMM\n",
              "0       1 2020-07-31  A1MD34  ADVANCED MIC  ...  -3.40   3.40   -0.85    0.84\n",
              "1       1 2020-07-31  A1PA34   APACHE CORP  ...  -0.04   0.04   -0.05    0.05\n",
              "2       1 2020-07-31   AALR3        ALLIAR  ...  -0.41   0.62   -3.61    5.23\n",
              "3       1 2020-07-31  AAPL34         APPLE  ...  11.82  11.82    5.32    5.32\n",
              "4       1 2020-07-31  ABBV34        ABBVIE  ...  -3.80   3.80   -0.78    0.77\n",
              "\n",
              "[5 rows x 16 columns]"
            ]
          },
          "metadata": {
            "tags": []
          },
          "execution_count": 41
        }
      ]
    },
    {
      "cell_type": "code",
      "metadata": {
        "id": "ZswrJfpri9ns",
        "colab_type": "code",
        "colab": {
          "base_uri": "https://localhost:8080/",
          "height": 85
        },
        "outputId": "2c2318a6-60f3-42f1-c445-0826596742a3"
      },
      "source": [
        "colunas =[\"CODNEG\",\"DATPRG\"]\n",
        "ordem = [\"True\",\"False\"]\n",
        "new_bovespa_ordenado= new_bovespa.sort_values(by=colunas, ascending=ordem).head(2)\n",
        "\n",
        "for index, row in new_bovespa_ordenado.iterrows():\n",
        "    var_CODNEG = row['CODNEG']\n",
        "    var_DATPRG = row['DATPRG'] \n",
        "    print(var_CODNEG)\n",
        "    print(var_DATPRG)"
      ],
      "execution_count": 54,
      "outputs": [
        {
          "output_type": "stream",
          "text": [
            "A1MD34\n",
            "2020-07-31 00:00:00\n",
            "A1MD34F\n",
            "2020-07-31 00:00:00\n"
          ],
          "name": "stdout"
        }
      ]
    },
    {
      "cell_type": "code",
      "metadata": {
        "id": "nDeP71rpdmif",
        "colab_type": "code",
        "colab": {}
      },
      "source": [
        "!apt update\n",
        "!apt install chromium-chromedriver\n",
        "!pip install selenium\n",
        "import time\n",
        "from datetime import datetime, timedelta\n",
        "from selenium import webdriver\n",
        "import requests"
      ],
      "execution_count": null,
      "outputs": []
    },
    {
      "cell_type": "markdown",
      "metadata": {
        "id": "4ebYHE9RstIm",
        "colab_type": "text"
      },
      "source": [
        "### TEMOS UM PROBLEMINHA O WEBSCREP DEVE LEVAR CERCA DE 30 HORAS PARA PROCESSAR TODOS OS 5062 TITULOS."
      ]
    },
    {
      "cell_type": "code",
      "metadata": {
        "id": "ZVWO06Lrdm3Y",
        "colab_type": "code",
        "colab": {
          "base_uri": "https://localhost:8080/",
          "height": 969
        },
        "outputId": "d1441f4d-4800-4e38-f2d5-57112243da35"
      },
      "source": [
        "options = webdriver.ChromeOptions()\n",
        "options.add_argument('--headless')\n",
        "options.add_argument('--no-sandbox')\n",
        "options.add_argument('--disable-dev-shm-usage')\n",
        "driver = webdriver.Chrome('chromedriver',options=options)\n",
        "\n",
        "\n",
        "colunas =[\"CODNEG\",\"DATPRG\"]\n",
        "ordem = [\"True\",\"False\"]\n",
        "new_bovespa_ordenado= new_bovespa.sort_values(by=colunas, ascending=ordem).head(10)\n",
        "\n",
        "for index, row in new_bovespa_ordenado.iterrows():\n",
        "\n",
        "    var_CODNEG = row['CODNEG']\n",
        "    # FALTA FAZER O LAÇO\n",
        "    url  = 'https://www.fundamentus.com.br/detalhes.php?papel='+var_CODNEG\n",
        "    print(url)\n",
        "    try:\n",
        "        # print(\"URL EXISTE NÃO DEU ERRO\")\n",
        "        driver.get(url)\n",
        "        driver.implicitly_wait(20)\n",
        "        vpa          = driver.find_element_by_xpath('/html/body/div[1]/div[2]/table[3]/tbody/tr[3]/td[6]').text\n",
        "        empresa      = driver.find_element_by_xpath('/html/body/div[1]/div[2]/table[1]/tbody/tr[3]/td[2]').text\n",
        "        setor        = driver.find_element_by_xpath('/html/body/div[1]/div[2]/table[1]/tbody/tr[4]/td[2]/span/a').text\n",
        "        subsetor     = driver.find_element_by_xpath('/html/body/div[1]/div[2]/table[1]/tbody/tr[5]/td[2]/span/a').text\n",
        "        cotacao      = driver.find_element_by_xpath('/html/body/div[1]/div[2]/table[1]/tbody/tr[1]/td[4]').text\n",
        "        data_ult_cot = driver.find_element_by_xpath('/html/body/div[1]/div[2]/table[1]/tbody/tr[2]/td[4]/span').text\n",
        "        print(\"VPA : \" + vpa)\n",
        "        print(\"EMPRESA : \" + empresa)\n",
        "        print(\"SETOR : \" + setor)\n",
        "        print(\"SUBSETOR : \" + subsetor)\n",
        "        print(\"COTACAO : \" + cotacao)\n",
        "        print(\"DATA ULTIMA COTACAO : \" + data_ult_cot)\n",
        "    except Exception as erro:\n",
        "        print('Erro : ' , erro)\n",
        "        vpa=0\n",
        "    print('Bora Continuar')\n",
        "\n",
        "\n",
        "driver.close()"
      ],
      "execution_count": 58,
      "outputs": [
        {
          "output_type": "stream",
          "text": [
            "https://www.fundamentus.com.br/detalhes.php?papel=A1MD34\n",
            "Erro :  Message: no such element: Unable to locate element: {\"method\":\"xpath\",\"selector\":\"/html/body/div[1]/div[2]/table[3]/tbody/tr[3]/td[6]\"}\n",
            "  (Session info: headless chrome=83.0.4103.61)\n",
            "\n",
            "Bora Continuar\n",
            "https://www.fundamentus.com.br/detalhes.php?papel=A1MD34F\n",
            "Erro :  Message: no such element: Unable to locate element: {\"method\":\"xpath\",\"selector\":\"/html/body/div[1]/div[2]/table[3]/tbody/tr[3]/td[6]\"}\n",
            "  (Session info: headless chrome=83.0.4103.61)\n",
            "\n",
            "Bora Continuar\n",
            "https://www.fundamentus.com.br/detalhes.php?papel=A1PA34\n",
            "Erro :  Message: no such element: Unable to locate element: {\"method\":\"xpath\",\"selector\":\"/html/body/div[1]/div[2]/table[3]/tbody/tr[3]/td[6]\"}\n",
            "  (Session info: headless chrome=83.0.4103.61)\n",
            "\n",
            "Bora Continuar\n",
            "https://www.fundamentus.com.br/detalhes.php?papel=AALR3\n",
            "VPA : 10,68\n",
            "EMPRESA : ALLIAR ON NM\n",
            "SETOR : Saúde\n",
            "SUBSETOR : Serviços Médico - Hospitalares, Análises e Diagnósticos\n",
            "COTACAO : 11,36\n",
            "DATA ULTIMA COTACAO : 31/07/2020\n",
            "Bora Continuar\n",
            "https://www.fundamentus.com.br/detalhes.php?papel=AALR3F\n",
            "Erro :  Message: no such element: Unable to locate element: {\"method\":\"xpath\",\"selector\":\"/html/body/div[1]/div[2]/table[3]/tbody/tr[3]/td[6]\"}\n",
            "  (Session info: headless chrome=83.0.4103.61)\n",
            "\n",
            "Bora Continuar\n",
            "https://www.fundamentus.com.br/detalhes.php?papel=AAPL34\n",
            "Erro :  Message: no such element: Unable to locate element: {\"method\":\"xpath\",\"selector\":\"/html/body/div[1]/div[2]/table[3]/tbody/tr[3]/td[6]\"}\n",
            "  (Session info: headless chrome=83.0.4103.61)\n",
            "\n",
            "Bora Continuar\n",
            "https://www.fundamentus.com.br/detalhes.php?papel=AAPL34F\n",
            "Erro :  Message: no such element: Unable to locate element: {\"method\":\"xpath\",\"selector\":\"/html/body/div[1]/div[2]/table[3]/tbody/tr[3]/td[6]\"}\n",
            "  (Session info: headless chrome=83.0.4103.61)\n",
            "\n",
            "Bora Continuar\n",
            "https://www.fundamentus.com.br/detalhes.php?papel=ABBV34\n",
            "Erro :  Message: no such element: Unable to locate element: {\"method\":\"xpath\",\"selector\":\"/html/body/div[1]/div[2]/table[3]/tbody/tr[3]/td[6]\"}\n",
            "  (Session info: headless chrome=83.0.4103.61)\n",
            "\n",
            "Bora Continuar\n",
            "https://www.fundamentus.com.br/detalhes.php?papel=ABBV34F\n",
            "Erro :  Message: no such element: Unable to locate element: {\"method\":\"xpath\",\"selector\":\"/html/body/div[1]/div[2]/table[3]/tbody/tr[3]/td[6]\"}\n",
            "  (Session info: headless chrome=83.0.4103.61)\n",
            "\n",
            "Bora Continuar\n",
            "https://www.fundamentus.com.br/detalhes.php?papel=ABCB4\n",
            "VPA : 18,53\n",
            "EMPRESA : ABC Brasil PN N2\n",
            "SETOR : Financeiros\n",
            "SUBSETOR : Bancos\n",
            "COTACAO : 14,06\n",
            "DATA ULTIMA COTACAO : 31/07/2020\n",
            "Bora Continuar\n"
          ],
          "name": "stdout"
        }
      ]
    },
    {
      "cell_type": "markdown",
      "metadata": {
        "id": "8JZhI5xXOgkB",
        "colab_type": "text"
      },
      "source": [
        "### FILTRANDO PERIODO "
      ]
    },
    {
      "cell_type": "code",
      "metadata": {
        "id": "1CFEw1vyOlEa",
        "colab_type": "code",
        "colab": {
          "base_uri": "https://localhost:8080/",
          "height": 80
        },
        "outputId": "5386dc91-4c53-4ced-b98f-1b6d8a633c4e"
      },
      "source": [
        "new_bovespa.query('CODNEG == \"AAPL34\"').head(7)"
      ],
      "execution_count": 36,
      "outputs": [
        {
          "output_type": "execute_result",
          "data": {
            "text/html": [
              "<div>\n",
              "<style scoped>\n",
              "    .dataframe tbody tr th:only-of-type {\n",
              "        vertical-align: middle;\n",
              "    }\n",
              "\n",
              "    .dataframe tbody tr th {\n",
              "        vertical-align: top;\n",
              "    }\n",
              "\n",
              "    .dataframe thead th {\n",
              "        text-align: right;\n",
              "    }\n",
              "</style>\n",
              "<table border=\"1\" class=\"dataframe\">\n",
              "  <thead>\n",
              "    <tr style=\"text-align: right;\">\n",
              "      <th></th>\n",
              "      <th>TIPREG</th>\n",
              "      <th>DATPRG</th>\n",
              "      <th>CODNEG</th>\n",
              "      <th>NOMRES</th>\n",
              "      <th>ESPECI</th>\n",
              "      <th>PREABE</th>\n",
              "      <th>PREMAX</th>\n",
              "      <th>PREMIN</th>\n",
              "      <th>PREULT</th>\n",
              "      <th>TOTNEG</th>\n",
              "      <th>QUATOT</th>\n",
              "      <th>VOLTOT</th>\n",
              "      <th>VALAF</th>\n",
              "      <th>VALMM</th>\n",
              "      <th>PERCAF</th>\n",
              "      <th>PERCMM</th>\n",
              "    </tr>\n",
              "  </thead>\n",
              "  <tbody>\n",
              "    <tr>\n",
              "      <th>3</th>\n",
              "      <td>1</td>\n",
              "      <td>2020-07-31</td>\n",
              "      <td>AAPL34</td>\n",
              "      <td>APPLE</td>\n",
              "      <td>DRN</td>\n",
              "      <td>210.36</td>\n",
              "      <td>222.18</td>\n",
              "      <td>210.36</td>\n",
              "      <td>222.18</td>\n",
              "      <td>154</td>\n",
              "      <td>51950</td>\n",
              "      <td>1132853920</td>\n",
              "      <td>11.82</td>\n",
              "      <td>11.82</td>\n",
              "      <td>5.32</td>\n",
              "      <td>5.32</td>\n",
              "    </tr>\n",
              "  </tbody>\n",
              "</table>\n",
              "</div>"
            ],
            "text/plain": [
              "   TIPREG     DATPRG  CODNEG NOMRES  ...  VALAF  VALMM  PERCAF  PERCMM\n",
              "3       1 2020-07-31  AAPL34  APPLE  ...  11.82  11.82    5.32    5.32\n",
              "\n",
              "[1 rows x 16 columns]"
            ]
          },
          "metadata": {
            "tags": []
          },
          "execution_count": 36
        }
      ]
    },
    {
      "cell_type": "code",
      "metadata": {
        "id": "QEbvqihLRjLZ",
        "colab_type": "code",
        "colab": {}
      },
      "source": [
        "from datetime import datetime, timedelta\n",
        "\n",
        "data_atual= datetime.today() \n",
        "print (data_atual)\n",
        "\n",
        "\n",
        "data_menos = data_atual - timedelta(days = 7)\n",
        "print (data_menos)"
      ],
      "execution_count": null,
      "outputs": []
    },
    {
      "cell_type": "code",
      "metadata": {
        "id": "WhGPw8gwOujr",
        "colab_type": "code",
        "colab": {}
      },
      "source": [
        "from datetime import timedelta, date ,datetime\n",
        "'''\n",
        "now = datetime.now() print (now.year) print (now.month) print (now.day) print (now.hour) print (now.minute) print (now.second) hoje  = date.today() - timedelta(2) hojemenosxdias=120 diapassado = date.today() - timedelta(hojemenosxdias)\n",
        "print('hoje',hoje) print('diapassado',diapassado)\n",
        "'''\n",
        "ultimadata = new_bovespa.DATPRG.max()\n",
        "ultimadatamenosxdias=5\n",
        "ultimadatamenosxdias = ultimadata - timedelta(ultimadatamenosxdias) \n",
        "print('maior data',ultimadata)\n",
        "print('maior data menos x dias ',ultimadatamenosxdias)\n",
        "\n",
        "\n",
        "# Nesse exemplo selecionamos as datas entre 01/01/2018 e 10/02/2019\n",
        "selecao = (new_bovespa['DATPRG'] >= ultimadatamenosxdias ) & (new_bovespa['DATPRG'] <= ultimadata )\n",
        "\n",
        "df_filtrapordata = new_bovespa[selecao]\n",
        "\n",
        "# Apresentando o resultado\n",
        "print('Valor máximo:', df_filtrapordata.DATPRG.max())\n",
        "print('Valor mínimo:', df_filtrapordata.DATPRG.min())\n",
        "\n",
        "df_filtrapordataindx = df_filtrapordata.sort_values(['CODNEG', 'DATPRG'])\n",
        "\n",
        "# df_filtrapordataindx.head()\n",
        "\n",
        "for row in df_filtrapordataindx.iterrows():\n",
        "    print(row['CODNEG'] )\n",
        "    \n",
        "    #, row['DATPRG'])\n",
        "\n",
        "    # print row[\"CODNEG\"],row['DATPRG'],row['PREABE'])\n",
        "print() \n",
        "\n",
        "# iterating over rows using iterrows() function  \n",
        "#for i, j in df_filtrapordataindx.iterrows(): \n",
        "#    print(DATPRG, PREABE) \n",
        "#    print() \n",
        "\n",
        "\n",
        "\n",
        "\n",
        "# teste = df_filtrapordata[PREABE] df_filtrapordata.DATPRG.min())\n",
        "# df_filtrapordata['PREABE_PERIODO']=df_filtrapordata.DATPRG.min())\n",
        "\n",
        "\n",
        "#df_filtrapordata.head(180)"
      ],
      "execution_count": null,
      "outputs": []
    },
    {
      "cell_type": "code",
      "metadata": {
        "id": "T0Bf5N6Hh3Mb",
        "colab_type": "code",
        "colab": {}
      },
      "source": [
        ""
      ],
      "execution_count": null,
      "outputs": []
    },
    {
      "cell_type": "markdown",
      "metadata": {
        "id": "kqmgN_FVsUWs",
        "colab_type": "text"
      },
      "source": [
        "### ORDERNAR POR EMPRESA E DATA "
      ]
    },
    {
      "cell_type": "code",
      "metadata": {
        "id": "CqSAXuMmsbIc",
        "colab_type": "code",
        "colab": {}
      },
      "source": [
        "new_bovespa.query('CODNEG == \"AAPL34\"').head(7)"
      ],
      "execution_count": null,
      "outputs": []
    },
    {
      "cell_type": "code",
      "metadata": {
        "id": "YItin4Hgs-Mc",
        "colab_type": "code",
        "colab": {}
      },
      "source": [
        "from datetime import timedelta, date ,datetime\n",
        "pd.options.display.max_columns = None\n",
        "pd.options.display.max_rows = None\n",
        "#!pip install pandasql\n",
        "#import pandasql\n",
        "\n",
        "\"\"\"\n",
        "AS 3:00HS DA MATINA CABEÇA JÁ PEGANDO FOGO DESCUBRO O SEGUINTE....\n",
        "Não se deve usar indexacao encadeada https://www.it-swarm.dev/pt/python/definir-valor-para-uma-celula-especifica-em-pandas-dataframe-usando-o-indice/1070068676/\n",
        "Sacanagem quebraram minhas pernas.\n",
        "\n",
        "Enão vamos pelo jeito tradicional\n",
        "\n",
        "1.) Filtragem do dataset por data\n",
        "2.) Ordenação do dataset por CODNEG (do maior para o menor póderia ser inversa mais ai não teria graça) e DATAPRG (da menor para a maior esse tem que ser desta ordem)\n",
        "3.) Gardar no novo campo Rentabilidade_periodo o valor da primeira abertura PREABE menos o ultimo fechamento PREULT\n",
        "\n",
        "lista = []\n",
        "for i in range(len(df)): #para cada região\n",
        "v\n",
        "    for ano in anos: #seleciono os anos\n",
        "        soma += df.iloc[i][ano]\n",
        "    lista.append(soma)\n",
        ">>> print lista\n",
        "[80, 100]\n",
        "\"\"\"\n",
        "\n",
        "#  1.) Filtragem do dataset por data ( \"CUIDADO ==> LEMBRANDO PEGO A ULTIMA DATA DO ARQUIVO LOGO O ARQUIVO TEM QUE ESTAR ATUALIZADO\" )\n",
        "ultimadata = new_bovespa.DATPRG.max()\n",
        "ultimadatamenosxdias=5\n",
        "ultimadatamenosxdias = ultimadata - timedelta(ultimadatamenosxdias) \n",
        "selecao = (new_bovespa['DATPRG'] >= ultimadatamenosxdias ) & (new_bovespa['DATPRG'] <= ultimadata )\n",
        "df_filtrado_data = new_bovespa[selecao]\n",
        "## teste df_filtrado_data.query('CODNEG == \"AAPL34\"').head(180)\n",
        "\n",
        "# 2.) Ordenação do dataset por CODNEG (do maior para o menor póderia ser inversa mais ai não teria graça) e DATAPRG (da menor para a maior esse tem que ser desta ordem)\n",
        "colunas =[\"CODNEG\",\"DATPRG\"]\n",
        "ordem = [\"True\",\"False\"]\n",
        "df_filtrado_data_ordenado= df_filtrado_data.sort_values(by=colunas, ascending=ordem)\n",
        "## teste df_filtrado_data_ordenado.head(180)\n",
        "\n",
        "# 3.) Gardar no novo campo Rentabilidade_periodo (RENT_PER) o valor da primeira abertura PREABE menos o ultimo fechamento PREULT # https://www.it-swarm.dev/pt/python/qual-e-maneira-mais-eficiente-de-percorrer-os-quadros-de-dados-com-os-pandas/941554834/\n",
        "\n",
        "df_filtrado_data_ordenado.head()\n",
        "\n",
        "\n",
        "\n",
        "\n",
        "\n",
        "# var_PREABE = df_filtrado_data_ordenado[\"PREABE\"] var_PREULT = df_filtrado_data_ordenado[\"PREULT\"] \n",
        "\n",
        "# for row in df_filtrado_data_ordenado.itertuples(index=False):\n",
        "  #      var_PREABE = 0\n",
        "  #      var_PREULT = 0\n",
        "     # var_CODNEG = ''\n",
        "\n",
        "# CODNEG\n",
        "\n",
        "\n",
        "\n",
        "# for i in range(len(df_filtrado_data_ordenado[\"CODNEG\"] )): #para cada região\n",
        "\n",
        " # var_CODNEG = df_filtrado_data_ordenado[\"CODNEG\"]\n",
        "  #   print(i)\n",
        "\n",
        "                                                          ## PAREI AQUI "
      ],
      "execution_count": null,
      "outputs": []
    },
    {
      "cell_type": "code",
      "metadata": {
        "id": "o2-a8vlc__uf",
        "colab_type": "code",
        "colab": {}
      },
      "source": [
        "# A HORA DO ZARALHO\n",
        "\n",
        "var_DATPRG = ''\n",
        "var_CODNEG = ''\n",
        "var_NOMRES = ''\n",
        "var_ESPECI = ''\n",
        "var_PREABE = 0\n",
        "var_PREMAX\t= 0\n",
        "var_PREMIN = 0\n",
        "var_TOTNEG =0\t\n",
        "var_QUATOT\t=0\n",
        "var_VOLTOT\t=0\n",
        "var_VALAF\t= 0\n",
        "var_VALMM\t= 0\n",
        "var_PERCAF\t= 0\n",
        "var_PERCMM =0\n",
        "var_PREABE_PERIODO = 0\n",
        "var_PREULT_PERIODO=0\n",
        "# var_PREULT = 0\n",
        "\n",
        "df_filtrado_data_ordenado_historico = pd.DataFrame({'DATPRG': [], 'CODNEG': [] ,\n",
        "                   'NOMRES': [], 'ESPECI': [], \n",
        "                    'PREABE': [], 'PREMAX': [],\n",
        "                   \t'PREMIN': [], 'PREULT': [], \t\n",
        "                    'TOTNEG': [], 'QUATOT': [], \n",
        "                    'VOLTOT': [], 'VALAF': [], \n",
        "                    'VALMM': [], 'PERCAF': [], \n",
        "                   \t'PERCMM': [],       \n",
        "                    'PREABE_PERIODO': [], 'PREULT_PERIODO': []\n",
        "                   })\n",
        "                         \n",
        "# print('DATA               ','CODNEG','PREABE','PREABE_PERIODO','PREULT','PREULT_PREABE','|','var_diaPREULT_diaPREABE')  \n",
        "# for index, row in df_filtrado_data_ordenado.head(20).iterrows():\n",
        "\n",
        "for index, row in df_filtrado_data_ordenado.iterrows():\n",
        "      var_DATPRG = row['DATPRG']      ## var_CODNEG = row['CODNEG']  \n",
        "      var_NOMRES = row['NOMRES']  ;   var_ESPECI  = row['ESPECI'] \n",
        "      var_PREABE = row['PREABE']  ;   var_PREMAX\t= row['PREMAX']; \n",
        "      var_PREMIN = row['PREMIN']  ;   var_PREULT = row['PREULT']\n",
        "      var_TOTNEG = row['TOTNEG']  ;   var_QUATOT\t= row['QUATOT'] \n",
        "      var_VOLTOT = row['VOLTOT']  ;   var_VALAF\t= row['VALAF'] \n",
        "      var_VALMM\t = row['VALMM']   ;   var_PERCAF\t= row['PERCAF'] \n",
        "      var_PERCMM = row['PERCMM']             \n",
        "      if  ((var_CODNEG!=row['CODNEG']) and (var_PREABE_PERIODO != -1)):  \n",
        "           var_CODNEG = row['CODNEG']  \n",
        "           var_PREABE_PERIODO = row['PREABE'] \n",
        "           var_PREULT_PERIODO = row['PREULT'] - var_PREABE_PERIODO\n",
        "\n",
        "           df_filtrado_data_ordenado_historico = df_filtrado_data_ordenado_historico.append({'DATPRG': var_DATPRG, 'CODNEG': var_CODNEG,\n",
        "                           'NOMRES': var_NOMRES, 'ESPECI': var_ESPECI,\n",
        "                           'PREABE': var_PREABE, 'PREMAX': var_PREMAX,\n",
        "                           'PREMIN': var_PREMIN, 'PREULT': var_PREULT,\n",
        "                           'TOTNEG': var_TOTNEG, 'QUATOT': var_QUATOT,\n",
        "                           'VOLTOT': var_VOLTOT, 'VALAF': var_VALAF,\n",
        "                           'VALMM': var_VALMM, 'PERCAF': var_PERCAF,\n",
        "                           'PERCMM': var_PERCMM,\n",
        "                           'PREABE_PERIODO': var_PREABE_PERIODO, 'PREULT_PERIODO': var_PREULT_PERIODO                           \n",
        "                           }, ignore_index=True)\n",
        "\n",
        "           # df_filtrado_data_ordenado_historico = pd.DataFrame(data=obj)\n",
        "      else:        \n",
        "        var_DATPRG = row['DATPRG']\n",
        "        var_PREULT = row['PREULT']\n",
        "      #  var_PREULT_PREABE =  row['PREULT'] - var_PREABE_PERIODO \n",
        "        var_PREULT_PERIODO = row['PREULT'] - var_PREABE_PERIODO\n",
        "\n",
        "        df_filtrado_data_ordenado_historico = df_filtrado_data_ordenado_historico.append({'DATPRG': var_DATPRG, 'CODNEG': var_CODNEG,\n",
        "                           'NOMRES': var_NOMRES, 'ESPECI': var_ESPECI,\n",
        "                           'PREABE': var_PREABE, 'PREMAX': var_PREMAX,\n",
        "                           'PREMIN': var_PREMIN, 'PREULT': var_PREULT,\n",
        "                           'TOTNEG': var_TOTNEG, 'QUATOT': var_QUATOT,\n",
        "                           'VOLTOT': var_VOLTOT, 'VALAF': var_VALAF,\n",
        "                           'VALMM': var_VALMM, 'PERCAF': var_PERCAF,\n",
        "                           'PERCMM': var_PERCMM,\n",
        "                           'PREABE_PERIODO': var_PREABE_PERIODO, 'PREULT_PERIODO': var_PREULT_PERIODO                           \n",
        "                           }, ignore_index=True)\n",
        "\n",
        "df_filtrado_data_ordenado_historico.head(120)\n"
      ],
      "execution_count": null,
      "outputs": []
    },
    {
      "cell_type": "code",
      "metadata": {
        "id": "K6TWRG9K1uQU",
        "colab_type": "code",
        "colab": {}
      },
      "source": [
        "obj = {'DATPRG','CODNEG','NOMRES','ESPECI','PREABE','PREMAX','PREMIN','PREULT','TOTNEG','QUATOT','VOLTOT','VALAF','VALMM','PERCAF','PERCMM','PREULT_PERIODO','diaPREULT_diaPREABE'}\n",
        "df_filtrado_data_ordenado_historico = pd.DataFrame(data=obj)\n",
        "df_filtrado_data_ordenado_historico.head(20)"
      ],
      "execution_count": null,
      "outputs": []
    },
    {
      "cell_type": "markdown",
      "metadata": {
        "id": "SCoa76z29Som",
        "colab_type": "text"
      },
      "source": [
        "### TESTE DE APRENDISAGEM POR GRUPO"
      ]
    },
    {
      "cell_type": "code",
      "metadata": {
        "id": "yEbFgxcnr46F",
        "colab_type": "code",
        "colab": {}
      },
      "source": [
        "new_bovespa.query('CODNEG == \"VALE3\"').head()"
      ],
      "execution_count": null,
      "outputs": []
    },
    {
      "cell_type": "code",
      "metadata": {
        "id": "v2zZyOiJsSij",
        "colab_type": "code",
        "colab": {}
      },
      "source": [
        "grouped = data[['math score', 'reading score', 'writing score']].groupby(data['gender'])\n",
        "grouped.mean()"
      ],
      "execution_count": null,
      "outputs": []
    },
    {
      "cell_type": "code",
      "metadata": {
        "id": "ElDEhmocWWto",
        "colab_type": "code",
        "colab": {}
      },
      "source": [
        "# Criando dataframe para testes\n",
        "teste3_bovespa = new_bovespa\n",
        "# Python Burro não facilita a nossa vida Pq isso da errado \n",
        "#teste2_bovespa[\"VOLTOTmenosQUATOT\"] = teste_bovespa[\"VOLTOT\"]-teste_bovespa[\"QUATOT\"]\n",
        "# Então tomalhe lambda....\n",
        "teste3_bovespa['QUATOT - TOTNEG '] = teste2_bovespa.apply(lambda x: x['QUATOT'] - x['TOTNEG'], axis=1)\n",
        "#teste2_bovespa.info()\n",
        "teste3_bovespa.query('CODNEG == \"VALE3\"').head()\n"
      ],
      "execution_count": null,
      "outputs": []
    },
    {
      "cell_type": "code",
      "metadata": {
        "id": "OUJjcm-ZAsyP",
        "colab_type": "code",
        "colab": {}
      },
      "source": [
        "teste3_bovespa.info()"
      ],
      "execution_count": null,
      "outputs": []
    },
    {
      "cell_type": "code",
      "metadata": {
        "id": "qME16VzNELZs",
        "colab_type": "code",
        "colab": {}
      },
      "source": [
        "teste3_bovespa.query('CODNEG == \"VALE3\"').head()"
      ],
      "execution_count": null,
      "outputs": []
    },
    {
      "cell_type": "code",
      "metadata": {
        "id": "r5NVAH_D_2kr",
        "colab_type": "code",
        "colab": {}
      },
      "source": [
        "teste3_bovespa.insert(0,column=\"MES\",value=moth(\"DATPRG\"))\n",
        "teste3_bovespa.query('CODNEG == \"VALE3\"').head()"
      ],
      "execution_count": null,
      "outputs": []
    },
    {
      "cell_type": "code",
      "metadata": {
        "id": "v1nEoHfgALmS",
        "colab_type": "code",
        "colab": {}
      },
      "source": [
        "teste3_bovespa.info()"
      ],
      "execution_count": null,
      "outputs": []
    },
    {
      "cell_type": "code",
      "metadata": {
        "id": "KDhszH3a9P5e",
        "colab_type": "code",
        "colab": {}
      },
      "source": [
        " teste3_bovespa.groupby(level=['CODNEG', 'second']).sum()"
      ],
      "execution_count": null,
      "outputs": []
    },
    {
      "cell_type": "code",
      "metadata": {
        "id": "0C-ZK0SiaqvH",
        "colab_type": "code",
        "colab": {}
      },
      "source": [
        "# MSE ( ERRO MEDIO QUADRATICO OU << MEAN SQUAR ERRO >> \n",
        "#       EQUIVALE AO ERRO MEDIO ENTRE OS VALORES DO VETOR E A LINHA DO GRAFICO.)\n",
        "import numpy as np \n",
        "from sklearn.metrics import mean_squared_error\n",
        "mse = np.square(np.subtract(new_bovespa.PREULT,new_bovespa.VARIACAO_PERCENTUAL)).mean()\n",
        "print(mse)\n",
        "\n",
        "\n",
        "#Score de Variação ( correcção)\n",
        "#print ('score de variacao : %.f2' %mod.score(new_bovespa.PREULT,new_bovespa.VARIACAO_PERCENTUAL))"
      ],
      "execution_count": null,
      "outputs": []
    },
    {
      "cell_type": "code",
      "metadata": {
        "id": "QGQl_TV9mGmZ",
        "colab_type": "code",
        "colab": {}
      },
      "source": [
        "# import numpy as np \n",
        "# Given values \n",
        "# Y_true = [1,1,2,2,4]  # Y_true = Y (original values) \n",
        "# Calculated values \n",
        "# Y_pred = [0.6,1.29,1.99,2.69,3.4]  # Y_pred = Y' \n",
        "# Mean Squared Error \n",
        "# MSE = np.square(np.subtract(Y_true,Y_pred)).mean() \n",
        "# print(MSE)"
      ],
      "execution_count": null,
      "outputs": []
    },
    {
      "cell_type": "code",
      "metadata": {
        "id": "dtdDZycnmO_r",
        "colab_type": "code",
        "colab": {}
      },
      "source": [
        ""
      ],
      "execution_count": null,
      "outputs": []
    },
    {
      "cell_type": "code",
      "metadata": {
        "id": "7qm_khXzjV70",
        "colab_type": "code",
        "colab": {}
      },
      "source": [
        "!apt update\n",
        "!apt install chromium-chromedriver\n",
        "!pip install selenium\n",
        "# set options to be headless, ..\n",
        "from selenium import webdriver\n",
        "options = webdriver.ChromeOptions()\n",
        "options.add_argument('--headless')\n",
        "options.add_argument('--no-sandbox')\n",
        "options.add_argument('--disable-dev-shm-usage')\n",
        "# open it, go to a website, and get results\n",
        "wd = webdriver.Chrome('chromedriver',options=options)\n",
        "wd.get(\"https://www.google.com\")\n",
        "print(wd.page_source)  # results"
      ],
      "execution_count": null,
      "outputs": []
    },
    {
      "cell_type": "code",
      "metadata": {
        "id": "zJb6-lOsjbhG",
        "colab_type": "code",
        "colab": {}
      },
      "source": [
        "wd.get(\"https://www.fundamentus.com.br/detalhes.php?papel=PETR4\")\n",
        "print(wd.page_source) "
      ],
      "execution_count": null,
      "outputs": []
    },
    {
      "cell_type": "code",
      "metadata": {
        "id": "c2w3KRTq_jx7",
        "colab_type": "code",
        "colab": {}
      },
      "source": [
        "!apt update\n",
        "!apt install chromium-chromedriver\n",
        "!pip install selenium\n",
        "import time\n",
        "from datetime import datetime, timedelta\n",
        "from selenium import webdriver\n",
        "import requests"
      ],
      "execution_count": null,
      "outputs": []
    },
    {
      "cell_type": "code",
      "metadata": {
        "id": "-Drbyw1o-qTo",
        "colab_type": "code",
        "colab": {}
      },
      "source": [
        "options = webdriver.ChromeOptions()\n",
        "options.add_argument('--headless')\n",
        "options.add_argument('--no-sandbox')\n",
        "options.add_argument('--disable-dev-shm-usage')\n",
        "driver = webdriver.Chrome('chromedriver',options=options)\n",
        "\n",
        "# FALTA FAZER O LAÇO\n",
        "url  = 'https://www.fundamentus.com.br/detalhes.php?papel=PETDDDR4'\n",
        "try:\n",
        "    # print(\"URL EXISTE NÃO DEU ERRO\")\n",
        "    driver.get(url)\n",
        "    driver.implicitly_wait(20)\n",
        "    vpa          = driver.find_element_by_xpath('/html/body/div[1]/div[2]/table[3]/tbody/tr[3]/td[6]').text\n",
        "    empresa      = driver.find_element_by_xpath('/html/body/div[1]/div[2]/table[1]/tbody/tr[3]/td[2]').text\n",
        "    setor        = driver.find_element_by_xpath('/html/body/div[1]/div[2]/table[1]/tbody/tr[4]/td[2]/span/a').text\n",
        "    subsetor     = driver.find_element_by_xpath('/html/body/div[1]/div[2]/table[1]/tbody/tr[5]/td[2]/span/a').text\n",
        "    cotacao      = driver.find_element_by_xpath('/html/body/div[1]/div[2]/table[1]/tbody/tr[1]/td[4]').text\n",
        "    data_ult_cot = driver.find_element_by_xpath('/html/body/div[1]/div[2]/table[1]/tbody/tr[2]/td[4]/span').text\n",
        "    print(\"VPA : \" + vpa)\n",
        "    print(\"EMPRESA : \" + empresa)\n",
        "    print(\"SETOR : \" + setor)\n",
        "    print(\"SUBSETOR : \" + subsetor)\n",
        "    print(\"COTACAO : \" + cotacao)\n",
        "    print(\"DATA ULTIMA COTACAO : \" + data_ult_cot)\n",
        "except Exception as erro:\n",
        "    print('Erro : ' , erro)\n",
        "    vpa=0\n",
        "\n",
        "print('Bora Continuar')\n",
        "driver.close()"
      ],
      "execution_count": null,
      "outputs": []
    },
    {
      "cell_type": "code",
      "metadata": {
        "id": "oethu3sRym8s",
        "colab_type": "code",
        "colab": {}
      },
      "source": [
        ""
      ],
      "execution_count": null,
      "outputs": []
    }
  ]
}